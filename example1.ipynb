{
 "cells": [
  {
   "cell_type": "code",
   "execution_count": 2,
   "id": "b30c5c3c-2642-4dfa-a9c0-a84460542357",
   "metadata": {},
   "outputs": [
    {
     "name": "stdout",
     "output_type": "stream",
     "text": [
      "[[2 3 5]\n",
      " [3 4 7]]\n",
      "[[-2  3]\n",
      " [ 4  8]\n",
      " [-9  5]]\n",
      "AB = [[-37  55]\n",
      " [-53  76]]\n",
      "BA =  [[  5   6  11]\n",
      " [ 32  44  76]\n",
      " [ -3  -7 -10]]\n"
     ]
    }
   ],
   "source": [
    "import numpy as np\n",
    "A= np.array([[2,3,5],[3,4,7]])\n",
    "B=np.array([[-2,3],[4,8],[-9,5]])\n",
    "print(A)\n",
    "print(B)\n",
    "print(\"AB =\",np.dot(A,B))\n",
    "print(\"BA = \",np.dot(B,A))"
   ]
  },
  {
   "cell_type": "code",
   "execution_count": 7,
   "id": "1a1d551a-8c86-4cf0-b5cf-34230dead8a7",
   "metadata": {},
   "outputs": [
    {
     "name": "stdout",
     "output_type": "stream",
     "text": [
      "Dinh thuc detA =  -7.999999999999998\n",
      "Ma tran nghich dao cua detA =  [[-0.875  0.375]\n",
      " [ 0.625 -0.125]]\n",
      "[[ 1.00000000e+00 -2.77555756e-17]\n",
      " [ 0.00000000e+00  1.00000000e+00]]\n",
      "[[ 4 -6]\n",
      " [-8 12]]\n"
     ]
    }
   ],
   "source": [
    "import numpy as np\n",
    "A=np.array([[1,3],[5,7]])\n",
    "B=np.array([[4,-6],[-8,12]])\n",
    "detA=np.linalg.det(A)\n",
    "Ainv=np.linalg.inv(A)\n",
    "print(\"Dinh thuc detA = \",detA)\n",
    "print(\"Ma tran nghich dao cua detA = \",Ainv)\n",
    "I=np.dot(A,Ainv)\n",
    "print(I)\n",
    "detB=np.linalg.det(B)\n",
    "print(B)"
   ]
  },
  {
   "cell_type": "code",
   "execution_count": null,
   "id": "b56901b8-c20a-4f22-b231-1c3920bd2949",
   "metadata": {},
   "outputs": [],
   "source": []
  }
 ],
 "metadata": {
  "kernelspec": {
   "display_name": "Python 3 (ipykernel)",
   "language": "python",
   "name": "python3"
  },
  "language_info": {
   "codemirror_mode": {
    "name": "ipython",
    "version": 3
   },
   "file_extension": ".py",
   "mimetype": "text/x-python",
   "name": "python",
   "nbconvert_exporter": "python",
   "pygments_lexer": "ipython3",
   "version": "3.12.4"
  }
 },
 "nbformat": 4,
 "nbformat_minor": 5
}
