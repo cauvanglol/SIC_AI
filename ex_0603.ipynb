{
 "cells": [
  {
   "cell_type": "code",
   "execution_count": 1,
   "id": "8aa90a34-09e6-45e5-90e8-b12e00939949",
   "metadata": {},
   "outputs": [],
   "source": [
    "import re"
   ]
  },
  {
   "cell_type": "markdown",
   "id": "01f5579b-cd05-4da4-9697-ebad2b3b96f2",
   "metadata": {},
   "source": [
    "1. Regular expressions (groups):"
   ]
  },
  {
   "cell_type": "markdown",
   "id": "0716b0ed-e02a-446b-83c6-8881c94fb97c",
   "metadata": {},
   "source": [
    "1.1. Some examples of group:"
   ]
  },
  {
   "cell_type": "code",
   "execution_count": 2,
   "id": "806beaff-9f6e-4720-acee-f5911987db2d",
   "metadata": {},
   "outputs": [
    {
     "name": "stdout",
     "output_type": "stream",
     "text": [
      "22\n"
     ]
    }
   ],
   "source": [
    "reg_ex = re.compile(\"([0-9]+)\")\n",
    "m = reg_ex.search(\"I am 22 years old. She is 20 years old.\")\n",
    "print(m.group(1))"
   ]
  },
  {
   "cell_type": "code",
   "execution_count": 3,
   "id": "7e2f3b88-7d9a-46bb-b610-c6c880019cd7",
   "metadata": {},
   "outputs": [
    {
     "name": "stdout",
     "output_type": "stream",
     "text": [
      "22\n",
      "20\n"
     ]
    }
   ],
   "source": [
    "reg_ex = re.compile(\"([0-9]+)[^0-9]+([0-9]+)\")\n",
    "m = reg_ex.search(\"I am 22 years old. She is 20 years old.\")\n",
    "print(m.group(1))\n",
    "print(m.group(2))"
   ]
  },
  {
   "cell_type": "code",
   "execution_count": 4,
   "id": "bce7bf74-3de0-44ce-8b02-a81270bb58ac",
   "metadata": {},
   "outputs": [
    {
     "name": "stdout",
     "output_type": "stream",
     "text": [
      "John Wheeler\n",
      "010\n",
      "1234\n",
      "5678\n"
     ]
    }
   ],
   "source": [
    "reg_ex = re.compile(\"([^0-9]+)([0-9]+)[^0-9]+([0-9]+)[^0-9]+([0-9]+)\")\n",
    "m = reg_ex.search(\"John Wheeler 010-1234-5678\")\n",
    "print((m.group(1)).strip())\n",
    "print(m.group(2))\n",
    "print(m.group(3))\n",
    "print(m.group(4))"
   ]
  },
  {
   "cell_type": "markdown",
   "id": "91172ac2-1048-43ff-94e8-652d918e14e0",
   "metadata": {},
   "source": [
    "#### 1.2. Some exaples of group with shorthand expression:\n",
    "#### \\d   =   [0-9]  <br>\n",
    "#### \\D    =  [^0-9]  <br>\n",
    "#### \\w   =   [0-9a-zA-Z_]  <br>\n",
    "##### \\W    =  [^0-9a-zA-Z_]  <br>"
   ]
  },
  {
   "cell_type": "code",
   "execution_count": 5,
   "id": "9b5dc38b-9dd0-4c1c-a5e6-39792d3e20a9",
   "metadata": {},
   "outputs": [
    {
     "name": "stdout",
     "output_type": "stream",
     "text": [
      "22\n"
     ]
    },
    {
     "name": "stderr",
     "output_type": "stream",
     "text": [
      "<>:1: SyntaxWarning: invalid escape sequence '\\d'\n",
      "<>:1: SyntaxWarning: invalid escape sequence '\\d'\n",
      "C:\\Users\\Admin\\AppData\\Local\\Temp\\ipykernel_19068\\3715464251.py:1: SyntaxWarning: invalid escape sequence '\\d'\n",
      "  reg_ex = re.compile(\"(\\d+)\")\n"
     ]
    }
   ],
   "source": [
    "reg_ex = re.compile(\"(\\d+)\")\n",
    "m = reg_ex.search(\"I am 22 years old. She is 20 years old.\")\n",
    "print(m.group(1))"
   ]
  },
  {
   "cell_type": "code",
   "execution_count": 6,
   "id": "f04a38a2-2a83-4efe-9924-57052b468285",
   "metadata": {},
   "outputs": [
    {
     "name": "stdout",
     "output_type": "stream",
     "text": [
      "22\n",
      "20\n"
     ]
    },
    {
     "name": "stderr",
     "output_type": "stream",
     "text": [
      "<>:1: SyntaxWarning: invalid escape sequence '\\d'\n",
      "<>:1: SyntaxWarning: invalid escape sequence '\\d'\n",
      "C:\\Users\\Admin\\AppData\\Local\\Temp\\ipykernel_19068\\4286642521.py:1: SyntaxWarning: invalid escape sequence '\\d'\n",
      "  reg_ex = re.compile(\"(\\d+)\\D+(\\d+)\")\n"
     ]
    }
   ],
   "source": [
    "reg_ex = re.compile(\"(\\d+)\\D+(\\d+)\")\n",
    "m = reg_ex.search(\"I am 22 years old. She is 20 years old.\")\n",
    "print(m.group(1))\n",
    "print(m.group(2))"
   ]
  },
  {
   "cell_type": "code",
   "execution_count": 7,
   "id": "447d84a3-4197-4144-b3fb-c1f476640ad7",
   "metadata": {},
   "outputs": [
    {
     "name": "stdout",
     "output_type": "stream",
     "text": [
      "John Wheeler\n",
      "010\n",
      "1234\n",
      "5678\n"
     ]
    },
    {
     "name": "stderr",
     "output_type": "stream",
     "text": [
      "<>:1: SyntaxWarning: invalid escape sequence '\\D'\n",
      "<>:1: SyntaxWarning: invalid escape sequence '\\D'\n",
      "C:\\Users\\Admin\\AppData\\Local\\Temp\\ipykernel_19068\\4035954905.py:1: SyntaxWarning: invalid escape sequence '\\D'\n",
      "  reg_ex = re.compile(\"(\\D+)(\\d+)\\D+(\\d+)\\D+(\\d+)\")\n"
     ]
    }
   ],
   "source": [
    "reg_ex = re.compile(\"(\\D+)(\\d+)\\D+(\\d+)\\D+(\\d+)\")\n",
    "m = reg_ex.search(\"John Wheeler 010-1234-5678\")\n",
    "print((m.group(1)).strip())\n",
    "print(m.group(2))\n",
    "print(m.group(3))\n",
    "print(m.group(4))"
   ]
  },
  {
   "cell_type": "code",
   "execution_count": 8,
   "id": "66fa8c60-083f-4a46-a996-0962af2d4f50",
   "metadata": {},
   "outputs": [
    {
     "name": "stdout",
     "output_type": "stream",
     "text": [
      "John Wheeler 010-****-****\n"
     ]
    },
    {
     "name": "stderr",
     "output_type": "stream",
     "text": [
      "<>:2: SyntaxWarning: invalid escape sequence '\\D'\n",
      "<>:2: SyntaxWarning: invalid escape sequence '\\D'\n",
      "C:\\Users\\Admin\\AppData\\Local\\Temp\\ipykernel_19068\\1442449437.py:2: SyntaxWarning: invalid escape sequence '\\D'\n",
      "  reg_ex = re.compile(\"(\\D+)(\\d+)\\D+(\\d+)\\D+(\\d+)\")\n"
     ]
    }
   ],
   "source": [
    "# Hide the phone number.\n",
    "reg_ex = re.compile(\"(\\D+)(\\d+)\\D+(\\d+)\\D+(\\d+)\")\n",
    "m = reg_ex.search(\"John Wheeler 010-1234-5678\")\n",
    "print((m.group(1)).strip() + \" \" + m.group(2) + \"-****-****\")"
   ]
  },
  {
   "cell_type": "code",
   "execution_count": 9,
   "id": "97890166-f9d4-45f1-b53d-eeace35971a6",
   "metadata": {},
   "outputs": [
    {
     "name": "stdout",
     "output_type": "stream",
     "text": [
      "PHONE : 010-1234-5678\n"
     ]
    },
    {
     "name": "stderr",
     "output_type": "stream",
     "text": [
      "<>:2: SyntaxWarning: invalid escape sequence '\\D'\n",
      "<>:2: SyntaxWarning: invalid escape sequence '\\D'\n",
      "C:\\Users\\Admin\\AppData\\Local\\Temp\\ipykernel_19068\\1201817498.py:2: SyntaxWarning: invalid escape sequence '\\D'\n",
      "  reg_ex = re.compile(\"(\\D+)((\\d+)\\D+(\\d+)\\D+(\\d+))\")\n"
     ]
    }
   ],
   "source": [
    "# Extract only the phone number.\n",
    "reg_ex = re.compile(\"(\\D+)((\\d+)\\D+(\\d+)\\D+(\\d+))\")\n",
    "m = reg_ex.search(\"John Wheeler 010-1234-5678\")\n",
    "print(\"PHONE : \" + m.group(2))"
   ]
  },
  {
   "cell_type": "code",
   "execution_count": null,
   "id": "6ff75fde-f3d5-42f3-9ade-ac260b744ad6",
   "metadata": {},
   "outputs": [],
   "source": []
  }
 ],
 "metadata": {
  "kernelspec": {
   "display_name": "Python 3 (ipykernel)",
   "language": "python",
   "name": "python3"
  },
  "language_info": {
   "codemirror_mode": {
    "name": "ipython",
    "version": 3
   },
   "file_extension": ".py",
   "mimetype": "text/x-python",
   "name": "python",
   "nbconvert_exporter": "python",
   "pygments_lexer": "ipython3",
   "version": "3.12.4"
  }
 },
 "nbformat": 4,
 "nbformat_minor": 5
}
