{
 "cells": [
  {
   "cell_type": "code",
   "execution_count": null,
   "id": "5624bdff-812f-4240-bd81-3a7313b66c55",
   "metadata": {
    "jupyter": {
     "source_hidden": true
    }
   },
   "outputs": [],
   "source": [
    "0.1.1 1. Pandas Series:"
   ]
  },
  {
   "cell_type": "code",
   "execution_count": 20,
   "id": "494e7b16-b19a-486e-8ea9-d59f9c577ea6",
   "metadata": {},
   "outputs": [],
   "source": [
    "import pandas as pd\n",
    "import numpy as np"
   ]
  },
  {
   "cell_type": "code",
   "execution_count": null,
   "id": "a21725dc-50ae-47d6-90f3-5b673973ce6e",
   "metadata": {
    "jupyter": {
     "source_hidden": true
    }
   },
   "outputs": [],
   "source": [
    "1.1. Creating Series objects:"
   ]
  },
  {
   "cell_type": "code",
   "execution_count": 2,
   "id": "b7661443-938c-405a-b0d9-e2d2f0596775",
   "metadata": {},
   "outputs": [],
   "source": [
    "my_index = ['a','b','c']\n",
    "my_values = [222,333,444]\n",
    "my_dict = {'a':222, 'b':333, 'c':444}\n",
    "my_arr = np.array(my_values)"
   ]
  },
  {
   "cell_type": "code",
   "execution_count": 3,
   "id": "0ba57646-307a-4eaf-813f-7422a1116842",
   "metadata": {},
   "outputs": [
    {
     "data": {
      "text/plain": [
       "0    222\n",
       "1    333\n",
       "2    444\n",
       "dtype: int64"
      ]
     },
     "execution_count": 3,
     "metadata": {},
     "output_type": "execute_result"
    }
   ],
   "source": [
    " # Series with values.\n",
    "pd.Series(my_values)"
   ]
  },
  {
   "cell_type": "code",
   "execution_count": 4,
   "id": "d3692f65-3254-4cc0-a565-e2e9de043561",
   "metadata": {},
   "outputs": [
    {
     "data": {
      "text/plain": [
       "a    222\n",
       "b    333\n",
       "c    444\n",
       "dtype: int64"
      ]
     },
     "execution_count": 4,
     "metadata": {},
     "output_type": "execute_result"
    }
   ],
   "source": [
    "# Series with values and index labels.\n",
    "pd.Series(data=my_values, index=my_index)"
   ]
  },
  {
   "cell_type": "code",
   "execution_count": 5,
   "id": "facb4b9a-ec71-4d67-a1f5-63a12d913548",
   "metadata": {},
   "outputs": [
    {
     "data": {
      "text/plain": [
       "0    222\n",
       "1    333\n",
       "2    444\n",
       "dtype: int32"
      ]
     },
     "execution_count": 5,
     "metadata": {},
     "output_type": "execute_result"
    }
   ],
   "source": [
    "# Series from a NumPy array.\n",
    "pd.Series(my_arr)"
   ]
  },
  {
   "cell_type": "code",
   "execution_count": 6,
   "id": "18bbab64-bafb-41c6-928b-a3d612b8e04a",
   "metadata": {},
   "outputs": [
    {
     "data": {
      "text/plain": [
       "a    222\n",
       "b    333\n",
       "c    444\n",
       "dtype: int32"
      ]
     },
     "execution_count": 6,
     "metadata": {},
     "output_type": "execute_result"
    }
   ],
   "source": [
    "# Series from a NumPy array with index labels.\n",
    "pd.Series(my_arr, index=my_index)"
   ]
  },
  {
   "cell_type": "code",
   "execution_count": 7,
   "id": "7173a629-6ecd-4afa-8de2-42103f038f8f",
   "metadata": {},
   "outputs": [
    {
     "data": {
      "text/plain": [
       "a    222\n",
       "b    333\n",
       "c    444\n",
       "dtype: int64"
      ]
     },
     "execution_count": 7,
     "metadata": {},
     "output_type": "execute_result"
    }
   ],
   "source": [
    "# Series from a dictionary.\n",
    "pd.Series(my_dict)"
   ]
  },
  {
   "cell_type": "code",
   "execution_count": null,
   "id": "5fbb6335-34b1-4ac8-96bb-4ba941fc7bcd",
   "metadata": {
    "jupyter": {
     "source_hidden": true
    }
   },
   "outputs": [],
   "source": [
    "1.2. Series attributes and indexing:"
   ]
  },
  {
   "cell_type": "code",
   "execution_count": 11,
   "id": "da204ae0-74a3-4da6-974d-349d97fc0659",
   "metadata": {},
   "outputs": [
    {
     "data": {
      "text/plain": [
       "a    111\n",
       "b    222\n",
       "c    333\n",
       "d    444\n",
       "Name: MySeries, dtype: int64"
      ]
     },
     "execution_count": 11,
     "metadata": {},
     "output_type": "execute_result"
    }
   ],
   "source": [
    "s = pd.Series(data=[111, 222, 333, 444], index=['a', 'b', 'c', 'd'], name='MySeries')\n",
    "s"
   ]
  },
  {
   "cell_type": "markdown",
   "id": "2f3cbd9f-d680-4e23-b2e1-2de8414264cd",
   "metadata": {},
   "source": [
    "Series attributes:"
   ]
  },
  {
   "cell_type": "code",
   "execution_count": 14,
   "id": "fc7b1002-5833-4c65-b451-957b12ea21fb",
   "metadata": {},
   "outputs": [
    {
     "data": {
      "text/plain": [
       "Index(['a', 'b', 'c', 'd'], dtype='object')"
      ]
     },
     "execution_count": 14,
     "metadata": {},
     "output_type": "execute_result"
    }
   ],
   "source": [
    "s.index"
   ]
  },
  {
   "cell_type": "code",
   "execution_count": 15,
   "id": "526e682c-3e66-4e99-93b1-fdb27cc5236f",
   "metadata": {},
   "outputs": [
    {
     "data": {
      "text/plain": [
       "'MySeries'"
      ]
     },
     "execution_count": 15,
     "metadata": {},
     "output_type": "execute_result"
    }
   ],
   "source": [
    "s.name"
   ]
  },
  {
   "cell_type": "code",
   "execution_count": 16,
   "id": "2cc8f6b4-3066-4d18-b23d-ccc5e6131d30",
   "metadata": {},
   "outputs": [
    {
     "data": {
      "text/plain": [
       "dtype('int64')"
      ]
     },
     "execution_count": 16,
     "metadata": {},
     "output_type": "execute_result"
    }
   ],
   "source": [
    "s.dtype"
   ]
  },
  {
   "cell_type": "code",
   "execution_count": 17,
   "id": "374fd348-039b-4fc5-91c2-3b60c5489832",
   "metadata": {},
   "outputs": [
    {
     "data": {
      "text/plain": [
       "array([111, 222, 333, 444], dtype=int64)"
      ]
     },
     "execution_count": 17,
     "metadata": {},
     "output_type": "execute_result"
    }
   ],
   "source": [
    "s.values"
   ]
  },
  {
   "cell_type": "code",
   "execution_count": null,
   "id": "7b91c1ec-2bdd-4dce-b28c-907af7b59da3",
   "metadata": {
    "jupyter": {
     "source_hidden": true
    }
   },
   "outputs": [],
   "source": [
    "Series indexing and slicing:"
   ]
  },
  {
   "cell_type": "code",
   "execution_count": 25,
   "id": "e24fbba6-3a17-469b-b550-19016939d7e0",
   "metadata": {},
   "outputs": [
    {
     "name": "stderr",
     "output_type": "stream",
     "text": [
      "C:\\Users\\Admin\\AppData\\Local\\Temp\\ipykernel_708\\2314084697.py:1: FutureWarning: Series.__getitem__ treating keys as positions is deprecated. In a future version, integer keys will always be treated as labels (consistent with DataFrame behavior). To access a value by position, use `ser.iloc[pos]`\n",
      "  s[1]\n"
     ]
    },
    {
     "data": {
      "text/plain": [
       "222"
      ]
     },
     "execution_count": 25,
     "metadata": {},
     "output_type": "execute_result"
    }
   ],
   "source": [
    "s[1]\n",
    "#s.iloc[1]"
   ]
  },
  {
   "cell_type": "code",
   "execution_count": 22,
   "id": "02a05464-f068-4bf4-92f5-9da44b2e5822",
   "metadata": {},
   "outputs": [
    {
     "data": {
      "text/plain": [
       "111"
      ]
     },
     "execution_count": 22,
     "metadata": {},
     "output_type": "execute_result"
    }
   ],
   "source": [
    "s['a']"
   ]
  },
  {
   "cell_type": "code",
   "execution_count": 26,
   "id": "95cb2d25-8340-4c32-b6dc-43a408aab93e",
   "metadata": {},
   "outputs": [
    {
     "data": {
      "text/plain": [
       "c    333\n",
       "d    444\n",
       "Name: MySeries, dtype: int64"
      ]
     },
     "execution_count": 26,
     "metadata": {},
     "output_type": "execute_result"
    }
   ],
   "source": [
    "s[2:4]"
   ]
  },
  {
   "cell_type": "code",
   "execution_count": 27,
   "id": "3a2910a7-5be9-4845-8267-59ed425c40c2",
   "metadata": {},
   "outputs": [
    {
     "data": {
      "text/plain": [
       "a    111\n",
       "d    444\n",
       "Name: MySeries, dtype: int64"
      ]
     },
     "execution_count": 27,
     "metadata": {},
     "output_type": "execute_result"
    }
   ],
   "source": [
    "s[['a','d']]"
   ]
  },
  {
   "cell_type": "code",
   "execution_count": null,
   "id": "3031ed8d-6eb8-4bb8-b8ae-aeec2d749f1f",
   "metadata": {
    "jupyter": {
     "source_hidden": true
    }
   },
   "outputs": [],
   "source": [
    "1.3. Series operations:"
   ]
  },
  {
   "cell_type": "code",
   "execution_count": 28,
   "id": "65da9cf4-e557-4810-881f-915b23f09742",
   "metadata": {},
   "outputs": [],
   "source": [
    "s1 = pd.Series(data=[1,2,3,4], index = ['d','b','c','a'])\n",
    "s2 = pd.Series(data=[1,2,3,4], index = ['a','b','d','e'])"
   ]
  },
  {
   "cell_type": "markdown",
   "id": "ebd7e02a-1660-41b0-a1be-7962a30bd098",
   "metadata": {},
   "source": [
    "Please notice that in the Series to Series operations, the elements are matched by the index labels.\n",
    "When there is no mathing index label, we get NaN."
   ]
  },
  {
   "cell_type": "code",
   "execution_count": 29,
   "id": "b13dc2b6-c592-4939-a831-2fa1c7bf3e31",
   "metadata": {},
   "outputs": [
    {
     "data": {
      "text/plain": [
       "a    5.0\n",
       "b    4.0\n",
       "c    NaN\n",
       "d    4.0\n",
       "e    NaN\n",
       "dtype: float64"
      ]
     },
     "execution_count": 29,
     "metadata": {},
     "output_type": "execute_result"
    }
   ],
   "source": [
    "s1+s2"
   ]
  },
  {
   "cell_type": "code",
   "execution_count": 30,
   "id": "07ea8283-e942-4890-8125-09f484854909",
   "metadata": {},
   "outputs": [
    {
     "data": {
      "text/plain": [
       "a    3.0\n",
       "b    0.0\n",
       "c    NaN\n",
       "d   -2.0\n",
       "e    NaN\n",
       "dtype: float64"
      ]
     },
     "execution_count": 30,
     "metadata": {},
     "output_type": "execute_result"
    }
   ],
   "source": [
    "s1-s2"
   ]
  },
  {
   "cell_type": "code",
   "execution_count": 31,
   "id": "b6529aef-6fef-4257-b7d0-4f52a218d457",
   "metadata": {},
   "outputs": [
    {
     "data": {
      "text/plain": [
       "a    4.0\n",
       "b    4.0\n",
       "c    NaN\n",
       "d    3.0\n",
       "e    NaN\n",
       "dtype: float64"
      ]
     },
     "execution_count": 31,
     "metadata": {},
     "output_type": "execute_result"
    }
   ],
   "source": [
    "s1*s2"
   ]
  },
  {
   "cell_type": "code",
   "execution_count": 32,
   "id": "1634bb4d-a88d-46a2-bc8b-f8438f93f39f",
   "metadata": {},
   "outputs": [
    {
     "data": {
      "text/plain": [
       "a    4.000000\n",
       "b    1.000000\n",
       "c         NaN\n",
       "d    0.333333\n",
       "e         NaN\n",
       "dtype: float64"
      ]
     },
     "execution_count": 32,
     "metadata": {},
     "output_type": "execute_result"
    }
   ],
   "source": [
    "s1/s2"
   ]
  },
  {
   "cell_type": "code",
   "execution_count": 33,
   "id": "421d38ec-1856-4000-b334-accff14796e0",
   "metadata": {},
   "outputs": [
    {
     "data": {
      "text/plain": [
       "d    2\n",
       "b    4\n",
       "c    6\n",
       "a    8\n",
       "dtype: int64"
      ]
     },
     "execution_count": 33,
     "metadata": {},
     "output_type": "execute_result"
    }
   ],
   "source": [
    "2*s1"
   ]
  },
  {
   "cell_type": "code",
   "execution_count": null,
   "id": "967a3a41-54e8-4caa-b95f-fe466ef8c117",
   "metadata": {
    "jupyter": {
     "source_hidden": true
    }
   },
   "outputs": [],
   "source": [
    "1.4. Series methods:\n"
   ]
  },
  {
   "cell_type": "code",
   "execution_count": 34,
   "id": "0d64df79-cb0c-448b-ad2c-8155e7bedba6",
   "metadata": {},
   "outputs": [
    {
     "data": {
      "text/plain": [
       "10"
      ]
     },
     "execution_count": 34,
     "metadata": {},
     "output_type": "execute_result"
    }
   ],
   "source": [
    "s1.sum()"
   ]
  },
  {
   "cell_type": "code",
   "execution_count": 35,
   "id": "948f9c01-69a5-46fe-aae5-713d9908c6c8",
   "metadata": {},
   "outputs": [
    {
     "data": {
      "text/plain": [
       "2.5"
      ]
     },
     "execution_count": 35,
     "metadata": {},
     "output_type": "execute_result"
    }
   ],
   "source": [
    "s1.mean()"
   ]
  },
  {
   "cell_type": "code",
   "execution_count": 36,
   "id": "0969d1cd-b1cd-423c-923f-ed991abcdc3b",
   "metadata": {},
   "outputs": [
    {
     "data": {
      "text/plain": [
       "2.5"
      ]
     },
     "execution_count": 36,
     "metadata": {},
     "output_type": "execute_result"
    }
   ],
   "source": [
    "s1.median()"
   ]
  },
  {
   "cell_type": "code",
   "execution_count": 37,
   "id": "826ef165-4331-404f-908b-3f9798b57db3",
   "metadata": {},
   "outputs": [
    {
     "data": {
      "text/plain": [
       "4"
      ]
     },
     "execution_count": 37,
     "metadata": {},
     "output_type": "execute_result"
    }
   ],
   "source": [
    "s1.max()"
   ]
  },
  {
   "cell_type": "code",
   "execution_count": 38,
   "id": "4e6b6a22-e2b6-441e-a108-f6343b2946ce",
   "metadata": {},
   "outputs": [
    {
     "data": {
      "text/plain": [
       "1.2909944487358056"
      ]
     },
     "execution_count": 38,
     "metadata": {},
     "output_type": "execute_result"
    }
   ],
   "source": [
    "s1.std()"
   ]
  },
  {
   "cell_type": "code",
   "execution_count": 40,
   "id": "04a37073-061a-452d-8eec-edf2d12b55cd",
   "metadata": {},
   "outputs": [
    {
     "data": {
      "text/plain": [
       "d    1\n",
       "b    2\n",
       "c    3\n",
       "a    4\n",
       "dtype: int64"
      ]
     },
     "execution_count": 40,
     "metadata": {},
     "output_type": "execute_result"
    }
   ],
   "source": [
    "s1.sort_values()"
   ]
  },
  {
   "cell_type": "code",
   "execution_count": 41,
   "id": "bdad1b18-d447-49e5-9fc0-5635da1d84ad",
   "metadata": {},
   "outputs": [
    {
     "data": {
      "text/plain": [
       "a    4\n",
       "b    2\n",
       "c    3\n",
       "d    1\n",
       "dtype: int64"
      ]
     },
     "execution_count": 41,
     "metadata": {},
     "output_type": "execute_result"
    }
   ],
   "source": [
    "s1.sort_index()"
   ]
  },
  {
   "cell_type": "code",
   "execution_count": null,
   "id": "c2847e1c-9440-458d-afb1-3f0f178b0a83",
   "metadata": {
    "jupyter": {
     "source_hidden": true
    }
   },
   "outputs": [],
   "source": [
    "apply() method:\n"
   ]
  },
  {
   "cell_type": "code",
   "execution_count": 43,
   "id": "96b40b61-acb1-43c0-afbe-e64969c93e24",
   "metadata": {},
   "outputs": [
    {
     "data": {
      "text/plain": [
       "0     165.3\n",
       "1     170.1\n",
       "2     175.0\n",
       "3     182.1\n",
       "4     168.0\n",
       "5     162.0\n",
       "6     155.2\n",
       "7     176.9\n",
       "8     178.5\n",
       "9     176.1\n",
       "10    167.1\n",
       "11    180.0\n",
       "12    162.2\n",
       "13    176.1\n",
       "14    158.2\n",
       "15    168.6\n",
       "16    169.2\n",
       "Name: height, dtype: float64"
      ]
     },
     "execution_count": 43,
     "metadata": {},
     "output_type": "execute_result"
    }
   ],
   "source": [
    "ser_height = pd.Series([165.3, 170.1, 175.0, 182.1, 168.0, 162.0, 155.2, 176.9,178.5, 176.1, 167.1, 180.0, 162.2, 176.1, 158.2, 168.6, 169.2],name='height')\n",
    "ser_height"
   ]
  },
  {
   "cell_type": "code",
   "execution_count": 44,
   "id": "58c85e0d-03d0-4577-b206-2262f8a01256",
   "metadata": {},
   "outputs": [
    {
     "data": {
      "text/plain": [
       "0     1.653\n",
       "1     1.701\n",
       "2     1.750\n",
       "3     1.821\n",
       "4     1.680\n",
       "5     1.620\n",
       "6     1.552\n",
       "7     1.769\n",
       "8     1.785\n",
       "9     1.761\n",
       "10    1.671\n",
       "11    1.800\n",
       "12    1.622\n",
       "13    1.761\n",
       "14    1.582\n",
       "15    1.686\n",
       "16    1.692\n",
       "Name: height, dtype: float64"
      ]
     },
     "execution_count": 44,
     "metadata": {},
     "output_type": "execute_result"
    }
   ],
   "source": [
    " ser_height.apply(lambda x: x/100)"
   ]
  }
 ],
 "metadata": {
  "kernelspec": {
   "display_name": "Python 3 (ipykernel)",
   "language": "python",
   "name": "python3"
  },
  "language_info": {
   "codemirror_mode": {
    "name": "ipython",
    "version": 3
   },
   "file_extension": ".py",
   "mimetype": "text/x-python",
   "name": "python",
   "nbconvert_exporter": "python",
   "pygments_lexer": "ipython3",
   "version": "3.12.4"
  }
 },
 "nbformat": 4,
 "nbformat_minor": 5
}
