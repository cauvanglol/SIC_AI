{
 "cells": [
  {
   "cell_type": "markdown",
   "id": "ebd7cca9-f88d-40b2-9dbf-fdbb5ff9db49",
   "metadata": {},
   "source": [
    "0.1.1 1. Correlation:\r"
   ]
  },
  {
   "cell_type": "code",
   "execution_count": 4,
   "id": "b8505b72-d9c7-4d73-a823-e5b2db19dc34",
   "metadata": {},
   "outputs": [],
   "source": [
    "import pandas as pd\r\n",
    "import numpy as np\r\n",
    "import scipy.stats as st\r\n",
    "import os\r"
   ]
  },
  {
   "cell_type": "markdown",
   "id": "3e4d8eab-d590-4480-b2c1-8e197323aa7b",
   "metadata": {},
   "source": [
    "!wget --no-clobber https://raw.githubusercontent.com/stefannae/\n",
    "↪SIC-Artificial-Intelligence/main/SIC_AI_Coding_Exercises/\n",
    "↪SIC_AI_Chapter_04_Coding_Exercises/data_iris.csv\n"
   ]
  },
  {
   "cell_type": "code",
   "execution_count": 5,
   "id": "84646db9-d971-45b6-a161-a9fc6cd04535",
   "metadata": {},
   "outputs": [],
   "source": [
    " # Read in the data.\r\n",
    "df = pd.read_csv('data_iris.csv', header='infer')\r"
   ]
  },
  {
   "cell_type": "code",
   "execution_count": 6,
   "id": "b1c4aa7d-f6de-40e7-84a9-18128e81cddd",
   "metadata": {},
   "outputs": [],
   "source": [
    " # Read in the data.\r\n",
    "df = pd.read_csv('data_iris.csv', header='infer')\r"
   ]
  },
  {
   "cell_type": "code",
   "execution_count": 7,
   "id": "54ab6151-8374-4f4d-9106-5e56a3912959",
   "metadata": {},
   "outputs": [
    {
     "data": {
      "text/plain": [
       "(150, 5)"
      ]
     },
     "execution_count": 7,
     "metadata": {},
     "output_type": "execute_result"
    }
   ],
   "source": [
    "df.shape"
   ]
  },
  {
   "cell_type": "code",
   "execution_count": 8,
   "id": "a8c85fd9-2542-4edf-9c5d-b74fc95872fb",
   "metadata": {},
   "outputs": [
    {
     "data": {
      "text/html": [
       "<div>\n",
       "<style scoped>\n",
       "    .dataframe tbody tr th:only-of-type {\n",
       "        vertical-align: middle;\n",
       "    }\n",
       "\n",
       "    .dataframe tbody tr th {\n",
       "        vertical-align: top;\n",
       "    }\n",
       "\n",
       "    .dataframe thead th {\n",
       "        text-align: right;\n",
       "    }\n",
       "</style>\n",
       "<table border=\"1\" class=\"dataframe\">\n",
       "  <thead>\n",
       "    <tr style=\"text-align: right;\">\n",
       "      <th></th>\n",
       "      <th>Sepal.Length</th>\n",
       "      <th>Sepal.Width</th>\n",
       "      <th>Petal.Length</th>\n",
       "      <th>Petal.Width</th>\n",
       "      <th>Species</th>\n",
       "    </tr>\n",
       "  </thead>\n",
       "  <tbody>\n",
       "    <tr>\n",
       "      <th>0</th>\n",
       "      <td>5.1</td>\n",
       "      <td>3.5</td>\n",
       "      <td>1.4</td>\n",
       "      <td>0.2</td>\n",
       "      <td>setosa</td>\n",
       "    </tr>\n",
       "    <tr>\n",
       "      <th>1</th>\n",
       "      <td>4.9</td>\n",
       "      <td>3.0</td>\n",
       "      <td>1.4</td>\n",
       "      <td>0.2</td>\n",
       "      <td>setosa</td>\n",
       "    </tr>\n",
       "    <tr>\n",
       "      <th>2</th>\n",
       "      <td>4.7</td>\n",
       "      <td>3.2</td>\n",
       "      <td>1.3</td>\n",
       "      <td>0.2</td>\n",
       "      <td>setosa</td>\n",
       "    </tr>\n",
       "  </tbody>\n",
       "</table>\n",
       "</div>"
      ],
      "text/plain": [
       "   Sepal.Length  Sepal.Width  Petal.Length  Petal.Width Species\n",
       "0           5.1          3.5           1.4          0.2  setosa\n",
       "1           4.9          3.0           1.4          0.2  setosa\n",
       "2           4.7          3.2           1.3          0.2  setosa"
      ]
     },
     "execution_count": 8,
     "metadata": {},
     "output_type": "execute_result"
    }
   ],
   "source": [
    "df.head(3)"
   ]
  },
  {
   "cell_type": "code",
   "execution_count": 10,
   "id": "b7be6600-99d5-496b-913d-95e4a562335e",
   "metadata": {},
   "outputs": [
    {
     "data": {
      "text/plain": [
       "0      5.1\n",
       "1      4.9\n",
       "2      4.7\n",
       "3      4.6\n",
       "4      5.0\n",
       "      ... \n",
       "145    6.7\n",
       "146    6.3\n",
       "147    6.5\n",
       "148    6.2\n",
       "149    5.9\n",
       "Name: Sepal.Length, Length: 150, dtype: float64"
      ]
     },
     "execution_count": 10,
     "metadata": {},
     "output_type": "execute_result"
    }
   ],
   "source": [
    "# Set aside two variables.\n",
    "x = df['Petal.Length']\n",
    "y = df['Sepal.Length']\n",
    "x\n",
    "y"
   ]
  },
  {
   "cell_type": "markdown",
   "id": "cae82a8c-481e-4b21-8c10-5443c2bfaf83",
   "metadata": {},
   "source": [
    "1.1. Pearson:\n"
   ]
  },
  {
   "cell_type": "code",
   "execution_count": 11,
   "id": "09c6439d-db67-4f78-b78e-b52c7df2f0a8",
   "metadata": {},
   "outputs": [
    {
     "data": {
      "text/plain": [
       "array([0.872, 0.   ])"
      ]
     },
     "execution_count": 11,
     "metadata": {},
     "output_type": "execute_result"
    }
   ],
   "source": [
    "# Using the SciPy function.\n",
    "# Correlation and p-value.\n",
    "np.round(st.pearsonr(x,y),3)\n"
   ]
  },
  {
   "cell_type": "code",
   "execution_count": 12,
   "id": "8686c8c0-440c-472b-a493-0dbe9c64ca58",
   "metadata": {},
   "outputs": [
    {
     "data": {
      "text/plain": [
       "0.8717537758865831"
      ]
     },
     "execution_count": 12,
     "metadata": {},
     "output_type": "execute_result"
    }
   ],
   "source": [
    "# Using the Pandas function.\n",
    "x.corr(y)\n"
   ]
  },
  {
   "cell_type": "code",
   "execution_count": 15,
   "id": "c5e81e2e-4c04-4fe5-b5d5-317e4294a57c",
   "metadata": {},
   "outputs": [
    {
     "data": {
      "text/html": [
       "<div>\n",
       "<style scoped>\n",
       "    .dataframe tbody tr th:only-of-type {\n",
       "        vertical-align: middle;\n",
       "    }\n",
       "\n",
       "    .dataframe tbody tr th {\n",
       "        vertical-align: top;\n",
       "    }\n",
       "\n",
       "    .dataframe thead th {\n",
       "        text-align: right;\n",
       "    }\n",
       "</style>\n",
       "<table border=\"1\" class=\"dataframe\">\n",
       "  <thead>\n",
       "    <tr style=\"text-align: right;\">\n",
       "      <th></th>\n",
       "      <th>Sepal.Length</th>\n",
       "      <th>Sepal.Width</th>\n",
       "      <th>Petal.Length</th>\n",
       "      <th>Petal.Width</th>\n",
       "    </tr>\n",
       "  </thead>\n",
       "  <tbody>\n",
       "    <tr>\n",
       "      <th>Sepal.Length</th>\n",
       "      <td>1.000</td>\n",
       "      <td>-0.118</td>\n",
       "      <td>0.872</td>\n",
       "      <td>0.818</td>\n",
       "    </tr>\n",
       "    <tr>\n",
       "      <th>Sepal.Width</th>\n",
       "      <td>-0.118</td>\n",
       "      <td>1.000</td>\n",
       "      <td>-0.428</td>\n",
       "      <td>-0.366</td>\n",
       "    </tr>\n",
       "    <tr>\n",
       "      <th>Petal.Length</th>\n",
       "      <td>0.872</td>\n",
       "      <td>-0.428</td>\n",
       "      <td>1.000</td>\n",
       "      <td>0.963</td>\n",
       "    </tr>\n",
       "    <tr>\n",
       "      <th>Petal.Width</th>\n",
       "      <td>0.818</td>\n",
       "      <td>-0.366</td>\n",
       "      <td>0.963</td>\n",
       "      <td>1.000</td>\n",
       "    </tr>\n",
       "  </tbody>\n",
       "</table>\n",
       "</div>"
      ],
      "text/plain": [
       "              Sepal.Length  Sepal.Width  Petal.Length  Petal.Width\n",
       "Sepal.Length         1.000       -0.118         0.872        0.818\n",
       "Sepal.Width         -0.118        1.000        -0.428       -0.366\n",
       "Petal.Length         0.872       -0.428         1.000        0.963\n",
       "Petal.Width          0.818       -0.366         0.963        1.000"
      ]
     },
     "execution_count": 15,
     "metadata": {},
     "output_type": "execute_result"
    }
   ],
   "source": [
    "# Correlation array.\n",
    "#np.round(df.corr(),3)\n",
    "numeric_df = df.select_dtypes(include=[np.number])\n",
    "correlation_matrix = np.round(numeric_df.corr(), 3)\n",
    "correlation_matrix"
   ]
  },
  {
   "cell_type": "markdown",
   "id": "bddc3167-457e-4fc2-a570-68ad1faa09df",
   "metadata": {},
   "source": [
    "1.2. Spearman:"
   ]
  },
  {
   "cell_type": "code",
   "execution_count": 16,
   "id": "17150fbf-db8e-465f-90f4-ce2f6676cb04",
   "metadata": {},
   "outputs": [
    {
     "data": {
      "text/plain": [
       "array([0.882, 0.   ])"
      ]
     },
     "execution_count": 16,
     "metadata": {},
     "output_type": "execute_result"
    }
   ],
   "source": [
    "# Using the SciPy function.\n",
    "# Correlation and p-value.\n",
    "np.round(st.spearmanr(x,y),3)"
   ]
  },
  {
   "cell_type": "markdown",
   "id": "d13e1f92-ba7a-4587-b6d2-6e232fcbd8ac",
   "metadata": {},
   "source": [
    "1.3. Kendall:"
   ]
  },
  {
   "cell_type": "code",
   "execution_count": 17,
   "id": "6219d0e4-1ecf-46de-97c7-a8137fb946b5",
   "metadata": {},
   "outputs": [
    {
     "data": {
      "text/plain": [
       "array([0.719, 0.   ])"
      ]
     },
     "execution_count": 17,
     "metadata": {},
     "output_type": "execute_result"
    }
   ],
   "source": [
    "# Using the SciPy function.\n",
    "# Correlation and p-value.\n",
    "np.round(st.kendalltau(x,y),3)\n",
    "# p-"
   ]
  },
  {
   "cell_type": "markdown",
   "id": "953a7c50-a65b-46f4-9f95-6d62c544dd83",
   "metadata": {},
   "source": [
    "0.1.2 2. Interval Estimation of the Correl"
   ]
  },
  {
   "cell_type": "markdown",
   "id": "427c0e9d-ebd7-4642-aba8-9a94cdc611e8",
   "metadata": {},
   "source": [
    "!wget --no-clobber https://raw.githubusercontent.com/stefannae/\n",
    "↪SIC-Artificial-Intelligence/main/SIC_AI_Coding_Exercises/\n",
    "↪SIC_AI_Chapter_04_Coding_Exercises/data_studentli"
   ]
  },
  {
   "cell_type": "code",
   "execution_count": 19,
   "id": "0adfdda0-11f5-4892-b3c7-c89e3ea8174f",
   "metadata": {},
   "outputs": [],
   "source": [
    "# Read in another data set.\n",
    "df = pd.read_csv('data_studentlist.csv', header='infer')"
   ]
  },
  {
   "cell_type": "code",
   "execution_count": 20,
   "id": "f93236c2-3892-4893-95ec-c2abedd17342",
   "metadata": {},
   "outputs": [
    {
     "data": {
      "text/html": [
       "<div>\n",
       "<style scoped>\n",
       "    .dataframe tbody tr th:only-of-type {\n",
       "        vertical-align: middle;\n",
       "    }\n",
       "\n",
       "    .dataframe tbody tr th {\n",
       "        vertical-align: top;\n",
       "    }\n",
       "\n",
       "    .dataframe thead th {\n",
       "        text-align: right;\n",
       "    }\n",
       "</style>\n",
       "<table border=\"1\" class=\"dataframe\">\n",
       "  <thead>\n",
       "    <tr style=\"text-align: right;\">\n",
       "      <th></th>\n",
       "      <th>name</th>\n",
       "      <th>gender</th>\n",
       "      <th>age</th>\n",
       "      <th>grade</th>\n",
       "      <th>absence</th>\n",
       "      <th>bloodtype</th>\n",
       "      <th>height</th>\n",
       "      <th>weight</th>\n",
       "    </tr>\n",
       "  </thead>\n",
       "  <tbody>\n",
       "    <tr>\n",
       "      <th>0</th>\n",
       "      <td>Jared Diamond</td>\n",
       "      <td>M</td>\n",
       "      <td>23</td>\n",
       "      <td>3</td>\n",
       "      <td>Y</td>\n",
       "      <td>O</td>\n",
       "      <td>165.3</td>\n",
       "      <td>68.2</td>\n",
       "    </tr>\n",
       "    <tr>\n",
       "      <th>1</th>\n",
       "      <td>Sarah O'Donnel</td>\n",
       "      <td>F</td>\n",
       "      <td>22</td>\n",
       "      <td>2</td>\n",
       "      <td>N</td>\n",
       "      <td>AB</td>\n",
       "      <td>170.1</td>\n",
       "      <td>53.0</td>\n",
       "    </tr>\n",
       "    <tr>\n",
       "      <th>2</th>\n",
       "      <td>Brian Martin</td>\n",
       "      <td>M</td>\n",
       "      <td>24</td>\n",
       "      <td>4</td>\n",
       "      <td>N</td>\n",
       "      <td>B</td>\n",
       "      <td>175.0</td>\n",
       "      <td>80.1</td>\n",
       "    </tr>\n",
       "  </tbody>\n",
       "</table>\n",
       "</div>"
      ],
      "text/plain": [
       "             name gender  age  grade absence bloodtype  height  weight\n",
       "0   Jared Diamond      M   23      3       Y         O   165.3    68.2\n",
       "1  Sarah O'Donnel      F   22      2       N        AB   170.1    53.0\n",
       "2    Brian Martin      M   24      4       N         B   175.0    80.1"
      ]
     },
     "execution_count": 20,
     "metadata": {},
     "output_type": "execute_result"
    }
   ],
   "source": [
    "df.head(3)"
   ]
  },
  {
   "cell_type": "code",
   "execution_count": 24,
   "id": "93bf0c25-9019-49ad-92b8-e27a555cef3f",
   "metadata": {},
   "outputs": [],
   "source": [
    "# Set aside two variables.\n",
    "x = df.height\n",
    "y = df.weight"
   ]
  },
  {
   "cell_type": "markdown",
   "id": "616b79db-5bf4-4a14-aca8-4ff3cda633b6",
   "metadata": {},
   "source": [
    "2.2. Confidence Interval of the Pearson Correlation:"
   ]
  },
  {
   "cell_type": "code",
   "execution_count": 25,
   "id": "98bafcee-ff1d-4337-a010-44e6d3701270",
   "metadata": {},
   "outputs": [],
   "source": [
    "# Apply the Fisher's z-transformation.\n",
    "# See the lecture.\n",
    "n = len(x)\n",
    "r = x.corr(y)\n",
    "z = np.arctanh(r)\n",
    "std_error_z = 1/np.sqrt(n-3)"
   ]
  },
  {
   "cell_type": "code",
   "execution_count": 26,
   "id": "8aa95776-7c08-4470-a2b7-62354b6ecd01",
   "metadata": {},
   "outputs": [
    {
     "data": {
      "text/plain": [
       "{'low': 0.26960396330592223, 'high': 0.8677953581441814}"
      ]
     },
     "execution_count": 26,
     "metadata": {},
     "output_type": "execute_result"
    }
   ],
   "source": [
    "# 95% confidence interval.\n",
    "# Expressed as a dictionary object.\n",
    "{'low':np.tanh(z-st.norm.ppf(0.975)*std_error_z), 'high': np.tanh(z+st.norm.ppf(0.975)*std_error_z)}"
   ]
  },
  {
   "cell_type": "code",
   "execution_count": 28,
   "id": "d2f90e8d-a64a-4a7a-a90b-d146f3ee9c4b",
   "metadata": {},
   "outputs": [
    {
     "data": {
      "text/plain": [
       "{'low': 0.11137578298592947, 'high': 0.9030812794020874}"
      ]
     },
     "execution_count": 28,
     "metadata": {},
     "output_type": "execute_result"
    }
   ],
   "source": [
    "# 99% confidence interval.\n",
    "# Expressed as a dictionary object.\n",
    "{'low':np.tanh(z-st.norm.ppf(0.995)*std_error_z), 'high': np.tanh(z+st.norm.ppf(0.995)*std_error_z)}"
   ]
  },
  {
   "cell_type": "code",
   "execution_count": null,
   "id": "d26d5a63-2184-4a2a-889a-3a1e85774444",
   "metadata": {},
   "outputs": [],
   "source": []
  }
 ],
 "metadata": {
  "kernelspec": {
   "display_name": "Python 3 (ipykernel)",
   "language": "python",
   "name": "python3"
  },
  "language_info": {
   "codemirror_mode": {
    "name": "ipython",
    "version": 3
   },
   "file_extension": ".py",
   "mimetype": "text/x-python",
   "name": "python",
   "nbconvert_exporter": "python",
   "pygments_lexer": "ipython3",
   "version": "3.12.4"
  }
 },
 "nbformat": 4,
 "nbformat_minor": 5
}
