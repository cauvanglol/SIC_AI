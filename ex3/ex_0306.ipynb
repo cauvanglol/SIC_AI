{
 "cells": [
  {
   "cell_type": "markdown",
   "id": "ebd7cca9-f88d-40b2-9dbf-fdbb5ff9db49",
   "metadata": {},
   "source": [
    "0.1.1 1. Interval Estimation of the Proportion:\n"
   ]
  },
  {
   "cell_type": "code",
   "execution_count": 1,
   "id": "e6eb130c-5cca-4945-8bbc-d85f258b297d",
   "metadata": {},
   "outputs": [],
   "source": [
    " import numpy as np\n",
    "import scipy.stats as st"
   ]
  },
  {
   "cell_type": "markdown",
   "id": "d7424f42-d0df-461f-934d-7874d48cf556",
   "metadata": {},
   "source": [
    "Có hai ứng cử viên cho cuộc bầu cử: A và B. Ứng cử viên A muốn thăm dò tỷ lệ tán thành của mình. Trong số 100 người được thăm dò, 55 người trả lời tích cực. Liệu A có thể chắc chắn về cuộc bầu cử này không? - Giả sử A được bầu cử với 50% hoặc nhiều hơn. - Sử dụng khoảng tin cậy 95%."
   ]
  },
  {
   "cell_type": "code",
   "execution_count": 2,
   "id": "5b9b9b6c-0421-40be-ab8a-6416808d7071",
   "metadata": {},
   "outputs": [
    {
     "data": {
      "text/plain": [
       "(0.45249302291006066, 0.6475069770899394)"
      ]
     },
     "execution_count": 2,
     "metadata": {},
     "output_type": "execute_result"
    }
   ],
   "source": [
    "# 95% Confidence Interval.\n",
    "# We apply the expression for the standard error (SE) from the lecture.\n",
    "# W ignore additional corrections.\n",
    "n_yes = 55\n",
    "n_total = 100\n",
    "p_mean = n_yes/n_total\n",
    "SE = np.sqrt(p_mean*(1-p_mean)/n_total)\n",
    "st.norm.interval(0.95, loc = p_mean, scale=SE)"
   ]
  },
  {
   "cell_type": "markdown",
   "id": "8e0e3e3f-b60c-4ab7-b35e-93ae335fc4c7",
   "metadata": {},
   "source": [
    "Khoảng tin cậy có giới hạn dưới dưới 50%. Vì vậy A không thể chắc chắn với mức độ tin cậy là 95%"
   ]
  },
  {
   "cell_type": "markdown",
   "id": "c3c0becb-7771-4aaf-b1ee-598c3210869c",
   "metadata": {},
   "source": [
    "2). Trong số 1000 người được khảo sát, 550 người trả lời tích cực. A có thể chắc chắn về cuộc bầu cử này không? - Giả sử A được bầu cử với 50% trở lên. - Sử dụng khoảng tin cậy 95%. "
   ]
  },
  {
   "cell_type": "code",
   "execution_count": 3,
   "id": "54ab6151-8374-4f4d-9106-5e56a3912959",
   "metadata": {},
   "outputs": [
    {
     "data": {
      "text/plain": [
       "(0.5191655864637935, 0.5808344135362066)"
      ]
     },
     "execution_count": 3,
     "metadata": {},
     "output_type": "execute_result"
    }
   ],
   "source": [
    "# 95% Confidence Interval.\n",
    "# We apply the expression for the standard error (SE) from the lecture.\n",
    "# W ignore additional corrections.\n",
    "n_yes = 550\n",
    "n_total = 1000\n",
    "p_mean = n_yes/n_total\n",
    "SE = np.sqrt(p_mean*(1-p_mean)/n_total)\n",
    "st.norm.interval(0.95, loc = p_mean, scale=SE)"
   ]
  },
  {
   "cell_type": "markdown",
   "id": "d1f2a9b7-9c2e-4a80-b899-666fc8777a0d",
   "metadata": {},
   "source": [
    "=> Khoảng tin cậy có giới hạn dưới trên 50%. Vì vậy, A có thể chắc chắn với mức tin cậy là 95%"
   ]
  },
  {
   "cell_type": "code",
   "execution_count": null,
   "id": "b7be6600-99d5-496b-913d-95e4a562335e",
   "metadata": {},
   "outputs": [],
   "source": []
  }
 ],
 "metadata": {
  "kernelspec": {
   "display_name": "Python 3 (ipykernel)",
   "language": "python",
   "name": "python3"
  },
  "language_info": {
   "codemirror_mode": {
    "name": "ipython",
    "version": 3
   },
   "file_extension": ".py",
   "mimetype": "text/x-python",
   "name": "python",
   "nbconvert_exporter": "python",
   "pygments_lexer": "ipython3",
   "version": "3.12.4"
  }
 },
 "nbformat": 4,
 "nbformat_minor": 5
}
