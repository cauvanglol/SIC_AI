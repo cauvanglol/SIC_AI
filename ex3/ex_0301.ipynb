{
 "cells": [
  {
   "cell_type": "markdown",
   "id": "46e504af-3ec5-42b4-bf2d-7212e933a009",
   "metadata": {},
   "source": [
    "0.1 Coding Exercise #0301"
   ]
  },
  {
   "cell_type": "markdown",
   "id": "b1a1d82a-357b-4a39-8796-073109244e66",
   "metadata": {},
   "source": [
    "0.1.1 1. Discrete probability distribution:"
   ]
  },
  {
   "cell_type": "code",
   "execution_count": 1,
   "id": "7207a989-834d-42c8-b5f1-7b8dd55ae8ba",
   "metadata": {},
   "outputs": [],
   "source": [
    "import scipy.stats as st\n",
    "import matplotlib.pyplot as plt\n",
    "import numpy as np\n",
    "%matplotlib inline"
   ]
  },
  {
   "cell_type": "markdown",
   "id": "05b44806-a3fc-43f6-bd7c-2c284b732e6d",
   "metadata": {},
   "source": [
    "1.1. Binomial:"
   ]
  },
  {
   "cell_type": "code",
   "execution_count": 2,
   "id": "f227cf93-07b7-415b-a3e1-6630285ff19a",
   "metadata": {},
   "outputs": [],
   "source": [
    " # Sample size and the p parameter.\n",
    "n=20\n",
    "p=0.8"
   ]
  },
  {
   "cell_type": "code",
   "execution_count": 3,
   "id": "d1b6c9f6-9f6b-4058-9f9b-50034f3b10cd",
   "metadata": {},
   "outputs": [
    {
     "data": {
      "text/plain": [
       "1.664729323929596e-07"
      ]
     },
     "execution_count": 3,
     "metadata": {},
     "output_type": "execute_result"
    }
   ],
   "source": [
    "# Probability distribution at x = 5.\n",
    "st.binom.pmf(5, n, p)"
   ]
  },
  {
   "cell_type": "code",
   "execution_count": 4,
   "id": "9977768f-37a2-48a4-adf5-d6b22ca75902",
   "metadata": {},
   "outputs": [
    {
     "data": {
      "text/plain": [
       "15.0"
      ]
     },
     "execution_count": 4,
     "metadata": {},
     "output_type": "execute_result"
    }
   ],
   "source": [
    "# Quantile at alpha = 0.3\n",
    "# More about quantiles in the Unit III.\n",
    "st.binom.ppf(0.3, n, p)"
   ]
  },
  {
   "cell_type": "code",
   "execution_count": 5,
   "id": "68fcdafd-70e3-4b58-9de2-a5bfe3aa6b40",
   "metadata": {},
   "outputs": [
    {
     "data": {
      "text/plain": [
       "1.8027639734271949e-07"
      ]
     },
     "execution_count": 5,
     "metadata": {},
     "output_type": "execute_result"
    }
   ],
   "source": [
    "# P(0 <= x <= 5)\n",
    "st.binom.cdf(5,n,p)"
   ]
  },
  {
   "cell_type": "code",
   "execution_count": 6,
   "id": "5efa02fe-7034-4cd7-befc-b1bab763b9eb",
   "metadata": {},
   "outputs": [
    {
     "data": {
      "text/plain": [
       "1.5162807586652121e-05"
      ]
     },
     "execution_count": 6,
     "metadata": {},
     "output_type": "execute_result"
    }
   ],
   "source": [
    " # P(3 <= x <=7)\n",
    "st.binom.cdf(7,n,p)-st.binom.cdf(2,n,p)"
   ]
  },
  {
   "cell_type": "code",
   "execution_count": 8,
   "id": "8be3122a-8031-41c5-b744-83ce817bdee9",
   "metadata": {},
   "outputs": [
    {
     "data": {
      "image/png": "[encoded data removed]",
      "text/plain": [
       "<Figure size 640x480 with 1 Axes>"
      ]
     },
     "metadata": {},
     "output_type": "display_data"
    }
   ],
   "source": [
    "# Visualizing the probability distribution.\n",
    "x=np.arange(0,11)\n",
    "plt.scatter(x, st.binom.pmf(x,n,p),color='red')\n",
    "plt.show()"
   ]
  },
  {
   "cell_type": "markdown",
   "id": "1ab91b99-f4d0-4e05-be31-7922839443ed",
   "metadata": {},
   "source": [
    "1.2. Poison"
   ]
  },
  {
   "cell_type": "code",
   "execution_count": 9,
   "id": "3a6b3370-a0e8-491f-ad6c-2077884bb135",
   "metadata": {},
   "outputs": [],
   "source": [
    "# The lambda parameter.\n",
    "lamb = 3"
   ]
  },
  {
   "cell_type": "code",
   "execution_count": 10,
   "id": "75d01596-b472-4f66-8267-034b3c7ced86",
   "metadata": {},
   "outputs": [
    {
     "data": {
      "text/plain": [
       "0.22404180765538775"
      ]
     },
     "execution_count": 10,
     "metadata": {},
     "output_type": "execute_result"
    }
   ],
   "source": [
    "# Probability distribution at x = 2.\n",
    "st.poisson.pmf(3,lamb)"
   ]
  },
  {
   "cell_type": "code",
   "execution_count": 11,
   "id": "919180c4-af88-4da2-a2c7-9dcfc50580b8",
   "metadata": {},
   "outputs": [
    {
     "data": {
      "text/plain": [
       "3.0"
      ]
     },
     "execution_count": 11,
     "metadata": {},
     "output_type": "execute_result"
    }
   ],
   "source": [
    "# Quantile at alpha = 0.5\n",
    "# More about quantiles in the Unit III.\n",
    "st.poisson.ppf(0.6,lamb)"
   ]
  },
  {
   "cell_type": "code",
   "execution_count": 12,
   "id": "65c7c343-700b-4c6d-84b4-bf2a77831df3",
   "metadata": {},
   "outputs": [
    {
     "data": {
      "text/plain": [
       "0.9988975118698845"
      ]
     },
     "execution_count": 12,
     "metadata": {},
     "output_type": "execute_result"
    }
   ],
   "source": [
    "# P(0 <= x <= 5)\n",
    "st.poisson.cdf(9,lamb)"
   ]
  },
  {
   "cell_type": "code",
   "execution_count": 13,
   "id": "43789196-8436-4e91-9e31-0185cb217b85",
   "metadata": {},
   "outputs": [
    {
     "data": {
      "text/plain": [
       "0.8005593895778969"
      ]
     },
     "execution_count": 13,
     "metadata": {},
     "output_type": "execute_result"
    }
   ],
   "source": [
    "# P(3 <= x <=7)\n",
    "st.poisson.cdf(10,lamb)-st.poisson.cdf(1,lamb)"
   ]
  },
  {
   "cell_type": "code",
   "execution_count": 14,
   "id": "f65d6edf-f7ca-4cdc-afba-60e1c8a3ed49",
   "metadata": {},
   "outputs": [
    {
     "data": {
      "image/png": "[encoded data removed]",
      "text/plain": [
       "<Figure size 640x480 with 1 Axes>"
      ]
     },
     "metadata": {},
     "output_type": "display_data"
    }
   ],
   "source": [
    "# Visualizing the probability distribution.\n",
    "x=np.arange(2,14)\n",
    "plt.scatter(x, st.poisson.pmf(x,lamb),color='blue')\n",
    "plt.show()"
   ]
  }
 ],
 "metadata": {
  "kernelspec": {
   "display_name": "Python 3 (ipykernel)",
   "language": "python",
   "name": "python3"
  },
  "language_info": {
   "codemirror_mode": {
    "name": "ipython",
    "version": 3
   },
   "file_extension": ".py",
   "mimetype": "text/x-python",
   "name": "python",
   "nbconvert_exporter": "python",
   "pygments_lexer": "ipython3",
   "version": "3.12.4"
  }
 },
 "nbformat": 4,
 "nbformat_minor": 5
}
