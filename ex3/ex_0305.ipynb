{
 "cells": [
  {
   "cell_type": "markdown",
   "id": "bed20439-338f-48c7-8379-e59e1fbb4563",
   "metadata": {},
   "source": [
    "0.1.1 1. Interval Estimation of the Mean:\r"
   ]
  },
  {
   "cell_type": "code",
   "execution_count": 1,
   "id": "0996f75b-d087-4492-981c-64d2443a57ef",
   "metadata": {},
   "outputs": [],
   "source": [
    "import scipy.stats as st\n",
    "import numpy as np"
   ]
  },
  {
   "cell_type": "code",
   "execution_count": 16,
   "id": "14ca1543-a839-4155-b434-60a0d7929051",
   "metadata": {},
   "outputs": [
    {
     "data": {
      "text/plain": [
       "36"
      ]
     },
     "execution_count": 16,
     "metadata": {},
     "output_type": "execute_result"
    }
   ],
   "source": [
    "# x contains a sample.\n",
    "# n = sample size.\n",
    "x = np.array([25,24,24,27,29,31,28,24,25,26,25,18,30,28,23,26,27,23,16,20,22,22,25,24,24,25,25,27,26,30,25,25,26,26,25,24])\n",
    "n = len(x)\n",
    "n"
   ]
  },
  {
   "cell_type": "code",
   "execution_count": 15,
   "id": "2797a71c-0b44-4440-954b-f14e23e258d3",
   "metadata": {},
   "outputs": [
    {
     "data": {
      "text/plain": [
       "0.50709255283711"
      ]
     },
     "execution_count": 15,
     "metadata": {},
     "output_type": "execute_result"
    }
   ],
   "source": [
    "# SEM = Standard Error of the Mean.\n",
    "# In order to do unbiased estimation of the standard deviation, we set ddof = 1.\n",
    "x_mean = x.mean()\n",
    "SEM = x.std(ddof=1)/np.sqrt(n*1.0)\n",
    "SEM"
   ]
  },
  {
   "cell_type": "markdown",
   "id": "2d014871-c8f8-4b78-9ebc-3ed22c8f62b2",
   "metadata": {},
   "source": [
    "1.1 90% Confidence Interval:"
   ]
  },
  {
   "cell_type": "code",
   "execution_count": 17,
   "id": "5063378b-ecf1-4ec8-a62b-dab7cfa1ec9a",
   "metadata": {},
   "outputs": [
    {
     "data": {
      "text/plain": [
       "(24.165832750582954, 25.834167249417046)"
      ]
     },
     "execution_count": 17,
     "metadata": {},
     "output_type": "execute_result"
    }
   ],
   "source": [
    "# Using the approximated quantiles of the Standard Normal.\n",
    "(x_mean - 1.645*SEM, x_mean + 1.645*SEM)"
   ]
  },
  {
   "cell_type": "code",
   "execution_count": 18,
   "id": "ee330cda-5e85-4e2d-a9ea-df885509b5d2",
   "metadata": {},
   "outputs": [
    {
     "data": {
      "text/plain": [
       "(24.1659069752658, 25.8340930247342)"
      ]
     },
     "execution_count": 18,
     "metadata": {},
     "output_type": "execute_result"
    }
   ],
   "source": [
    "# Using the interval() function from the SciPy library (Standard Normal).\n",
    "st.norm.interval(0.9, loc = x_mean, scale = SEM )"
   ]
  },
  {
   "cell_type": "code",
   "execution_count": 19,
   "id": "459aad65-3e28-4fc2-a8ac-c704045b60bb",
   "metadata": {},
   "outputs": [
    {
     "data": {
      "text/plain": [
       "(24.143230389180935, 25.856769610819065)"
      ]
     },
     "execution_count": 19,
     "metadata": {},
     "output_type": "execute_result"
    }
   ],
   "source": [
    "# Using the exact quantiles of the Student-t.\r\n",
    "(x_mean - st.t.ppf(0.95,df=n-1)*SEM, x_mean + st.t.ppf(0.95,df=n-1)*SEM)"
   ]
  },
  {
   "cell_type": "code",
   "execution_count": 20,
   "id": "87a90d64-fa12-41a0-9d61-6def7b21cb2b",
   "metadata": {},
   "outputs": [
    {
     "data": {
      "text/plain": [
       "(24.143230389180935, 25.856769610819065)"
      ]
     },
     "execution_count": 20,
     "metadata": {},
     "output_type": "execute_result"
    }
   ],
   "source": [
    "# Using the interval() function from the SciPy library (Student-t).\n",
    "st.t.interval(0.9, df = n-1, loc = x_mean, scale = SEM )"
   ]
  },
  {
   "cell_type": "markdown",
   "id": "b427948c-454e-42a5-976d-c1f930fc59e1",
   "metadata": {},
   "source": [
    "1.2. 95% Confidence Interval:"
   ]
  },
  {
   "cell_type": "code",
   "execution_count": 21,
   "id": "501c4fee-b5fd-4e22-928c-e6019ba59cbd",
   "metadata": {},
   "outputs": [
    {
     "data": {
      "text/plain": [
       "(24.006098596439266, 25.993901403560734)"
      ]
     },
     "execution_count": 21,
     "metadata": {},
     "output_type": "execute_result"
    }
   ],
   "source": [
    "# Using the approximated quantiles of the Standard Normal.\r\n",
    "(x_mean - 1.96*SEM, x_mean + 1.96*SEM)"
   ]
  },
  {
   "cell_type": "code",
   "execution_count": 34,
   "id": "42976015-c9dc-4cc3-aba5-dae8e2b1329a",
   "metadata": {},
   "outputs": [
    {
     "data": {
      "text/plain": [
       "(24.006116859610792, 25.993883140389208)"
      ]
     },
     "execution_count": 34,
     "metadata": {},
     "output_type": "execute_result"
    }
   ],
   "source": [
    "# Using the exact quantiles of the Standard Normal.\n",
    "(x_mean - st.norm.ppf(0.975,loc=0,scale=1)*SEM, x_mean + st.norm.ppf(0.975,loc=0,scale=1)*SEM)\r"
   ]
  },
  {
   "cell_type": "code",
   "execution_count": 35,
   "id": "7ab57ee6-d69b-443e-af3d-5462625fa913",
   "metadata": {},
   "outputs": [
    {
     "data": {
      "text/plain": [
       "(24.006116859610792, 25.993883140389208)"
      ]
     },
     "execution_count": 35,
     "metadata": {},
     "output_type": "execute_result"
    }
   ],
   "source": [
    "# Using the interval() function from the SciPy library (Standard Normal).\n",
    "st.norm.interval(0.95, loc = x_mean, scale = SEM )"
   ]
  },
  {
   "cell_type": "code",
   "execution_count": 36,
   "id": "e27f6134-31f2-4ec5-92df-dda184a11bce",
   "metadata": {},
   "outputs": [
    {
     "data": {
      "text/plain": [
       "(23.97054738812868, 26.02945261187132)"
      ]
     },
     "execution_count": 36,
     "metadata": {},
     "output_type": "execute_result"
    }
   ],
   "source": [
    "# Using the exact quantiles of the Student-t.\n",
    "(x_mean - st.t.ppf(0.975,df=n-1)*SEM, x_mean + st.t.ppf(0.975,df=n-1)*SEM)"
   ]
  },
  {
   "cell_type": "code",
   "execution_count": 37,
   "id": "eca181ee-f5d9-43f7-b64f-9bf3bf53b6b0",
   "metadata": {},
   "outputs": [
    {
     "data": {
      "text/plain": [
       "(23.97054738812868, 26.02945261187132)"
      ]
     },
     "execution_count": 37,
     "metadata": {},
     "output_type": "execute_result"
    }
   ],
   "source": [
    "# Using the interval() function from the SciPy library (Student-t).\n",
    "st.t.interval(0.95, df = n-1, loc = x_mean, scale = SEM )\n"
   ]
  },
  {
   "cell_type": "markdown",
   "id": "1246b95e-619f-484b-8039-b80f1b2c0c08",
   "metadata": {},
   "source": [
    "1.3. 99% Confidence Interval:"
   ]
  },
  {
   "cell_type": "code",
   "execution_count": 38,
   "id": "19b15856-8056-4bc8-b51f-07b1b2cda0b6",
   "metadata": {},
   "outputs": [
    {
     "data": {
      "text/plain": [
       "(23.693729583891603, 26.306270416108397)"
      ]
     },
     "execution_count": 38,
     "metadata": {},
     "output_type": "execute_result"
    }
   ],
   "source": [
    "# Using the approximated quantiles of the Standard Normal.\n",
    "(x_mean - 2.576*SEM, x_mean + 2.576*SEM)"
   ]
  },
  {
   "cell_type": "code",
   "execution_count": 39,
   "id": "b554d6b2-b0aa-4f06-a3a5-83160a73923a",
   "metadata": {},
   "outputs": [
    {
     "data": {
      "text/plain": [
       "(23.69381614279075, 26.30618385720925)"
      ]
     },
     "execution_count": 39,
     "metadata": {},
     "output_type": "execute_result"
    }
   ],
   "source": [
    "# Using the exact quantiles of the Standard Normal.\n",
    "(x_mean - st.norm.ppf(0.995,loc=0,scale=1)*SEM, x_mean + st.norm.ppf(0.995,loc=0,scale=1)*SEM)"
   ]
  },
  {
   "cell_type": "code",
   "execution_count": 40,
   "id": "ff133bc6-0083-407f-bc37-2bd5af08bffd",
   "metadata": {},
   "outputs": [
    {
     "data": {
      "text/plain": [
       "(23.69381614279075, 26.30618385720925)"
      ]
     },
     "execution_count": 40,
     "metadata": {},
     "output_type": "execute_result"
    }
   ],
   "source": [
    "# Using the interval() function from the SciPy library (Standard Normal).\n",
    "st.norm.interval(0.99, loc = x_mean, scale = SEM )"
   ]
  },
  {
   "cell_type": "code",
   "execution_count": 41,
   "id": "869539bc-b3b2-44c8-b026-f1354e2440c6",
   "metadata": {},
   "outputs": [
    {
     "data": {
      "text/plain": [
       "(23.618778470336505, 26.381221529663495)"
      ]
     },
     "execution_count": 41,
     "metadata": {},
     "output_type": "execute_result"
    }
   ],
   "source": [
    "# Using the exact quantiles of the Student-t.\n",
    "(x_mean - st.t.ppf(0.995,df=n-1)*SEM, x_mean + st.t.ppf(0.995,df=n-1)*SEM)"
   ]
  },
  {
   "cell_type": "code",
   "execution_count": 42,
   "id": "65f5a783-51b9-4413-9a83-b7465702a616",
   "metadata": {},
   "outputs": [
    {
     "data": {
      "text/plain": [
       "(23.618778470336505, 26.381221529663495)"
      ]
     },
     "execution_count": 42,
     "metadata": {},
     "output_type": "execute_result"
    }
   ],
   "source": [
    "# Using the interval() function from the SciPy library (Student-t).\n",
    "st.t.interval(0.99, df = n-1, loc = x_mean, scale = SEM )\n"
   ]
  }
 ],
 "metadata": {
  "kernelspec": {
   "display_name": "Python 3 (ipykernel)",
   "language": "python",
   "name": "python3"
  },
  "language_info": {
   "codemirror_mode": {
    "name": "ipython",
    "version": 3
   },
   "file_extension": ".py",
   "mimetype": "text/x-python",
   "name": "python",
   "nbconvert_exporter": "python",
   "pygments_lexer": "ipython3",
   "version": "3.12.4"
  }
 },
 "nbformat": 4,
 "nbformat_minor": 5
}
