{
 "cells": [
  {
   "cell_type": "markdown",
   "id": "bed20439-338f-48c7-8379-e59e1fbb4563",
   "metadata": {},
   "source": [
    "0.1.1 1. Quantile:\n"
   ]
  },
  {
   "cell_type": "code",
   "execution_count": 1,
   "id": "0996f75b-d087-4492-981c-64d2443a57ef",
   "metadata": {},
   "outputs": [],
   "source": [
    "import scipy.stats as st\n",
    "import numpy as np"
   ]
  },
  {
   "cell_type": "markdown",
   "id": "5eafbf0c-c13b-47af-a8ca-b1ea6cec598e",
   "metadata": {},
   "source": [
    "1.1. Standard Normal:"
   ]
  },
  {
   "cell_type": "code",
   "execution_count": 2,
   "id": "14ca1543-a839-4155-b434-60a0d7929051",
   "metadata": {},
   "outputs": [],
   "source": [
    "# Standard Normal corresponds to mu = 0 and sigma = 1.\n",
    "mu = 0\n",
    "sigma = 1"
   ]
  },
  {
   "cell_type": "code",
   "execution_count": 3,
   "id": "2797a71c-0b44-4440-954b-f14e23e258d3",
   "metadata": {},
   "outputs": [
    {
     "data": {
      "text/plain": [
       "1.6448536269514722"
      ]
     },
     "execution_count": 3,
     "metadata": {},
     "output_type": "execute_result"
    }
   ],
   "source": [
    "# Quantile at alpha = 0.95\n",
    "# This is useful when calculating 90% confidence interval.\n",
    "alpha = 0.95\n",
    "st.norm.ppf(alpha, loc = mu , scale = sigma)"
   ]
  },
  {
   "cell_type": "code",
   "execution_count": 4,
   "id": "11bb954f-ba68-43c3-a4e9-902fd45c6fe3",
   "metadata": {},
   "outputs": [
    {
     "data": {
      "text/plain": [
       "1.959963984540054"
      ]
     },
     "execution_count": 4,
     "metadata": {},
     "output_type": "execute_result"
    }
   ],
   "source": [
    "# Quantile at alpha = 0.975\n",
    "# This is useful when calculating 95% confidence interval.\n",
    "alpha = 0.975\n",
    "st.norm.ppf(alpha, loc = mu , scale = sigma)"
   ]
  },
  {
   "cell_type": "markdown",
   "id": "a7eafb1d-228a-4545-81f0-32ca410e767d",
   "metadata": {},
   "source": [
    "1.2. Student-t:"
   ]
  },
  {
   "cell_type": "code",
   "execution_count": 5,
   "id": "5063378b-ecf1-4ec8-a62b-dab7cfa1ec9a",
   "metadata": {},
   "outputs": [
    {
     "name": "stdout",
     "output_type": "stream",
     "text": [
      "Degree of Freedom =      10, Quantile =   1.812461\n",
      "Degree of Freedom =      50, Quantile =   1.675905\n",
      "Degree of Freedom =     100, Quantile =   1.660234\n",
      "Degree of Freedom =    2000, Quantile =   1.645616\n",
      "Degree of Freedom =  100000, Quantile =   1.644869\n"
     ]
    }
   ],
   "source": [
    "# Quantiles at alpha = 0.95 with changing degree of freedom.\n",
    "alpha=0.95\n",
    "for df in [10,50,100,2000,100000]:\n",
    "    val = st.t.ppf(alpha,df)\n",
    "    print( 'Degree of Freedom = %7d, Quantile = %10f' %(df,val))"
   ]
  },
  {
   "cell_type": "code",
   "execution_count": 6,
   "id": "ee330cda-5e85-4e2d-a9ea-df885509b5d2",
   "metadata": {},
   "outputs": [
    {
     "name": "stdout",
     "output_type": "stream",
     "text": [
      "Degree of Freedom =      10, Quantile =   2.228139\n",
      "Degree of Freedom =      50, Quantile =   2.008559\n",
      "Degree of Freedom =     100, Quantile =   1.983972\n",
      "Degree of Freedom =    2000, Quantile =   1.961151\n",
      "Degree of Freedom =  100000, Quantile =   1.959988\n"
     ]
    }
   ],
   "source": [
    "# Quantiles at alpha = 0.975 with changing degree of freedom.\n",
    "alpha=0.95\n",
    "alpha=0.975\n",
    "for df in [10,50,100,2000,100000]:\n",
    "    val = st.t.ppf(alpha,df)\n",
    "    print( 'Degree of Freedom = %7d, Quantile = %10f' %(df,val))"
   ]
  },
  {
   "cell_type": "markdown",
   "id": "288d9bdd-122c-449b-b37d-58855ceb904e",
   "metadata": {},
   "source": [
    "1.3. Chi-square:"
   ]
  },
  {
   "cell_type": "code",
   "execution_count": 7,
   "id": "87a90d64-fa12-41a0-9d61-6def7b21cb2b",
   "metadata": {},
   "outputs": [
    {
     "data": {
      "text/plain": [
       "0.8437643724222779"
      ]
     },
     "execution_count": 7,
     "metadata": {},
     "output_type": "execute_result"
    }
   ],
   "source": [
    "# P(X <= 8) with degree of freedom = 5.\n",
    "df = 5\n",
    "st.chi2.cdf(8, df)"
   ]
  },
  {
   "cell_type": "code",
   "execution_count": 8,
   "id": "6777e48e-1a24-49d6-8b28-c0e407ee2195",
   "metadata": {},
   "outputs": [
    {
     "data": {
      "text/plain": [
       "8.000000010482703"
      ]
     },
     "execution_count": 8,
     "metadata": {},
     "output_type": "execute_result"
    }
   ],
   "source": [
    "# Quantile at alpha = 0.843764373 with degree of freedom = 5\n",
    "df = 5\n",
    "alpha = 0.843764373\n",
    "st.chi2.ppf(alpha, df)"
   ]
  },
  {
   "cell_type": "markdown",
   "id": "953a71ff-3d8e-4375-b72b-b1e0494349ba",
   "metadata": {},
   "source": [
    "So, have verified that the Quantile is indeed an inverse function of the CDF\n"
   ]
  },
  {
   "cell_type": "markdown",
   "id": "34f65490-c840-49cd-bcac-f8b6cd551bad",
   "metadata": {},
   "source": [
    "Vậy nên, đã xác minh rằng Đoạn phân vị thực sự là một hàm nghịch đảo của Hàm phân phối tích lũy (CDF)."
   ]
  },
  {
   "cell_type": "code",
   "execution_count": null,
   "id": "7ab57ee6-d69b-443e-af3d-5462625fa913",
   "metadata": {},
   "outputs": [],
   "source": []
  }
 ],
 "metadata": {
  "kernelspec": {
   "display_name": "Python 3 (ipykernel)",
   "language": "python",
   "name": "python3"
  },
  "language_info": {
   "codemirror_mode": {
    "name": "ipython",
    "version": 3
   },
   "file_extension": ".py",
   "mimetype": "text/x-python",
   "name": "python",
   "nbconvert_exporter": "python",
   "pygments_lexer": "ipython3",
   "version": "3.12.4"
  }
 },
 "nbformat": 4,
 "nbformat_minor": 5
}
