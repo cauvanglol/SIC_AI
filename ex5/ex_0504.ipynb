{
 "cells": [
  {
   "cell_type": "markdown",
   "id": "562d305e-d65a-407b-bb1e-aa075ec1faf5",
   "metadata": {},
   "source": [
    "0.1.1 1. Classification with SVM:"
   ]
  },
  {
   "cell_type": "code",
   "execution_count": 1,
   "id": "ce0b807b-a3ba-46ca-b55d-87e1f160d4af",
   "metadata": {},
   "outputs": [],
   "source": [
    "import numpy as np\n",
    "import pandas as pd\n",
    "import matplotlib.pyplot as plt\n",
    "import seaborn as sns\n",
    "import warnings\n",
    "from sklearn.model_selection import train_test_split,GridSearchCV\n",
    "from sklearn.svm import SVC\n",
    "from sklearn import metrics\n",
    "from sklearn.datasets import load_iris\n",
    "warnings.filterwarnings(action='ignore') # Turn off the␣warnings.\n",
    "%matplotlib inline"
   ]
  },
  {
   "cell_type": "markdown",
   "id": "d9f392b8-c124-46a5-9f94-98d89b54d6d6",
   "metadata": {},
   "source": [
    "1.1. Read in data:"
   ]
  },
  {
   "cell_type": "code",
   "execution_count": 2,
   "id": "37ebc099-1aec-4186-9ea7-2e7796018b37",
   "metadata": {},
   "outputs": [],
   "source": [
    " # Load data.\n",
    "data = load_iris()\n"
   ]
  },
  {
   "cell_type": "code",
   "execution_count": 3,
   "id": "191ba462-0663-49b2-bcdb-e57d8f7166b0",
   "metadata": {},
   "outputs": [
    {
     "name": "stdout",
     "output_type": "stream",
     "text": [
      "['sepal length (cm)', 'sepal width (cm)', 'petal length (cm)', 'petal width (cm)']\n"
     ]
    }
   ],
   "source": [
    "# Explanatory variables.\n",
    "X = data['data']\n",
    "columns = list(data['feature_names'])\n",
    "print(columns)\n"
   ]
  },
  {
   "cell_type": "code",
   "execution_count": 4,
   "id": "1bccfa03-8d61-4458-aa25-55cef4d642d3",
   "metadata": {},
   "outputs": [
    {
     "name": "stdout",
     "output_type": "stream",
     "text": [
      "['setosa', 'versicolor', 'virginica']\n"
     ]
    }
   ],
   "source": [
    "# Response variable.\n",
    "Y = data['target']\n",
    "labels = list(data['target_names'])\n",
    "print(labels)\n"
   ]
  },
  {
   "cell_type": "code",
   "execution_count": 5,
   "id": "acb9ff71-361e-4968-85f9-9479a0ffac2c",
   "metadata": {},
   "outputs": [],
   "source": [
    "X_train, X_test, Y_train, Y_test = train_test_split(X, Y, test_size=0.3,random_state=1234)\n"
   ]
  },
  {
   "cell_type": "markdown",
   "id": "8e8f2152-c802-4d6b-98ea-fdb8ad5beb21",
   "metadata": {},
   "source": [
    "1.2. SVM hyperparameter optimization (RBF kernel):"
   ]
  },
  {
   "cell_type": "markdown",
   "id": "84903637-3753-488a-9ddb-8599978d19bd",
   "metadata": {},
   "source": [
    "C : Penalty parameter. gamma :kernel parameter (𝛾)."
   ]
  },
  {
   "cell_type": "code",
   "execution_count": 6,
   "id": "f968bdbf-dbae-456c-806d-25dcb970ed5f",
   "metadata": {},
   "outputs": [],
   "source": [
    "C_grid = 0.02*np.arange(1,20)\n",
    "gamma_grid = 0.02*np.arange(1,50)\n",
    "parameters = {'C': C_grid, 'gamma' : gamma_grid}\n",
    "gridCV = GridSearchCV(SVC(kernel='rbf'), parameters, cv=10, n_jobs=-1) \n",
    " # \"n_jobs = -1\" means \"use all the CPU cores\".\n",
    "gridCV.fit(X_train, Y_train)\n",
    "best_C = gridCV.best_params_['C']\n",
    "best_gamma = gridCV.best_params_['gamma']\n"
   ]
  },
  {
   "cell_type": "code",
   "execution_count": 7,
   "id": "32ddaa79-6099-4f9e-9356-4f0c599c5e34",
   "metadata": {},
   "outputs": [
    {
     "name": "stdout",
     "output_type": "stream",
     "text": [
      "SVM best C : 0.2\n",
      "SVM best gamma : 0.78\n"
     ]
    }
   ],
   "source": [
    "print(\"SVM best C : \" + str(best_C))\n",
    "print(\"SVM best gamma : \" + str(best_gamma))"
   ]
  },
  {
   "cell_type": "code",
   "execution_count": 9,
   "id": "bfc5f095-3f8a-4182-a3fc-f583a7cb3328",
   "metadata": {},
   "outputs": [
    {
     "name": "stdout",
     "output_type": "stream",
     "text": [
      "SVM best accuracy : 0.978\n"
     ]
    }
   ],
   "source": [
    "SVM_best = SVC(kernel='rbf', C=best_C,gamma=best_gamma)\n",
    "SVM_best.fit(X_train, Y_train);\n",
    "Y_pred = SVM_best.predict(X_test)\n",
    "print( \"SVM best accuracy : \" + str(np.round(metrics.accuracy_score(Y_test,Y_pred),3)))\n"
   ]
  },
  {
   "cell_type": "markdown",
   "id": "8f5437ac-7915-442b-8f98-d1aebae9cdca",
   "metadata": {},
   "source": [
    "1.3. SVM hyperparameter optimization (Polynomial kernel):"
   ]
  },
  {
   "cell_type": "code",
   "execution_count": 10,
   "id": "a654e78d-ac14-4f82-b51b-c70677c416d9",
   "metadata": {},
   "outputs": [],
   "source": [
    "C_grid = 0.0001*np.arange(1,30)\n",
    "gamma_grid = 0.01*np.arange(1,30)\n",
    "parameters = {'C': C_grid, 'gamma' : gamma_grid}\n",
    "gridCV = GridSearchCV(SVC(kernel='poly'), parameters, cv=10, n_jobs=-1)  # \"n_jobs = -1\" means \"use all the CPU cores\".\n",
    "gridCV.fit(X_train, Y_train)\n",
    "best_C = gridCV.best_params_['C']\n",
    "best_gamma = gridCV.best_params_['gamma']"
   ]
  },
  {
   "cell_type": "code",
   "execution_count": 11,
   "id": "23694e29-1142-4adb-b7b8-6313d8869aff",
   "metadata": {},
   "outputs": [
    {
     "name": "stdout",
     "output_type": "stream",
     "text": [
      "SVM best C : 0.0007\n",
      "SVM best gamma : 0.27\n"
     ]
    }
   ],
   "source": [
    "print(\"SVM best C : \" + str(best_C))\n",
    "print(\"SVM best gamma : \" + str(best_gamma))"
   ]
  },
  {
   "cell_type": "code",
   "execution_count": 12,
   "id": "9a828eca-476f-4962-b0f0-9c4bc04b2cd6",
   "metadata": {},
   "outputs": [
    {
     "name": "stdout",
     "output_type": "stream",
     "text": [
      "SVM best accuracy : 0.956\n"
     ]
    }
   ],
   "source": [
    "SVM_best = SVC(kernel='poly', C=best_C,gamma=best_gamma)\n",
    "SVM_best.fit(X_train, Y_train);\n",
    "Y_pred = SVM_best.predict(X_test)\n",
    "print( \"SVM best accuracy : \" + str(np.round(metrics.accuracy_score(Y_test,Y_pred),3)))\n"
   ]
  },
  {
   "cell_type": "code",
   "execution_count": null,
   "id": "d33748f2-1e6e-4fa0-b463-8c52d140d5cc",
   "metadata": {},
   "outputs": [],
   "source": []
  }
 ],
 "metadata": {
  "kernelspec": {
   "display_name": "Python 3 (ipykernel)",
   "language": "python",
   "name": "python3"
  },
  "language_info": {
   "codemirror_mode": {
    "name": "ipython",
    "version": 3
   },
   "file_extension": ".py",
   "mimetype": "text/x-python",
   "name": "python",
   "nbconvert_exporter": "python",
   "pygments_lexer": "ipython3",
   "version": "3.12.4"
  }
 },
 "nbformat": 4,
 "nbformat_minor": 5
}
