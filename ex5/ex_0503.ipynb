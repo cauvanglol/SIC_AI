{
 "cells": [
  {
   "cell_type": "markdown",
   "id": "562d305e-d65a-407b-bb1e-aa075ec1faf5",
   "metadata": {},
   "source": [
    "0.1.1 1. Classification with KNN:"
   ]
  },
  {
   "cell_type": "code",
   "execution_count": 99,
   "id": "ce0b807b-a3ba-46ca-b55d-87e1f160d4af",
   "metadata": {},
   "outputs": [],
   "source": [
    " import numpy as np\n",
    "import pandas as pd\n",
    "import matplotlib.pyplot as plt\n",
    "import os\n",
    "import seaborn as sns\n",
    "import warnings\n",
    "from sklearn.model_selection import train_test_split,GridSearchCV\n",
    "from sklearn.neighbors import KNeighborsClassifier\n",
    "from sklearn import metrics, preprocessing\n",
    "warnings.filterwarnings(action='ignore') # Turn off the␣warnings.\n",
    "%matplotlib inline"
   ]
  },
  {
   "cell_type": "markdown",
   "id": "d9f392b8-c124-46a5-9f94-98d89b54d6d6",
   "metadata": {},
   "source": [
    "1.1. Read in data:"
   ]
  },
  {
   "cell_type": "markdown",
   "id": "7a3dfa77-2e77-4959-b21a-bc3cfe1eb59b",
   "metadata": {},
   "source": [
    "The data and explanation can be found here (requires sign in)."
   ]
  },
  {
   "cell_type": "markdown",
   "id": "4e5ef78f-0f50-4d73-a234-e8c8f154b7f3",
   "metadata": {},
   "source": [
    "!wget --no-clobber https://raw.githubusercontent.com/stefannae/\n",
    "↪SIC-Artificial-Intelligence/main/SIC_AI_Coding_Exercises/\n",
    "↪SIC_AI_Chapter_06_Coding_Exercises/data_titanic.csv\n"
   ]
  },
  {
   "cell_type": "code",
   "execution_count": 100,
   "id": "37ebc099-1aec-4186-9ea7-2e7796018b37",
   "metadata": {},
   "outputs": [],
   "source": [
    "df = pd.read_csv('data_titanic.csv', header='infer')\n"
   ]
  },
  {
   "cell_type": "code",
   "execution_count": 101,
   "id": "191ba462-0663-49b2-bcdb-e57d8f7166b0",
   "metadata": {},
   "outputs": [
    {
     "data": {
      "text/plain": [
       "(891, 12)"
      ]
     },
     "execution_count": 101,
     "metadata": {},
     "output_type": "execute_result"
    }
   ],
   "source": [
    "df.shape"
   ]
  },
  {
   "cell_type": "code",
   "execution_count": 102,
   "id": "1bccfa03-8d61-4458-aa25-55cef4d642d3",
   "metadata": {},
   "outputs": [
    {
     "data": {
      "text/html": [
       "<div>\n",
       "<style scoped>\n",
       "    .dataframe tbody tr th:only-of-type {\n",
       "        vertical-align: middle;\n",
       "    }\n",
       "\n",
       "    .dataframe tbody tr th {\n",
       "        vertical-align: top;\n",
       "    }\n",
       "\n",
       "    .dataframe thead th {\n",
       "        text-align: right;\n",
       "    }\n",
       "</style>\n",
       "<table border=\"1\" class=\"dataframe\">\n",
       "  <thead>\n",
       "    <tr style=\"text-align: right;\">\n",
       "      <th></th>\n",
       "      <th>PassengerId</th>\n",
       "      <th>Survived</th>\n",
       "      <th>Pclass</th>\n",
       "      <th>Name</th>\n",
       "      <th>Sex</th>\n",
       "      <th>Age</th>\n",
       "      <th>SibSp</th>\n",
       "      <th>Parch</th>\n",
       "      <th>Ticket</th>\n",
       "      <th>Fare</th>\n",
       "      <th>Cabin</th>\n",
       "      <th>Embarked</th>\n",
       "    </tr>\n",
       "  </thead>\n",
       "  <tbody>\n",
       "    <tr>\n",
       "      <th>0</th>\n",
       "      <td>1</td>\n",
       "      <td>0</td>\n",
       "      <td>3</td>\n",
       "      <td>Braund, Mr. Owen Harris</td>\n",
       "      <td>male</td>\n",
       "      <td>22.0</td>\n",
       "      <td>1</td>\n",
       "      <td>0</td>\n",
       "      <td>A/5 21171</td>\n",
       "      <td>7.2500</td>\n",
       "      <td>NaN</td>\n",
       "      <td>S</td>\n",
       "    </tr>\n",
       "    <tr>\n",
       "      <th>1</th>\n",
       "      <td>2</td>\n",
       "      <td>1</td>\n",
       "      <td>1</td>\n",
       "      <td>Cumings, Mrs. John Bradley (Florence Briggs Th...</td>\n",
       "      <td>female</td>\n",
       "      <td>38.0</td>\n",
       "      <td>1</td>\n",
       "      <td>0</td>\n",
       "      <td>PC 17599</td>\n",
       "      <td>71.2833</td>\n",
       "      <td>C85</td>\n",
       "      <td>C</td>\n",
       "    </tr>\n",
       "    <tr>\n",
       "      <th>2</th>\n",
       "      <td>3</td>\n",
       "      <td>1</td>\n",
       "      <td>3</td>\n",
       "      <td>Heikkinen, Miss. Laina</td>\n",
       "      <td>female</td>\n",
       "      <td>26.0</td>\n",
       "      <td>0</td>\n",
       "      <td>0</td>\n",
       "      <td>STON/O2. 3101282</td>\n",
       "      <td>7.9250</td>\n",
       "      <td>NaN</td>\n",
       "      <td>S</td>\n",
       "    </tr>\n",
       "  </tbody>\n",
       "</table>\n",
       "</div>"
      ],
      "text/plain": [
       "   PassengerId  Survived  Pclass  \\\n",
       "0            1         0       3   \n",
       "1            2         1       1   \n",
       "2            3         1       3   \n",
       "\n",
       "                                                Name     Sex   Age  SibSp  \\\n",
       "0                            Braund, Mr. Owen Harris    male  22.0      1   \n",
       "1  Cumings, Mrs. John Bradley (Florence Briggs Th...  female  38.0      1   \n",
       "2                             Heikkinen, Miss. Laina  female  26.0      0   \n",
       "\n",
       "   Parch            Ticket     Fare Cabin Embarked  \n",
       "0      0         A/5 21171   7.2500   NaN        S  \n",
       "1      0          PC 17599  71.2833   C85        C  \n",
       "2      0  STON/O2. 3101282   7.9250   NaN        S  "
      ]
     },
     "execution_count": 102,
     "metadata": {},
     "output_type": "execute_result"
    }
   ],
   "source": [
    "df.head(3)"
   ]
  },
  {
   "cell_type": "markdown",
   "id": "ccea1b4f-ded3-4123-a5ab-7f891286304d",
   "metadata": {},
   "source": [
    "1.2. Missing value processing:"
   ]
  },
  {
   "cell_type": "code",
   "execution_count": 103,
   "id": "dbb92185-ec0f-4f9c-822f-3a37d89a1696",
   "metadata": {},
   "outputs": [
    {
     "data": {
      "text/plain": [
       "PassengerId      0\n",
       "Survived         0\n",
       "Pclass           0\n",
       "Name             0\n",
       "Sex              0\n",
       "Age            177\n",
       "SibSp            0\n",
       "Parch            0\n",
       "Ticket           0\n",
       "Fare             0\n",
       "Cabin          687\n",
       "Embarked         2\n",
       "dtype: int64"
      ]
     },
     "execution_count": 103,
     "metadata": {},
     "output_type": "execute_result"
    }
   ],
   "source": [
    "# Check for the missing values.\n",
    "df.isnull().sum(axis=0)"
   ]
  },
  {
   "cell_type": "code",
   "execution_count": 104,
   "id": "89720f52-8cfe-4a67-a437-7bc63cda3e1f",
   "metadata": {},
   "outputs": [],
   "source": [
    "n = df.shape[0]\n",
    "# Danh sách tạm để chứa các giá trị tuổi\n",
    "Age = []\n",
    "for i in range(n):\n",
    "    if np.isnan(df.Age[i]):\n",
    "        if ('Mr' in df.Name[i]) or ('Mrs' in df.Name[i]):\n",
    "            Age.append(30)  # Nếu trong tên có 'Mr' hoặc 'Mrs', điền giá trị 30\n",
    "        else:\n",
    "            Age.append(10)  # Nếu không, điền giá trị 10 (có khả năng là trẻ em)\n",
    "    else:\n",
    "        Age.append(df.Age[i])\n",
    "\n",
    "# Cập nhật cột Age trong DataFrame\n",
    "df.Age = pd.Series(Age)"
   ]
  },
  {
   "cell_type": "code",
   "execution_count": 105,
   "id": "370de58d-4817-4394-85d0-4e5474178b6a",
   "metadata": {},
   "outputs": [
    {
     "data": {
      "text/html": [
       "<div>\n",
       "<style scoped>\n",
       "    .dataframe tbody tr th:only-of-type {\n",
       "        vertical-align: middle;\n",
       "    }\n",
       "\n",
       "    .dataframe tbody tr th {\n",
       "        vertical-align: top;\n",
       "    }\n",
       "\n",
       "    .dataframe thead th {\n",
       "        text-align: right;\n",
       "    }\n",
       "</style>\n",
       "<table border=\"1\" class=\"dataframe\">\n",
       "  <thead>\n",
       "    <tr style=\"text-align: right;\">\n",
       "      <th></th>\n",
       "      <th>Survived</th>\n",
       "      <th>Pclass</th>\n",
       "      <th>Sex</th>\n",
       "      <th>Age</th>\n",
       "      <th>SibSp</th>\n",
       "      <th>Parch</th>\n",
       "      <th>Embarked</th>\n",
       "    </tr>\n",
       "  </thead>\n",
       "  <tbody>\n",
       "    <tr>\n",
       "      <th>0</th>\n",
       "      <td>0</td>\n",
       "      <td>3</td>\n",
       "      <td>male</td>\n",
       "      <td>22.0</td>\n",
       "      <td>1</td>\n",
       "      <td>0</td>\n",
       "      <td>S</td>\n",
       "    </tr>\n",
       "    <tr>\n",
       "      <th>1</th>\n",
       "      <td>1</td>\n",
       "      <td>1</td>\n",
       "      <td>female</td>\n",
       "      <td>38.0</td>\n",
       "      <td>1</td>\n",
       "      <td>0</td>\n",
       "      <td>C</td>\n",
       "    </tr>\n",
       "    <tr>\n",
       "      <th>2</th>\n",
       "      <td>1</td>\n",
       "      <td>3</td>\n",
       "      <td>female</td>\n",
       "      <td>26.0</td>\n",
       "      <td>0</td>\n",
       "      <td>0</td>\n",
       "      <td>S</td>\n",
       "    </tr>\n",
       "  </tbody>\n",
       "</table>\n",
       "</div>"
      ],
      "text/plain": [
       "   Survived  Pclass     Sex   Age  SibSp  Parch Embarked\n",
       "0         0       3    male  22.0      1      0        S\n",
       "1         1       1  female  38.0      1      0        C\n",
       "2         1       3  female  26.0      0      0        S"
      ]
     },
     "execution_count": 105,
     "metadata": {},
     "output_type": "execute_result"
    }
   ],
   "source": [
    "# We will drop some columns.\n",
    "df = df.drop(columns = ['PassengerId','Name','Ticket','Fare','Cabin'])\n",
    "df.head(3)\n"
   ]
  },
  {
   "cell_type": "code",
   "execution_count": 106,
   "id": "630a7a5a-f391-4f70-9b9e-3e61d147ce9c",
   "metadata": {},
   "outputs": [
    {
     "data": {
      "text/plain": [
       "(889, 7)"
      ]
     },
     "execution_count": 106,
     "metadata": {},
     "output_type": "execute_result"
    }
   ],
   "source": [
    "# Delete the rest of missing values.\n",
    "df=df.dropna(axis=0)\n",
    "df.shape"
   ]
  },
  {
   "cell_type": "markdown",
   "id": "135e0214-ec4c-43ce-a4ea-7f866a32938d",
   "metadata": {},
   "source": [
    "1.3. Exploratory data analysis:"
   ]
  },
  {
   "cell_type": "code",
   "execution_count": 107,
   "id": "4eb75995-5e46-4483-9e57-a31a7030d54c",
   "metadata": {},
   "outputs": [
    {
     "data": {
      "image/png": "[encoded data removed]",
      "text/plain": [
       "<Figure size 640x480 with 1 Axes>"
      ]
     },
     "metadata": {},
     "output_type": "display_data"
    }
   ],
   "source": [
    "# The frequency table of Survived.\n",
    "sns.countplot(data=df, x=\"Survived\")\n",
    "plt.show()"
   ]
  },
  {
   "cell_type": "code",
   "execution_count": 108,
   "id": "8e4db727-b9a3-4777-9131-4d42e9afc108",
   "metadata": {},
   "outputs": [
    {
     "data": {
      "image/png": "[encoded data removed]",
      "text/plain": [
       "<Figure size 640x480 with 1 Axes>"
      ]
     },
     "metadata": {},
     "output_type": "display_data"
    }
   ],
   "source": [
    "# Survival rate by Age category.\n",
    "df['AgeCategory'] = pd.qcut(df.Age,4) \n",
    "# Using quantiles cut␣into 4 intervals.\n",
    "sns.barplot(x='AgeCategory',y='Survived', ci=None, data=df)\n",
    "plt.show()\n"
   ]
  },
  {
   "cell_type": "code",
   "execution_count": 109,
   "id": "a5442b63-2f0c-4fef-a93f-6c60ff9a5126",
   "metadata": {},
   "outputs": [
    {
     "data": {
      "image/png": "[encoded data removed]",
      "text/plain": [
       "<Figure size 640x480 with 1 Axes>"
      ]
     },
     "metadata": {},
     "output_type": "display_data"
    }
   ],
   "source": [
    "# Survival rate by SibSp category.\n",
    "sns.barplot(x='SibSp', y='Survived', ci=None, data=df)\n",
    "plt.show()\n"
   ]
  },
  {
   "cell_type": "code",
   "execution_count": 110,
   "id": "d1ae20ea-0ece-4419-a5aa-50d583e72e36",
   "metadata": {},
   "outputs": [
    {
     "data": {
      "image/png": "[encoded data removed]",
      "text/plain": [
       "<Figure size 640x480 with 1 Axes>"
      ]
     },
     "metadata": {},
     "output_type": "display_data"
    }
   ],
   "source": [
    "# Survival rate by Parch.\n",
    "sns.barplot(x='Parch', y='Survived', ci=None, data=df)\n",
    "plt.show()\n"
   ]
  },
  {
   "cell_type": "code",
   "execution_count": 111,
   "id": "cc1415db-0ecd-4baa-9ff4-d81f78ed8165",
   "metadata": {},
   "outputs": [
    {
     "data": {
      "image/png": "[encoded data removed]",
      "text/plain": [
       "<Figure size 640x480 with 1 Axes>"
      ]
     },
     "metadata": {},
     "output_type": "display_data"
    }
   ],
   "source": [
    "# Survival rate by Pclass.\n",
    "sns.barplot(x='Pclass', y='Survived', ci=None, data=df)\n",
    "plt.show()"
   ]
  },
  {
   "cell_type": "code",
   "execution_count": 112,
   "id": "7cbea190-9fb9-4517-9347-a8eb1f159854",
   "metadata": {},
   "outputs": [
    {
     "data": {
      "image/png": "[encoded data removed]",
      "text/plain": [
       "<Figure size 640x480 with 1 Axes>"
      ]
     },
     "metadata": {},
     "output_type": "display_data"
    }
   ],
   "source": [
    "# Survival rate by Embarked.\n",
    "sns.barplot(x='Embarked', y='Survived', ci=None, data=df)\n",
    "plt.show()\n"
   ]
  },
  {
   "cell_type": "code",
   "execution_count": 113,
   "id": "bbe7c126-eea3-4232-af57-390bdcc13a0a",
   "metadata": {},
   "outputs": [
    {
     "data": {
      "image/png": "[encoded data removed]",
      "text/plain": [
       "<Figure size 640x480 with 1 Axes>"
      ]
     },
     "metadata": {},
     "output_type": "display_data"
    }
   ],
   "source": [
    "# Survival rate by Sex.\n",
    "sns.barplot(x='Sex', y='Survived', ci=None, data=df)\n",
    "plt.show()"
   ]
  },
  {
   "cell_type": "markdown",
   "id": "b8ada2c1-cc6f-4b45-9dc1-362876e75bb9",
   "metadata": {},
   "source": [
    "1.4. Feature engineering:\n"
   ]
  },
  {
   "cell_type": "code",
   "execution_count": 114,
   "id": "338cbcb6-44f7-4d4d-8b2b-70fb823d3c8b",
   "metadata": {},
   "outputs": [
    {
     "data": {
      "text/html": [
       "<div>\n",
       "<style scoped>\n",
       "    .dataframe tbody tr th:only-of-type {\n",
       "        vertical-align: middle;\n",
       "    }\n",
       "\n",
       "    .dataframe tbody tr th {\n",
       "        vertical-align: top;\n",
       "    }\n",
       "\n",
       "    .dataframe thead th {\n",
       "        text-align: right;\n",
       "    }\n",
       "</style>\n",
       "<table border=\"1\" class=\"dataframe\">\n",
       "  <thead>\n",
       "    <tr style=\"text-align: right;\">\n",
       "      <th></th>\n",
       "      <th>Embarked_Q</th>\n",
       "      <th>Embarked_S</th>\n",
       "      <th>Sex_male</th>\n",
       "      <th>Parch_1</th>\n",
       "      <th>Parch_2</th>\n",
       "      <th>Parch_3</th>\n",
       "      <th>Parch_4</th>\n",
       "      <th>Parch_5</th>\n",
       "      <th>Parch_6</th>\n",
       "      <th>SibSp_1</th>\n",
       "      <th>...</th>\n",
       "      <th>SibSp_3</th>\n",
       "      <th>SibSp_4</th>\n",
       "      <th>SibSp_5</th>\n",
       "      <th>SibSp_8</th>\n",
       "      <th>Pclass_2</th>\n",
       "      <th>Pclass_3</th>\n",
       "      <th>Age_(21.0, 30.0]</th>\n",
       "      <th>Age_(30.0, 35.0]</th>\n",
       "      <th>Age_(35.0, 80.0]</th>\n",
       "      <th>Survived</th>\n",
       "    </tr>\n",
       "  </thead>\n",
       "  <tbody>\n",
       "    <tr>\n",
       "      <th>0</th>\n",
       "      <td>False</td>\n",
       "      <td>True</td>\n",
       "      <td>True</td>\n",
       "      <td>False</td>\n",
       "      <td>False</td>\n",
       "      <td>False</td>\n",
       "      <td>False</td>\n",
       "      <td>False</td>\n",
       "      <td>False</td>\n",
       "      <td>True</td>\n",
       "      <td>...</td>\n",
       "      <td>False</td>\n",
       "      <td>False</td>\n",
       "      <td>False</td>\n",
       "      <td>False</td>\n",
       "      <td>False</td>\n",
       "      <td>True</td>\n",
       "      <td>True</td>\n",
       "      <td>False</td>\n",
       "      <td>False</td>\n",
       "      <td>0</td>\n",
       "    </tr>\n",
       "    <tr>\n",
       "      <th>1</th>\n",
       "      <td>False</td>\n",
       "      <td>False</td>\n",
       "      <td>False</td>\n",
       "      <td>False</td>\n",
       "      <td>False</td>\n",
       "      <td>False</td>\n",
       "      <td>False</td>\n",
       "      <td>False</td>\n",
       "      <td>False</td>\n",
       "      <td>True</td>\n",
       "      <td>...</td>\n",
       "      <td>False</td>\n",
       "      <td>False</td>\n",
       "      <td>False</td>\n",
       "      <td>False</td>\n",
       "      <td>False</td>\n",
       "      <td>False</td>\n",
       "      <td>False</td>\n",
       "      <td>False</td>\n",
       "      <td>True</td>\n",
       "      <td>1</td>\n",
       "    </tr>\n",
       "    <tr>\n",
       "      <th>2</th>\n",
       "      <td>False</td>\n",
       "      <td>True</td>\n",
       "      <td>False</td>\n",
       "      <td>False</td>\n",
       "      <td>False</td>\n",
       "      <td>False</td>\n",
       "      <td>False</td>\n",
       "      <td>False</td>\n",
       "      <td>False</td>\n",
       "      <td>False</td>\n",
       "      <td>...</td>\n",
       "      <td>False</td>\n",
       "      <td>False</td>\n",
       "      <td>False</td>\n",
       "      <td>False</td>\n",
       "      <td>False</td>\n",
       "      <td>True</td>\n",
       "      <td>True</td>\n",
       "      <td>False</td>\n",
       "      <td>False</td>\n",
       "      <td>1</td>\n",
       "    </tr>\n",
       "    <tr>\n",
       "      <th>3</th>\n",
       "      <td>False</td>\n",
       "      <td>True</td>\n",
       "      <td>False</td>\n",
       "      <td>False</td>\n",
       "      <td>False</td>\n",
       "      <td>False</td>\n",
       "      <td>False</td>\n",
       "      <td>False</td>\n",
       "      <td>False</td>\n",
       "      <td>True</td>\n",
       "      <td>...</td>\n",
       "      <td>False</td>\n",
       "      <td>False</td>\n",
       "      <td>False</td>\n",
       "      <td>False</td>\n",
       "      <td>False</td>\n",
       "      <td>False</td>\n",
       "      <td>False</td>\n",
       "      <td>True</td>\n",
       "      <td>False</td>\n",
       "      <td>1</td>\n",
       "    </tr>\n",
       "    <tr>\n",
       "      <th>4</th>\n",
       "      <td>False</td>\n",
       "      <td>True</td>\n",
       "      <td>True</td>\n",
       "      <td>False</td>\n",
       "      <td>False</td>\n",
       "      <td>False</td>\n",
       "      <td>False</td>\n",
       "      <td>False</td>\n",
       "      <td>False</td>\n",
       "      <td>False</td>\n",
       "      <td>...</td>\n",
       "      <td>False</td>\n",
       "      <td>False</td>\n",
       "      <td>False</td>\n",
       "      <td>False</td>\n",
       "      <td>False</td>\n",
       "      <td>True</td>\n",
       "      <td>False</td>\n",
       "      <td>True</td>\n",
       "      <td>False</td>\n",
       "      <td>0</td>\n",
       "    </tr>\n",
       "  </tbody>\n",
       "</table>\n",
       "<p>5 rows × 21 columns</p>\n",
       "</div>"
      ],
      "text/plain": [
       "   Embarked_Q  Embarked_S  Sex_male  Parch_1  Parch_2  Parch_3  Parch_4  \\\n",
       "0       False        True      True    False    False    False    False   \n",
       "1       False       False     False    False    False    False    False   \n",
       "2       False        True     False    False    False    False    False   \n",
       "3       False        True     False    False    False    False    False   \n",
       "4       False        True      True    False    False    False    False   \n",
       "\n",
       "   Parch_5  Parch_6  SibSp_1  ...  SibSp_3  SibSp_4  SibSp_5  SibSp_8  \\\n",
       "0    False    False     True  ...    False    False    False    False   \n",
       "1    False    False     True  ...    False    False    False    False   \n",
       "2    False    False    False  ...    False    False    False    False   \n",
       "3    False    False     True  ...    False    False    False    False   \n",
       "4    False    False    False  ...    False    False    False    False   \n",
       "\n",
       "   Pclass_2  Pclass_3  Age_(21.0, 30.0]  Age_(30.0, 35.0]  Age_(35.0, 80.0]  \\\n",
       "0     False      True              True             False             False   \n",
       "1     False     False             False             False              True   \n",
       "2     False      True              True             False             False   \n",
       "3     False     False             False              True             False   \n",
       "4     False      True             False              True             False   \n",
       "\n",
       "   Survived  \n",
       "0         0  \n",
       "1         1  \n",
       "2         1  \n",
       "3         1  \n",
       "4         0  \n",
       "\n",
       "[5 rows x 21 columns]"
      ]
     },
     "execution_count": 114,
     "metadata": {},
     "output_type": "execute_result"
    }
   ],
   "source": [
    " # Convert into dummy variables and then remove the original variables.\n",
    "df = pd.get_dummies(df.AgeCategory, drop_first=True,prefix='Age').join(df.drop(columns=['Age','AgeCategory']))\n",
    "df = pd.get_dummies(df.Pclass, drop_first=True,prefix='Pclass').join(df.drop(columns=['Pclass']))\n",
    "df = pd.get_dummies(df.SibSp, drop_first=True,prefix='SibSp').join(df.drop(columns=['SibSp']))\n",
    "df = pd.get_dummies(df.Parch, drop_first=True,prefix='Parch').join(df.drop(columns=['Parch']))\n",
    "df = pd.get_dummies(df.Sex, drop_first=True,prefix='Sex').join(df.drop(columns=['Sex']))\n",
    "df = pd.get_dummies(df.Embarked, drop_first=True,prefix='Embarked').join(df.drop(columns=['Embarked']))\n",
    "df.head(5)\n"
   ]
  },
  {
   "cell_type": "code",
   "execution_count": 115,
   "id": "f5c9a494-2178-4551-8771-76bf4cd13298",
   "metadata": {},
   "outputs": [
    {
     "data": {
      "text/plain": [
       "(889, 21)"
      ]
     },
     "execution_count": 115,
     "metadata": {},
     "output_type": "execute_result"
    }
   ],
   "source": [
    "# Save to an external file.\n",
    "df.to_csv('data_titanic_2.csv',index=False)\n",
    "df.shape\n"
   ]
  },
  {
   "cell_type": "markdown",
   "id": "b1d1d5e5-51f9-4568-97c6-4c9bd05f0a3f",
   "metadata": {},
   "source": [
    "1.5. KNN train and test:\n"
   ]
  },
  {
   "cell_type": "code",
   "execution_count": 116,
   "id": "c15467ac-ba84-40bf-81df-a90c216426fb",
   "metadata": {},
   "outputs": [],
   "source": [
    "X = df.drop(columns=['Survived'])\n",
    "Y = df.Survived\n"
   ]
  },
  {
   "cell_type": "code",
   "execution_count": 117,
   "id": "76610661-fce8-4245-ad63-7a45d3e35449",
   "metadata": {},
   "outputs": [],
   "source": [
    "X_train, X_test, Y_train, Y_test = train_test_split(X, Y, test_size=0.3,random_state=1234)\n"
   ]
  },
  {
   "cell_type": "code",
   "execution_count": 118,
   "id": "ff97f454-c8ae-44cf-a3a6-f2f652402c4e",
   "metadata": {},
   "outputs": [
    {
     "name": "stdout",
     "output_type": "stream",
     "text": [
      "(622, 20)\n",
      "(267, 20)\n",
      "(622,)\n",
      "(267,)\n"
     ]
    }
   ],
   "source": [
    " print(X_train.shape)\n",
    "print(X_test.shape)\n",
    "print(Y_train.shape)\n",
    "print(Y_test.shape)\n"
   ]
  },
  {
   "cell_type": "code",
   "execution_count": 119,
   "id": "0925b38a-3fb1-4e75-8ade-dda1fc554f3e",
   "metadata": {},
   "outputs": [
    {
     "name": "stdout",
     "output_type": "stream",
     "text": [
      "[[141  17]\n",
      " [ 36  73]]\n",
      "------------------------\n",
      "Accuracy : 0.801\n"
     ]
    }
   ],
   "source": [
    "# KNN with n_neighbours = 5\n",
    "knn5 = KNeighborsClassifier(n_neighbors=5)\n",
    "knn5.fit(X_train, Y_train);\n",
    "Y_pred = knn5.predict(X_test)\n",
    "print(metrics.confusion_matrix(Y_test,Y_pred))\n",
    "print(\"------------------------\")\n",
    "print( \"Accuracy : \" + str(np.round(metrics.accuracy_score(Y_test,Y_pred),3)))\n"
   ]
  },
  {
   "cell_type": "code",
   "execution_count": 120,
   "id": "2953301b-00dc-496b-905b-e95f3f1c900d",
   "metadata": {},
   "outputs": [
    {
     "name": "stdout",
     "output_type": "stream",
     "text": [
      "[[157   1]\n",
      " [ 61  48]]\n",
      "------------------------\n",
      "Accuracy : 0.768\n"
     ]
    }
   ],
   "source": [
    "# KNN with n_neighbours = 100\n",
    "knn100 = KNeighborsClassifier(n_neighbors=100)\n",
    "knn100.fit(X_train, Y_train);\n",
    "Y_pred = knn100.predict(X_test)\n",
    "print(metrics.confusion_matrix(Y_test,Y_pred))\n",
    "print(\"------------------------\")\n",
    "print( \"Accuracy : \" + str(np.round(metrics.accuracy_score(Y_test,Y_pred),3)))\n"
   ]
  },
  {
   "cell_type": "markdown",
   "id": "bafd933b-2e8d-4c46-b2fe-13654b6d880c",
   "metadata": {},
   "source": [
    "1.6. KNN bias-Variance tradeoff as function of k:"
   ]
  },
  {
   "cell_type": "code",
   "execution_count": 121,
   "id": "ef3d5fca-cbad-4086-9dbb-0973631b5754",
   "metadata": {},
   "outputs": [],
   "source": [
    "accs = []\n",
    "k_grid = range(1,100,1)\n",
    "for k in k_grid:\n",
    "    knn = KNeighborsClassifier(n_neighbors=k)\n",
    "    knn.fit(X_train, Y_train)\n",
    "    Y_pred = knn.predict(X_test)\n",
    "    accs.append(metrics.accuracy_score(Y_test,Y_pred))\n"
   ]
  },
  {
   "cell_type": "code",
   "execution_count": 122,
   "id": "442d2643-5722-45a3-ba00-ad45c0c76ceb",
   "metadata": {},
   "outputs": [
    {
     "data": {
      "image/png": "[encoded data removed]",
      "text/plain": [
       "<Figure size 640x480 with 1 Axes>"
      ]
     },
     "metadata": {},
     "output_type": "display_data"
    }
   ],
   "source": [
    " # Visualize.\n",
    "plt.scatter(k_grid,accs,c='red',marker='o',s=10,alpha=0.6)\n",
    "plt.xlabel('k')\n",
    "plt.ylabel('Accuracy')\n",
    "plt.title('Accuracy vs k')\n",
    "plt.show()"
   ]
  },
  {
   "cell_type": "markdown",
   "id": "c014315e-1d02-4833-92c3-6dc0c8b75ced",
   "metadata": {},
   "source": [
    "1.7. KNN hyperparameter optimization:"
   ]
  },
  {
   "cell_type": "code",
   "execution_count": 123,
   "id": "133b721f-0a41-40f6-b39b-268114613e1a",
   "metadata": {},
   "outputs": [],
   "source": [
    "# Parameter grid.\n",
    "k_grid = np.arange(1,51,1)\n",
    "parameters = {'n_neighbors':k_grid}\n"
   ]
  },
  {
   "cell_type": "code",
   "execution_count": 125,
   "id": "58326eee-b502-468f-af80-f7fbdb0a110a",
   "metadata": {},
   "outputs": [
    {
     "name": "stdout",
     "output_type": "stream",
     "text": [
      "Best k : 37\n"
     ]
    }
   ],
   "source": [
    "# Optimize the k.\n",
    "gridCV = GridSearchCV(KNeighborsClassifier(), parameters, cv=10, n_jobs = -1)  # \"n_jobs = -1\" means \"use all the CPU cores\".\n",
    "gridCV.fit(X_train, Y_train)\n",
    "best_k = gridCV.best_params_['n_neighbors']\n",
    "print(\"Best k : \" + str(best_k))\n"
   ]
  },
  {
   "cell_type": "code",
   "execution_count": 128,
   "id": "1e7ec310-d7cb-4efe-b94c-350971382dbb",
   "metadata": {},
   "outputs": [
    {
     "name": "stdout",
     "output_type": "stream",
     "text": [
      "Best Accuracy : 0.798\n"
     ]
    }
   ],
   "source": [
    "# Test with the best k.\n",
    "KNN_best = KNeighborsClassifier(n_neighbors=best_k)\n",
    "KNN_best.fit(X_train, Y_train)\n",
    "Y_pred = KNN_best.predict(X_test)\n",
    "print( \"Best Accuracy : \" + str(np.round(metrics.accuracy_score(Y_test,Y_pred),3)))\n"
   ]
  },
  {
   "cell_type": "code",
   "execution_count": null,
   "id": "031a6394-31cf-431a-8e67-8ecfda2ef3bd",
   "metadata": {},
   "outputs": [],
   "source": []
  }
 ],
 "metadata": {
  "kernelspec": {
   "display_name": "Python 3 (ipykernel)",
   "language": "python",
   "name": "python3"
  },
  "language_info": {
   "codemirror_mode": {
    "name": "ipython",
    "version": 3
   },
   "file_extension": ".py",
   "mimetype": "text/x-python",
   "name": "python",
   "nbconvert_exporter": "python",
   "pygments_lexer": "ipython3",
   "version": "3.12.4"
  }
 },
 "nbformat": 4,
 "nbformat_minor": 5
}
