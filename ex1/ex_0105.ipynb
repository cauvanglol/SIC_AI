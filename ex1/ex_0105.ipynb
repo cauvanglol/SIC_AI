{
 "cells": [
  {
   "cell_type": "markdown",
   "id": "7a11dc5a-f2df-4439-8d5e-9973f8e300fc",
   "metadata": {},
   "source": [
    "0.1.1 1. Conditional structure:"
   ]
  },
  {
   "cell_type": "code",
   "execution_count": 3,
   "id": "bc3a23e0-d61f-4916-a749-448cf133905c",
   "metadata": {},
   "outputs": [
    {
     "name": "stdin",
     "output_type": "stream",
     "text": [
      "How old are you?  19\n"
     ]
    },
    {
     "name": "stdout",
     "output_type": "stream",
     "text": [
      "You are all grown up!\n"
     ]
    }
   ],
   "source": [
    "x = input(\"How old are you? \")\n",
    "x = int(x)\n",
    "if x < 8:\n",
    "    print(str(x) + \" years old... You are a bit too young.\")\n",
    "elif 8 <= x < 19:\n",
    "    print(str(x) + \" years old... You must be a student.\")\n",
    "else:\n",
    "    print(\"You are all grown up!\")"
   ]
  },
  {
   "cell_type": "code",
   "execution_count": 1,
   "id": "8ca62696-53ca-4fbd-961c-94b029771b25",
   "metadata": {},
   "outputs": [
    {
     "name": "stdin",
     "output_type": "stream",
     "text": [
      "How much is 2*3?  8\n"
     ]
    },
    {
     "name": "stdout",
     "output_type": "stream",
     "text": [
      "Incorrect\n"
     ]
    }
   ],
   "source": [
    "x = input(\"How much is 2*3? \")\n",
    "x = int(x)\n",
    "if x == 2*3 :\n",
    "    print( \"Correct.\")\n",
    "else:\n",
    "    print( \"Incorrect\")"
   ]
  },
  {
   "cell_type": "code",
   "execution_count": 2,
   "id": "513ec41c-2a6d-4f07-896f-e59f1f75f297",
   "metadata": {},
   "outputs": [
    {
     "name": "stdin",
     "output_type": "stream",
     "text": [
      "How much is 2*3?  8\n"
     ]
    },
    {
     "name": "stdout",
     "output_type": "stream",
     "text": [
      "Incorrect\n"
     ]
    }
   ],
   "source": [
    "x = input(\"How much is 2*3? \")\n",
    "x = int(x)\n",
    "if x !=2*3 :\n",
    "    print( \"Incorrect\")\n",
    "else:\n",
    "    print( \"Correct.\")"
   ]
  },
  {
   "cell_type": "code",
   "execution_count": 4,
   "id": "e6ae5bac-3f60-4dbe-8c07-03ae124d985d",
   "metadata": {},
   "outputs": [
    {
     "name": "stdin",
     "output_type": "stream",
     "text": [
      "How much is 2*3?  8\n"
     ]
    },
    {
     "name": "stdout",
     "output_type": "stream",
     "text": [
      "Incorrect\n"
     ]
    }
   ],
   "source": [
    "x = input(\"How much is 2*3? \")\n",
    "x = int(x)\n",
    "y = ( x == 2*3) # A Boolean statement.\n",
    "if y:\n",
    "    print( \"Correct.\")\n",
    "else:\n",
    "    print( \"Incorrect\")"
   ]
  },
  {
   "cell_type": "markdown",
   "id": "8e28d4fe-54a9-4053-8055-5f86f23d2e1a",
   "metadata": {},
   "source": [
    "0.1.2 2. Loop structure:\r\n",
    "2.1. For loops:"
   ]
  },
  {
   "cell_type": "code",
   "execution_count": 5,
   "id": "847ec4af-2943-47f3-9396-78a93b784d34",
   "metadata": {},
   "outputs": [
    {
     "name": "stdout",
     "output_type": "stream",
     "text": [
      "Sum from 1 to 10 = 55\n"
     ]
    }
   ],
   "source": [
    "sum = 0\n",
    "for x in range(1, 11):\n",
    "    sum += x\n",
    "print(\"Sum from 1 to 10 = \" + str(sum))\n"
   ]
  },
  {
   "cell_type": "code",
   "execution_count": 6,
   "id": "786116ec-5dc6-4401-9072-f812fcb52855",
   "metadata": {},
   "outputs": [
    {
     "name": "stdout",
     "output_type": "stream",
     "text": [
      "Sum of even numbers from 2 to 100 = 2550\n"
     ]
    }
   ],
   "source": [
    "sum = 0\n",
    "for x in range(2,101,2):\n",
    "    sum += x\n",
    "print(\"Sum of even numbers from 2 to 100 = \" + str(sum))"
   ]
  },
  {
   "cell_type": "code",
   "execution_count": 7,
   "id": "94f7382c-b7ee-4696-9686-56380b7bdf91",
   "metadata": {},
   "outputs": [
    {
     "name": "stdout",
     "output_type": "stream",
     "text": [
      "Sum of even numbers between 1 and 100 = 2550\n"
     ]
    }
   ],
   "source": [
    " sum = 0\n",
    "for x in range(1,101):\n",
    "    if ( x % 2 ==0):\n",
    "        sum += x\n",
    "print(\"Sum of even numbers between 1 and 100 = \" + str(sum))"
   ]
  },
  {
   "cell_type": "code",
   "execution_count": 8,
   "id": "1d8414dd-bd4a-47cd-ac53-0c45ea58aa2b",
   "metadata": {},
   "outputs": [
    {
     "name": "stdout",
     "output_type": "stream",
     "text": [
      "Sum of odd numbers between 1 and 100 = 2500\n"
     ]
    }
   ],
   "source": [
    " sum = 0\n",
    "for x in range(1,101):\n",
    "    if ( x % 2 !=0):\n",
    "        sum += x\n",
    "print(\"Sum of odd numbers between 1 and 100 = \" + str(sum))\n"
   ]
  },
  {
   "cell_type": "code",
   "execution_count": 9,
   "id": "b7b14c53-0e42-4c31-add4-412b792f4702",
   "metadata": {},
   "outputs": [
    {
     "name": "stdout",
     "output_type": "stream",
     "text": [
      "Sum of multiples of 5 between 1 and 100 = 1050\n"
     ]
    }
   ],
   "source": [
    "sum = 0\n",
    "for x in range(1,101):\n",
    "    if x % 5 == 0:\n",
    "        sum += x\n",
    "print(\"Sum of multiples of 5 between 1 and 100 = \" + str(sum))\n"
   ]
  },
  {
   "cell_type": "code",
   "execution_count": 10,
   "id": "0a6264fa-0967-45bd-981c-03e617503f8d",
   "metadata": {},
   "outputs": [
    {
     "name": "stdout",
     "output_type": "stream",
     "text": [
      "You\n",
      "need\n",
      "Python!\n"
     ]
    }
   ],
   "source": [
    "my_list = ['You', 'need', 'Python!']\n",
    "for x in my_list:\n",
    "    print(x)"
   ]
  },
  {
   "cell_type": "code",
   "execution_count": 12,
   "id": "3bd84068-8651-472c-a6bb-7d6efe4727e0",
   "metadata": {},
   "outputs": [
    {
     "name": "stdout",
     "output_type": "stream",
     "text": [
      "2 * 2 =  4 \n",
      "2 * 3 =  6 \n",
      "2 * 4 =  8 \n",
      "2 * 5 = 10 \n",
      "2 * 6 = 12 \n",
      "2 * 7 = 14 \n",
      "2 * 8 = 16 \n",
      "2 * 9 = 18 \n",
      "3 * 2 =  6 \n",
      "3 * 3 =  9 \n",
      "3 * 4 = 12 \n",
      "3 * 5 = 15 \n",
      "3 * 6 = 18 \n",
      "3 * 7 = 21 \n",
      "3 * 8 = 24 \n",
      "3 * 9 = 27 \n",
      "4 * 2 =  8 \n",
      "4 * 3 = 12 \n",
      "4 * 4 = 16 \n",
      "4 * 5 = 20 \n",
      "4 * 6 = 24 \n",
      "4 * 7 = 28 \n",
      "4 * 8 = 32 \n",
      "4 * 9 = 36 \n",
      "5 * 2 = 10 \n",
      "5 * 3 = 15 \n",
      "5 * 4 = 20 \n",
      "5 * 5 = 25 \n",
      "5 * 6 = 30 \n",
      "5 * 7 = 35 \n",
      "5 * 8 = 40 \n",
      "5 * 9 = 45 \n",
      "6 * 2 = 12 \n",
      "6 * 3 = 18 \n",
      "6 * 4 = 24 \n",
      "6 * 5 = 30 \n",
      "6 * 6 = 36 \n",
      "6 * 7 = 42 \n",
      "6 * 8 = 48 \n",
      "6 * 9 = 54 \n",
      "7 * 2 = 14 \n",
      "7 * 3 = 21 \n",
      "7 * 4 = 28 \n",
      "7 * 5 = 35 \n",
      "7 * 6 = 42 \n",
      "7 * 7 = 49 \n",
      "7 * 8 = 56 \n",
      "7 * 9 = 63 \n",
      "8 * 2 = 16 \n",
      "8 * 3 = 24 \n",
      "8 * 4 = 32 \n",
      "8 * 5 = 40 \n",
      "8 * 6 = 48 \n",
      "8 * 7 = 56 \n",
      "8 * 8 = 64 \n",
      "8 * 9 = 72 \n",
      "9 * 2 = 18 \n",
      "9 * 3 = 27 \n",
      "9 * 4 = 36 \n",
      "9 * 5 = 45 \n",
      "9 * 6 = 54 \n",
      "9 * 7 = 63 \n",
      "9 * 8 = 72 \n",
      "9 * 9 = 81 \n"
     ]
    }
   ],
   "source": [
    " # Multiplication table.\n",
    "# A 'for' loop within another.\n",
    "for i in range(2,10):\n",
    "    for j in range(2,10):\n",
    "        print( \"%1d * %1d = %2d \" % ( i, j, i * j))"
   ]
  },
  {
   "cell_type": "markdown",
   "id": "fb4716cf-41fb-4206-a35d-f46fd9f1ece0",
   "metadata": {},
   "source": [
    "2.2. While loops:"
   ]
  },
  {
   "cell_type": "code",
   "execution_count": 13,
   "id": "e1c19626-fa9e-48a6-8685-3e2abe12608b",
   "metadata": {},
   "outputs": [
    {
     "name": "stdout",
     "output_type": "stream",
     "text": [
      "Sum of 1 through 10 = 55\n"
     ]
    }
   ],
   "source": [
    "counter = 0\n",
    "sum = 0\n",
    "while counter < 11:\n",
    "    sum += counter\n",
    "    counter += 1\n",
    "print(\"Sum of 1 through 10 = \" + str(sum))"
   ]
  },
  {
   "cell_type": "code",
   "execution_count": 15,
   "id": "e03c2f5a-4c02-4ac9-a208-0140e6c94391",
   "metadata": {},
   "outputs": [
    {
     "name": "stdout",
     "output_type": "stream",
     "text": [
      "Sum of multiples of 5 between 0 and 1000 = 100500\n"
     ]
    }
   ],
   "source": [
    "counter = 0\n",
    "sum = 0\n",
    "while counter < 1001:\n",
    "    if counter % 5 == 0:\n",
    "        sum += counter\n",
    "    counter += 1\n",
    "print(\"Sum of multiples of 5 between 0 and 1000 = \" + str(sum))"
   ]
  },
  {
   "cell_type": "code",
   "execution_count": 16,
   "id": "709235b9-b017-4c3f-82fc-397af34bfa87",
   "metadata": {},
   "outputs": [
    {
     "name": "stdout",
     "output_type": "stream",
     "text": [
      "2 * 2 =  4 \n",
      "2 * 3 =  6 \n",
      "2 * 4 =  8 \n",
      "2 * 5 = 10 \n",
      "2 * 6 = 12 \n",
      "2 * 7 = 14 \n",
      "2 * 8 = 16 \n",
      "2 * 9 = 18 \n",
      "3 * 2 =  6 \n",
      "3 * 3 =  9 \n",
      "3 * 4 = 12 \n",
      "3 * 5 = 15 \n",
      "3 * 6 = 18 \n",
      "3 * 7 = 21 \n",
      "3 * 8 = 24 \n",
      "3 * 9 = 27 \n",
      "4 * 2 =  8 \n",
      "4 * 3 = 12 \n",
      "4 * 4 = 16 \n",
      "4 * 5 = 20 \n",
      "4 * 6 = 24 \n",
      "4 * 7 = 28 \n",
      "4 * 8 = 32 \n",
      "4 * 9 = 36 \n",
      "5 * 2 = 10 \n",
      "5 * 3 = 15 \n",
      "5 * 4 = 20 \n",
      "5 * 5 = 25 \n",
      "5 * 6 = 30 \n",
      "5 * 7 = 35 \n",
      "5 * 8 = 40 \n",
      "5 * 9 = 45 \n",
      "6 * 2 = 12 \n",
      "6 * 3 = 18 \n",
      "6 * 4 = 24 \n",
      "6 * 5 = 30 \n",
      "6 * 6 = 36 \n",
      "6 * 7 = 42 \n",
      "6 * 8 = 48 \n",
      "6 * 9 = 54 \n",
      "7 * 2 = 14 \n",
      "7 * 3 = 21 \n",
      "7 * 4 = 28 \n",
      "7 * 5 = 35 \n",
      "7 * 6 = 42 \n",
      "7 * 7 = 49 \n",
      "7 * 8 = 56 \n",
      "7 * 9 = 63 \n",
      "8 * 2 = 16 \n",
      "8 * 3 = 24 \n",
      "8 * 4 = 32 \n",
      "8 * 5 = 40 \n",
      "8 * 6 = 48 \n",
      "8 * 7 = 56 \n",
      "8 * 8 = 64 \n",
      "8 * 9 = 72 \n",
      "9 * 2 = 18 \n",
      "9 * 3 = 27 \n",
      "9 * 4 = 36 \n",
      "9 * 5 = 45 \n",
      "9 * 6 = 54 \n",
      "9 * 7 = 63 \n",
      "9 * 8 = 72 \n",
      "9 * 9 = 81 \n"
     ]
    }
   ],
   "source": [
    "# Multiplication table.\n",
    "# A 'while' loop within another.\n",
    "i = 1\n",
    "while i < 9:\n",
    "    i += 1\n",
    "    j = 2\n",
    "    while j < 10:\n",
    "        print( \"%1d * %1d = %2d \" % ( i, j, i*j))\n",
    "        j += 1"
   ]
  },
  {
   "cell_type": "code",
   "execution_count": 17,
   "id": "62f8f3c4-8b2c-4c2e-836e-80a44d95b976",
   "metadata": {},
   "outputs": [
    {
     "name": "stdout",
     "output_type": "stream",
     "text": [
      "2 * 1 =  2 \n",
      "2 * 2 =  4 \n",
      "2 * 3 =  6 \n",
      "2 * 4 =  8 \n",
      "2 * 5 = 10 \n",
      "2 * 6 = 12 \n",
      "2 * 7 = 14 \n",
      "2 * 8 = 16 \n",
      "2 * 9 = 18 \n",
      "3 * 1 =  3 \n",
      "3 * 2 =  6 \n",
      "3 * 3 =  9 \n",
      "3 * 4 = 12 \n",
      "3 * 5 = 15 \n",
      "3 * 6 = 18 \n",
      "3 * 7 = 21 \n",
      "3 * 8 = 24 \n",
      "3 * 9 = 27 \n",
      "4 * 1 =  4 \n",
      "4 * 2 =  8 \n",
      "4 * 3 = 12 \n",
      "4 * 4 = 16 \n",
      "4 * 5 = 20 \n",
      "4 * 6 = 24 \n",
      "4 * 7 = 28 \n",
      "4 * 8 = 32 \n",
      "4 * 9 = 36 \n",
      "5 * 1 =  5 \n",
      "5 * 2 = 10 \n",
      "5 * 3 = 15 \n",
      "5 * 4 = 20 \n",
      "5 * 5 = 25 \n",
      "5 * 6 = 30 \n",
      "5 * 7 = 35 \n",
      "5 * 8 = 40 \n",
      "5 * 9 = 45 \n",
      "6 * 1 =  6 \n",
      "6 * 2 = 12 \n",
      "6 * 3 = 18 \n",
      "6 * 4 = 24 \n",
      "6 * 5 = 30 \n",
      "6 * 6 = 36 \n",
      "6 * 7 = 42 \n",
      "6 * 8 = 48 \n",
      "6 * 9 = 54 \n",
      "7 * 1 =  7 \n",
      "7 * 2 = 14 \n",
      "7 * 3 = 21 \n",
      "7 * 4 = 28 \n",
      "7 * 5 = 35 \n",
      "7 * 6 = 42 \n",
      "7 * 7 = 49 \n",
      "7 * 8 = 56 \n",
      "7 * 9 = 63 \n",
      "8 * 1 =  8 \n",
      "8 * 2 = 16 \n",
      "8 * 3 = 24 \n",
      "8 * 4 = 32 \n",
      "8 * 5 = 40 \n",
      "8 * 6 = 48 \n",
      "8 * 7 = 56 \n",
      "8 * 8 = 64 \n",
      "8 * 9 = 72 \n",
      "9 * 1 =  9 \n",
      "9 * 2 = 18 \n",
      "9 * 3 = 27 \n",
      "9 * 4 = 36 \n",
      "9 * 5 = 45 \n",
      "9 * 6 = 54 \n",
      "9 * 7 = 63 \n",
      "9 * 8 = 72 \n",
      "9 * 9 = 81 \n"
     ]
    }
   ],
   "source": [
    "# Multiplication table.\n",
    "# A 'for' loop within a 'while' loop.\n",
    "i = 1\n",
    "while i < 9:\n",
    "    i += 1\n",
    "    for j in range(1,10):\n",
    "        print( \"%1d * %1d = %2d \" % ( i, j, i*j))\n",
    "        j += 1"
   ]
  }
 ],
 "metadata": {
  "kernelspec": {
   "display_name": "Python 3 (ipykernel)",
   "language": "python",
   "name": "python3"
  },
  "language_info": {
   "codemirror_mode": {
    "name": "ipython",
    "version": 3
   },
   "file_extension": ".py",
   "mimetype": "text/x-python",
   "name": "python",
   "nbconvert_exporter": "python",
   "pygments_lexer": "ipython3",
   "version": "3.12.4"
  }
 },
 "nbformat": 4,
 "nbformat_minor": 5
}
