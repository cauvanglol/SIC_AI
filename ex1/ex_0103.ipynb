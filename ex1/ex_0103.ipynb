{
 "cells": [
  {
   "cell_type": "code",
   "execution_count": 22,
   "id": "0fb1b385-62e0-40da-9743-38d9529102be",
   "metadata": {},
   "outputs": [
    {
     "data": {
      "text/plain": [
       "range(1, 5)"
      ]
     },
     "execution_count": 22,
     "metadata": {},
     "output_type": "execute_result"
    }
   ],
   "source": [
    "# tạo 1 ds và kt kiểu của nó\n",
    "x=[1,3,True,False,'Hello',[3,5,7]]\n",
    "type(x)"
   ]
  },
  {
   "cell_type": "code",
   "execution_count": 1,
   "id": "7012346c-3242-4300-b681-0ad00fa65045",
   "metadata": {},
   "outputs": [
    {
     "data": {
      "text/plain": [
       "range(1, 5)"
      ]
     },
     "execution_count": 1,
     "metadata": {},
     "output_type": "execute_result"
    }
   ],
   "source": [
    "# Tạo 1 đối tượng range từ 1 đến 5, k bao gồm 5\n",
    "range(1,5)"
   ]
  },
  {
   "cell_type": "code",
   "execution_count": 2,
   "id": "7c3a428e-cb33-4fed-bedc-4b2028c7590b",
   "metadata": {},
   "outputs": [
    {
     "data": {
      "text/plain": [
       "[1, 2, 3, 4]"
      ]
     },
     "execution_count": 2,
     "metadata": {},
     "output_type": "execute_result"
    }
   ],
   "source": [
    "# A range cast as list\n",
    "x=list(range(1,5))\n",
    "x"
   ]
  },
  {
   "cell_type": "code",
   "execution_count": 7,
   "id": "6a745515-2c47-4cc9-b3e5-d31c02d20747",
   "metadata": {},
   "outputs": [
    {
     "data": {
      "text/plain": [
       "[1, 3, 5, 7, 9]"
      ]
     },
     "execution_count": 7,
     "metadata": {},
     "output_type": "execute_result"
    }
   ],
   "source": [
    "list(range(1,10,2))"
   ]
  },
  {
   "cell_type": "code",
   "execution_count": 4,
   "id": "e2874b50-2e4b-476f-930e-ab33f1c5fd2e",
   "metadata": {},
   "outputs": [
    {
     "data": {
      "text/plain": [
       "[0, 5, 10, 15, 20]"
      ]
     },
     "execution_count": 4,
     "metadata": {},
     "output_type": "execute_result"
    }
   ],
   "source": [
    "list(range(0,21,5))"
   ]
  },
  {
   "cell_type": "markdown",
   "id": "97f90c25-4f4e-463b-8ed5-0542df37a562",
   "metadata": {},
   "source": [
    "1.2 Index and slicing lists:"
   ]
  },
  {
   "cell_type": "code",
   "execution_count": 5,
   "id": "dcc9ec3b-eb54-4c92-bc0f-bb9d46a9a183",
   "metadata": {},
   "outputs": [
    {
     "data": {
      "text/plain": [
       "2"
      ]
     },
     "execution_count": 5,
     "metadata": {},
     "output_type": "execute_result"
    }
   ],
   "source": [
    "x=[1,2,['Life','is']]\n",
    "x[1]"
   ]
  },
  {
   "cell_type": "code",
   "execution_count": 6,
   "id": "ee151c29-ca73-4882-b270-27795cc14e2a",
   "metadata": {},
   "outputs": [
    {
     "data": {
      "text/plain": [
       "['Life', 'is']"
      ]
     },
     "execution_count": 6,
     "metadata": {},
     "output_type": "execute_result"
    }
   ],
   "source": [
    "x[2]"
   ]
  },
  {
   "cell_type": "code",
   "execution_count": 8,
   "id": "9f4d7051-9ba4-4652-be47-f898a1383f8e",
   "metadata": {},
   "outputs": [
    {
     "data": {
      "text/plain": [
       "'is'"
      ]
     },
     "execution_count": 8,
     "metadata": {},
     "output_type": "execute_result"
    }
   ],
   "source": [
    "x[2][1]"
   ]
  },
  {
   "cell_type": "code",
   "execution_count": 10,
   "id": "9cf5fafa-b1c8-4bb1-8a91-d73bb8d174c2",
   "metadata": {},
   "outputs": [
    {
     "data": {
      "text/plain": [
       "['a', 'b']"
      ]
     },
     "execution_count": 10,
     "metadata": {},
     "output_type": "execute_result"
    }
   ],
   "source": [
    "x=[1,2,3,['a','b','c'],4,5]\n",
    "x[3][:2]"
   ]
  },
  {
   "cell_type": "markdown",
   "id": "1dbcf586-3970-49f2-a9c5-8a32b1f39b17",
   "metadata": {},
   "source": [
    "1.3. Operations with lists:"
   ]
  },
  {
   "cell_type": "code",
   "execution_count": 11,
   "id": "9d1d32c6-0bc7-451c-afb1-144e977c4274",
   "metadata": {},
   "outputs": [
    {
     "data": {
      "text/plain": [
       "[1, 2, 3, 4, 5, 6]"
      ]
     },
     "execution_count": 11,
     "metadata": {},
     "output_type": "execute_result"
    }
   ],
   "source": [
    "a = [1, 2, 3]\n",
    "b = [4, 5, 6]\n",
    "a + b"
   ]
  },
  {
   "cell_type": "code",
   "execution_count": 12,
   "id": "52dc6a86-8e8e-4e83-aae6-cd9d3be62551",
   "metadata": {},
   "outputs": [
    {
     "data": {
      "text/plain": [
       "[1, 2, 3, 1, 2, 3, 1, 2, 3]"
      ]
     },
     "execution_count": 12,
     "metadata": {},
     "output_type": "execute_result"
    }
   ],
   "source": [
    " x = [1, 2, 3]\n",
    "x*3"
   ]
  },
  {
   "cell_type": "markdown",
   "id": "42665565-1cad-4097-b1d7-21224e0b3307",
   "metadata": {},
   "source": [
    "1.4. Changing list content:"
   ]
  },
  {
   "cell_type": "code",
   "execution_count": 13,
   "id": "5ff02465-66a6-49a4-988c-c739e44c4e63",
   "metadata": {},
   "outputs": [
    {
     "data": {
      "text/plain": [
       "[1, -1, 3]"
      ]
     },
     "execution_count": 13,
     "metadata": {},
     "output_type": "execute_result"
    }
   ],
   "source": [
    "x = [1, 2, 3]\n",
    "x[1] = -1\n",
    "x"
   ]
  },
  {
   "cell_type": "code",
   "execution_count": 14,
   "id": "937e46a0-8ac5-49d5-8fdd-a56916ffad32",
   "metadata": {},
   "outputs": [
    {
     "data": {
      "text/plain": [
       "[1, 3, 5, 7, 9, 11]"
      ]
     },
     "execution_count": 14,
     "metadata": {},
     "output_type": "execute_result"
    }
   ],
   "source": [
    "x[1:3] = [3, 5, 7, 9, 11]\n",
    "x"
   ]
  },
  {
   "cell_type": "code",
   "execution_count": 15,
   "id": "ab18cf73-5347-4fd2-816c-eeaa5cf81227",
   "metadata": {},
   "outputs": [
    {
     "data": {
      "text/plain": [
       "[1, -1, -2, -3, 3]"
      ]
     },
     "execution_count": 15,
     "metadata": {},
     "output_type": "execute_result"
    }
   ],
   "source": [
    "# Replace part of a list.\n",
    "x = [1, 2, 3]\n",
    "x[1:2] = [-1, -2, -3]\n",
    "x"
   ]
  },
  {
   "cell_type": "code",
   "execution_count": 16,
   "id": "2843f735-c4e2-4811-a063-e3e5c30797af",
   "metadata": {},
   "outputs": [
    {
     "data": {
      "text/plain": [
       "[1, [-1, -2, -3], 3]"
      ]
     },
     "execution_count": 16,
     "metadata": {},
     "output_type": "execute_result"
    }
   ],
   "source": [
    "# List a particular element of the list.\n",
    "x = [1, 2, 3]\n",
    "x[1] = [-1, -2, -3]\n",
    "x"
   ]
  },
  {
   "cell_type": "markdown",
   "id": "3e83d3ce-241b-4f7b-bd19-43820f0187f1",
   "metadata": {},
   "source": [
    "1.5. Deleting part of a list:"
   ]
  },
  {
   "cell_type": "code",
   "execution_count": 19,
   "id": "cc7e9317-e189-43cf-a5b8-86f56ac9d8c2",
   "metadata": {},
   "outputs": [
    {
     "data": {
      "text/plain": [
       "[1, 4, 5]"
      ]
     },
     "execution_count": 19,
     "metadata": {},
     "output_type": "execute_result"
    }
   ],
   "source": [
    "x = [1, 2, 3, 4, 5]\n",
    "x[1:3] = []\n",
    "x"
   ]
  },
  {
   "cell_type": "code",
   "execution_count": 20,
   "id": "49e583d6-d7cd-40dc-ad38-f6913f227531",
   "metadata": {},
   "outputs": [
    {
     "data": {
      "text/plain": [
       "[1, 2, 4, 5]"
      ]
     },
     "execution_count": 20,
     "metadata": {},
     "output_type": "execute_result"
    }
   ],
   "source": [
    "x = [1, 2, 3, 4, 5]\n",
    "del x[2]\n",
    "x"
   ]
  },
  {
   "cell_type": "markdown",
   "id": "ff306c51-363b-45e1-860d-a79871f56816",
   "metadata": {},
   "source": [
    "1.6. Functions and methods for list objects:"
   ]
  },
  {
   "cell_type": "code",
   "execution_count": 21,
   "id": "f4abfd02-ec48-4a18-b3c1-c2bb4eef001c",
   "metadata": {},
   "outputs": [
    {
     "data": {
      "text/plain": [
       "5"
      ]
     },
     "execution_count": 21,
     "metadata": {},
     "output_type": "execute_result"
    }
   ],
   "source": [
    "x = [2,4,6,8,10]\n",
    "len(x)"
   ]
  },
  {
   "cell_type": "code",
   "execution_count": 22,
   "id": "a448333f-1c49-45f8-a5fd-71eabc51f627",
   "metadata": {},
   "outputs": [
    {
     "data": {
      "text/plain": [
       "[1, 2, 3, 4, [5, 6]]"
      ]
     },
     "execution_count": 22,
     "metadata": {},
     "output_type": "execute_result"
    }
   ],
   "source": [
    "x = [1, 2, 3]\n",
    "x.append(4)\n",
    "x.append([5,6])\n",
    "x"
   ]
  },
  {
   "cell_type": "code",
   "execution_count": 23,
   "id": "e3e0def4-5a88-40ec-8acd-1be9e40f49d6",
   "metadata": {},
   "outputs": [
    {
     "data": {
      "text/plain": [
       "[5, 4, 3, 2, 1]"
      ]
     },
     "execution_count": 23,
     "metadata": {},
     "output_type": "execute_result"
    }
   ],
   "source": [
    "x = [1, 2, 3, 4, 5]\n",
    "x.reverse()\n",
    "x"
   ]
  },
  {
   "cell_type": "code",
   "execution_count": 24,
   "id": "420df827-37bf-4a68-bb15-9f45892df3c0",
   "metadata": {},
   "outputs": [
    {
     "data": {
      "text/plain": [
       "[1, 2, 3, 4, 5]"
      ]
     },
     "execution_count": 24,
     "metadata": {},
     "output_type": "execute_result"
    }
   ],
   "source": [
    " # The sort() method changes the list permanently.\n",
    "x = [3, 1, 5, 2, 4]\n",
    "x.sort()\n",
    "x"
   ]
  },
  {
   "cell_type": "code",
   "execution_count": 25,
   "id": "852a79b7-ef8b-4a65-bc05-58bf17d0ec76",
   "metadata": {},
   "outputs": [
    {
     "data": {
      "text/plain": [
       "[5, 4, 3, 2, 1]"
      ]
     },
     "execution_count": 25,
     "metadata": {},
     "output_type": "execute_result"
    }
   ],
   "source": [
    "x = [3, 1, 5, 2, 4]\n",
    "x.sort(reverse=True)\n",
    "x"
   ]
  },
  {
   "cell_type": "code",
   "execution_count": 26,
   "id": "631e2c53-8125-4ec2-b778-024f6e81887b",
   "metadata": {},
   "outputs": [
    {
     "data": {
      "text/plain": [
       "[1, 2, 3, 4, 5]"
      ]
     },
     "execution_count": 26,
     "metadata": {},
     "output_type": "execute_result"
    }
   ],
   "source": [
    "# The function sorted() just returns a view without changing the list␣ ↪permanently.\n",
    "x = [3, 1, 5, 2, 4\n",
    "sorted(x)"
   ]
  },
  {
   "cell_type": "code",
   "execution_count": 28,
   "id": "11f96583-33b0-4044-bc87-f02f29689050",
   "metadata": {},
   "outputs": [
    {
     "data": {
      "text/plain": [
       "[3, 1, 5, 2, 4]"
      ]
     },
     "execution_count": 28,
     "metadata": {},
     "output_type": "execute_result"
    }
   ],
   "source": [
    "# We can verify that 'x' is the same as before.\n",
    "x"
   ]
  },
  {
   "cell_type": "raw",
   "id": "595d33bb-5a73-43e6-a2e1-9c57c3fb7674",
   "metadata": {},
   "source": [
    "0.1.2 2. Tuple:\n",
    "2.1. Creating tuples:"
   ]
  },
  {
   "cell_type": "code",
   "execution_count": 29,
   "id": "97545452-ecc3-407e-93f8-48b9c40d00f9",
   "metadata": {},
   "outputs": [
    {
     "data": {
      "text/plain": [
       "tuple"
      ]
     },
     "execution_count": 29,
     "metadata": {},
     "output_type": "execute_result"
    }
   ],
   "source": [
    "x = (1, 3, True, False, 'Hello', [3,5,7])\n",
    "type(x)"
   ]
  },
  {
   "cell_type": "code",
   "execution_count": 31,
   "id": "e1d6497a-d2ff-409f-976b-f8879612683e",
   "metadata": {},
   "outputs": [
    {
     "data": {
      "text/plain": [
       "(1, 2, 3, 4)"
      ]
     },
     "execution_count": 31,
     "metadata": {},
     "output_type": "execute_result"
    }
   ],
   "source": [
    "# A range cast as tuple.\n",
    "x = tuple(range(1,5))\n",
    "x"
   ]
  },
  {
   "cell_type": "markdown",
   "id": "796beac0-f22a-43d2-bad7-18b41d6428d2",
   "metadata": {},
   "source": [
    "2.2. Indexing and slicing tuples:"
   ]
  },
  {
   "cell_type": "code",
   "execution_count": 32,
   "id": "a68b1f74-aaaa-4f5b-b404-610572f6ffe0",
   "metadata": {},
   "outputs": [
    {
     "data": {
      "text/plain": [
       "('Life', 'is')"
      ]
     },
     "execution_count": 32,
     "metadata": {},
     "output_type": "execute_result"
    }
   ],
   "source": [
    "x = (1, 2, ('Life', 'is'))\n",
    "x[2]"
   ]
  },
  {
   "cell_type": "code",
   "execution_count": 33,
   "id": "34a68918-86ef-41ba-8cc2-1855e63b17a7",
   "metadata": {},
   "outputs": [
    {
     "data": {
      "text/plain": [
       "'is'"
      ]
     },
     "execution_count": 33,
     "metadata": {},
     "output_type": "execute_result"
    }
   ],
   "source": [
    "x[2][1]"
   ]
  },
  {
   "cell_type": "code",
   "execution_count": 34,
   "id": "455817d2-2694-40e0-85dc-8ca260a4e5e1",
   "metadata": {},
   "outputs": [
    {
     "data": {
      "text/plain": [
       "['a', 'b']"
      ]
     },
     "execution_count": 34,
     "metadata": {},
     "output_type": "execute_result"
    }
   ],
   "source": [
    " x = (1, 2, 3, ['a', 'b', 'c'], 4, 5)\n",
    "x[3][:2]"
   ]
  },
  {
   "cell_type": "markdown",
   "id": "58a47137-cd17-4a87-b05a-b47323090970",
   "metadata": {},
   "source": [
    "2.3. Operations with tuples:"
   ]
  },
  {
   "cell_type": "code",
   "execution_count": 35,
   "id": "f1936970-bfbb-4cb3-8ba6-9a05da55c194",
   "metadata": {},
   "outputs": [
    {
     "data": {
      "text/plain": [
       "(1, 2, 3, 4, 5, 6)"
      ]
     },
     "execution_count": 35,
     "metadata": {},
     "output_type": "execute_result"
    }
   ],
   "source": [
    " a = (1, 2, 3)\n",
    "b = (4, 5, 6)\n",
    "a + b"
   ]
  },
  {
   "cell_type": "code",
   "execution_count": 36,
   "id": "1007b53f-26d2-4ca0-8262-c25f80a3b32a",
   "metadata": {},
   "outputs": [
    {
     "data": {
      "text/plain": [
       "(1, 2, 3, 1, 2, 3, 1, 2, 3)"
      ]
     },
     "execution_count": 36,
     "metadata": {},
     "output_type": "execute_result"
    }
   ],
   "source": [
    "a*3"
   ]
  },
  {
   "cell_type": "markdown",
   "id": "f3fca180-141c-4e8e-be1a-9630b4bb9d2b",
   "metadata": {},
   "source": [
    "0.1.3 3. Dictionary:\r\n",
    "3.1. Creating dictionaries:"
   ]
  },
  {
   "cell_type": "code",
   "execution_count": 38,
   "id": "669da3e0-659d-4242-8a7a-948176f5a29e",
   "metadata": {},
   "outputs": [],
   "source": [
    "d = {'x':[1,2,3], 'y':[4,5,6]}"
   ]
  },
  {
   "cell_type": "code",
   "execution_count": 39,
   "id": "57ba21e4-bb49-42ed-918c-b5889a23cb4b",
   "metadata": {},
   "outputs": [
    {
     "data": {
      "text/plain": [
       "[1, 2, 3]"
      ]
     },
     "execution_count": 39,
     "metadata": {},
     "output_type": "execute_result"
    }
   ],
   "source": [
    "d['x']"
   ]
  },
  {
   "cell_type": "code",
   "execution_count": 40,
   "id": "d2ae38e4-86cd-4be5-8fa5-189c0bd2032a",
   "metadata": {},
   "outputs": [
    {
     "data": {
      "text/plain": [
       "[4, 5, 6]"
      ]
     },
     "execution_count": 40,
     "metadata": {},
     "output_type": "execute_result"
    }
   ],
   "source": [
    "d['y']"
   ]
  },
  {
   "cell_type": "markdown",
   "id": "6dfb5bb4-6cef-456e-abc2-031e55392bf1",
   "metadata": {},
   "source": [
    "3.2. Adding key-value pairs, deletion, update:"
   ]
  },
  {
   "cell_type": "code",
   "execution_count": 41,
   "id": "ccdcc53b-52a6-446b-89a9-d38a14b5e945",
   "metadata": {},
   "outputs": [
    {
     "data": {
      "text/plain": [
       "{'name': 'John', 'gender': 'Male', 'age': 23}"
      ]
     },
     "execution_count": 41,
     "metadata": {},
     "output_type": "execute_result"
    }
   ],
   "source": [
    " d = {}\n",
    "d['name'] = 'John'\n",
    "d['gender'] = 'Male'\n",
    "d['age'] = 23\n",
    "d"
   ]
  },
  {
   "cell_type": "code",
   "execution_count": 42,
   "id": "e1272301-b823-46f0-a878-90e593d63a7c",
   "metadata": {},
   "outputs": [
    {
     "data": {
      "text/plain": [
       "{'name': 'John', 'gender': 'Male'}"
      ]
     },
     "execution_count": 42,
     "metadata": {},
     "output_type": "execute_result"
    }
   ],
   "source": [
    "del d['age']\n",
    "d"
   ]
  },
  {
   "cell_type": "code",
   "execution_count": 43,
   "id": "3f5658ee-1a89-491d-897d-ffbfe5360284",
   "metadata": {},
   "outputs": [
    {
     "data": {
      "text/plain": [
       "{'name': 'Andrew', 'gender': 'Male'}"
      ]
     },
     "execution_count": 43,
     "metadata": {},
     "output_type": "execute_result"
    }
   ],
   "source": [
    "d['name'] = 'Andrew'\n",
    "d"
   ]
  },
  {
   "cell_type": "markdown",
   "id": "293e0d39-5fad-4bfc-a361-acfb79d026d1",
   "metadata": {},
   "source": [
    "3.3. Dictionary methods and operations:"
   ]
  },
  {
   "cell_type": "code",
   "execution_count": 44,
   "id": "63d36aaa-d0eb-465e-9371-733bd846dc53",
   "metadata": {},
   "outputs": [
    {
     "data": {
      "text/plain": [
       "dict_keys(['name', 'gender'])"
      ]
     },
     "execution_count": 44,
     "metadata": {},
     "output_type": "execute_result"
    }
   ],
   "source": [
    "d.keys()"
   ]
  },
  {
   "cell_type": "code",
   "execution_count": 45,
   "id": "0a5e9cb5-0fea-433f-95b2-b8097461c4cf",
   "metadata": {},
   "outputs": [
    {
     "data": {
      "text/plain": [
       "dict_values(['Andrew', 'Male'])"
      ]
     },
     "execution_count": 45,
     "metadata": {},
     "output_type": "execute_result"
    }
   ],
   "source": [
    "d.values()"
   ]
  },
  {
   "cell_type": "code",
   "execution_count": 46,
   "id": "003ace16-7399-4a9e-8785-4c922b1ee96b",
   "metadata": {},
   "outputs": [
    {
     "data": {
      "text/plain": [
       "dict_items([('name', 'Andrew'), ('gender', 'Male')])"
      ]
     },
     "execution_count": 46,
     "metadata": {},
     "output_type": "execute_result"
    }
   ],
   "source": [
    "d.items()"
   ]
  },
  {
   "cell_type": "code",
   "execution_count": 47,
   "id": "43289f2b-8136-49a1-8f47-7cfa553f4e33",
   "metadata": {},
   "outputs": [
    {
     "data": {
      "text/plain": [
       "{}"
      ]
     },
     "execution_count": 47,
     "metadata": {},
     "output_type": "execute_result"
    }
   ],
   "source": [
    "d.clear()\n",
    "d"
   ]
  },
  {
   "cell_type": "code",
   "execution_count": 48,
   "id": "f831bdd8-a9e4-4e9a-b8df-267b2ed7ef65",
   "metadata": {},
   "outputs": [
    {
     "data": {
      "text/plain": [
       "0"
      ]
     },
     "execution_count": 48,
     "metadata": {},
     "output_type": "execute_result"
    }
   ],
   "source": [
    "d = {'name': 'John', 'gender': 'Male', 'age': 23}\n",
    "d.get('wage', 0)"
   ]
  },
  {
   "cell_type": "code",
   "execution_count": 49,
   "id": "9ef140ec-a853-4186-bc71-404361def017",
   "metadata": {},
   "outputs": [
    {
     "data": {
      "text/plain": [
       "True"
      ]
     },
     "execution_count": 49,
     "metadata": {},
     "output_type": "execute_result"
    }
   ],
   "source": [
    "# Check whether 'name' is a key of d.\n",
    "'name' in d"
   ]
  },
  {
   "cell_type": "code",
   "execution_count": 50,
   "id": "711aab95-8199-4823-b201-d61d15cc03e8",
   "metadata": {},
   "outputs": [
    {
     "data": {
      "text/plain": [
       "False"
      ]
     },
     "execution_count": 50,
     "metadata": {},
     "output_type": "execute_result"
    }
   ],
   "source": [
    "# Check whether 'wage' is a key of d.\n",
    "'wage' in d"
   ]
  },
  {
   "cell_type": "markdown",
   "id": "43ce4a31-9d9f-48f2-b03e-aa27d5e0c769",
   "metadata": {},
   "source": [
    "0.1.4 4. Set:\r\n",
    "4.1. Creating a set\r"
   ]
  },
  {
   "cell_type": "code",
   "execution_count": 51,
   "id": "58ebf9e0-cf15-45d1-be03-6f9cac808c7c",
   "metadata": {},
   "outputs": [
    {
     "data": {
      "text/plain": [
       "{1, 2, 3, 4, 5}"
      ]
     },
     "execution_count": 51,
     "metadata": {},
     "output_type": "execute_result"
    }
   ],
   "source": [
    "b = set([1,2,3,3,3,3,4,5])\n",
    "b"
   ]
  },
  {
   "cell_type": "markdown",
   "id": "115f316d-2300-4ffc-8f78-d94fb61803e1",
   "metadata": {},
   "source": [
    "4.2. Operations with sets:"
   ]
  },
  {
   "cell_type": "code",
   "execution_count": 52,
   "id": "2e688888-9519-446f-b727-f97a95ba5dc4",
   "metadata": {},
   "outputs": [
    {
     "data": {
      "text/plain": [
       "{4, 5}"
      ]
     },
     "execution_count": 52,
     "metadata": {},
     "output_type": "execute_result"
    }
   ],
   "source": [
    "s1 = set([1, 2, 3, 4, 5])\n",
    "s2 = set([4, 5, 6, 7, 8])\n",
    "s1 & s2"
   ]
  },
  {
   "cell_type": "code",
   "execution_count": 53,
   "id": "788cc357-aedb-41ab-bcff-2d86a0fb5de4",
   "metadata": {},
   "outputs": [
    {
     "data": {
      "text/plain": [
       "{4, 5}"
      ]
     },
     "execution_count": 53,
     "metadata": {},
     "output_type": "execute_result"
    }
   ],
   "source": [
    "s1.intersection(s2)"
   ]
  },
  {
   "cell_type": "code",
   "execution_count": 54,
   "id": "5b8396ca-e720-4e90-9632-cb30b224a4f6",
   "metadata": {},
   "outputs": [
    {
     "data": {
      "text/plain": [
       "{1, 2, 3, 4, 5, 6, 7, 8}"
      ]
     },
     "execution_count": 54,
     "metadata": {},
     "output_type": "execute_result"
    }
   ],
   "source": [
    "s1 | s2"
   ]
  },
  {
   "cell_type": "code",
   "execution_count": 55,
   "id": "e7ab1f80-3c7d-4ade-bdcb-515eedf35798",
   "metadata": {},
   "outputs": [
    {
     "data": {
      "text/plain": [
       "{1, 2, 3, 4, 5, 6, 7, 8}"
      ]
     },
     "execution_count": 55,
     "metadata": {},
     "output_type": "execute_result"
    }
   ],
   "source": [
    "s1.union(s2)"
   ]
  },
  {
   "cell_type": "code",
   "execution_count": 56,
   "id": "09f7ee07-22e3-4545-bac6-a66829e2cc91",
   "metadata": {},
   "outputs": [
    {
     "data": {
      "text/plain": [
       "{1, 2, 3}"
      ]
     },
     "execution_count": 56,
     "metadata": {},
     "output_type": "execute_result"
    }
   ],
   "source": [
    "s1 - s2"
   ]
  },
  {
   "cell_type": "code",
   "execution_count": 57,
   "id": "82086b06-9420-4904-97c9-56c59ba29e76",
   "metadata": {},
   "outputs": [
    {
     "data": {
      "text/plain": [
       "{1, 2, 3}"
      ]
     },
     "execution_count": 57,
     "metadata": {},
     "output_type": "execute_result"
    }
   ],
   "source": [
    "s1.difference(s2)"
   ]
  },
  {
   "cell_type": "code",
   "execution_count": 58,
   "id": "390ebeb0-888d-4b21-90b1-e745707d7ce3",
   "metadata": {},
   "outputs": [
    {
     "data": {
      "text/plain": [
       "{1, 2, 3, 4, 5, 6}"
      ]
     },
     "execution_count": 58,
     "metadata": {},
     "output_type": "execute_result"
    }
   ],
   "source": [
    "a = set([1, 2, 3, 4, 5])\n",
    "a.add(6)\n",
    "a"
   ]
  },
  {
   "cell_type": "code",
   "execution_count": 59,
   "id": "b97ba764-45aa-4f69-8bb5-1f4939b4fd24",
   "metadata": {},
   "outputs": [
    {
     "data": {
      "text/plain": [
       "{1, 2, 3, 4, 5, 6, 7, 8, 9}"
      ]
     },
     "execution_count": 59,
     "metadata": {},
     "output_type": "execute_result"
    }
   ],
   "source": [
    "a.update([7, 8, 9])\n",
    "a"
   ]
  },
  {
   "cell_type": "code",
   "execution_count": 60,
   "id": "3ba5a201-a3e9-44ad-ba33-ee62c39b3e7c",
   "metadata": {},
   "outputs": [
    {
     "data": {
      "text/plain": [
       "{1, 2, 3, 4, 5, 6, 7, 8}"
      ]
     },
     "execution_count": 60,
     "metadata": {},
     "output_type": "execute_result"
    }
   ],
   "source": [
    "a.remove(9)\n",
    "a"
   ]
  }
 ],
 "metadata": {
  "kernelspec": {
   "display_name": "Python 3 (ipykernel)",
   "language": "python",
   "name": "python3"
  },
  "language_info": {
   "codemirror_mode": {
    "name": "ipython",
    "version": 3
   },
   "file_extension": ".py",
   "mimetype": "text/x-python",
   "name": "python",
   "nbconvert_exporter": "python",
   "pygments_lexer": "ipython3",
   "version": "3.12.4"
  }
 },
 "nbformat": 4,
 "nbformat_minor": 5
}
