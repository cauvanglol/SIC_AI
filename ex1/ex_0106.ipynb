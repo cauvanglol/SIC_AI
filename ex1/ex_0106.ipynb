{
 "cells": [
  {
   "cell_type": "markdown",
   "id": "3146f320-b5bb-41f5-8133-c3e907f6ae03",
   "metadata": {},
   "source": [
    "0.1.1 1. Functions:\r\n",
    "1.1. User defined functions (UDFs): A function with input arguments and a returned value:"
   ]
  },
  {
   "cell_type": "code",
   "execution_count": 1,
   "id": "b5347caf-bbbe-4601-be1b-3df73a368050",
   "metadata": {},
   "outputs": [
    {
     "data": {
      "text/plain": [
       "12"
      ]
     },
     "execution_count": 1,
     "metadata": {},
     "output_type": "execute_result"
    }
   ],
   "source": [
    "def prod(a,b):\n",
    "    x = a*b\n",
    "    return x\n",
    "prod(3,4)\n",
    "#A function without input argument:"
   ]
  },
  {
   "cell_type": "code",
   "execution_count": 2,
   "id": "dc5e3cad-0059-4a01-836d-606caf354361",
   "metadata": {},
   "outputs": [
    {
     "name": "stdout",
     "output_type": "stream",
     "text": [
      "Hello World!\n"
     ]
    }
   ],
   "source": [
    "def output():\n",
    "    return 'Hello World!'\n",
    "print(output())\n",
    "#A function without returned value:"
   ]
  },
  {
   "cell_type": "code",
   "execution_count": 4,
   "id": "802e6593-debc-4d1e-b6b4-04e0525e8540",
   "metadata": {},
   "outputs": [
    {
     "name": "stdout",
     "output_type": "stream",
     "text": [
      "21\n"
     ]
    }
   ],
   "source": [
    "def times3(a):\n",
    "    print(3*a)\n",
    "    return\n",
    "times3(7)\n",
    "#A function without input argument nor returned value:"
   ]
  },
  {
   "cell_type": "code",
   "execution_count": 5,
   "id": "e87b9809-f73b-4719-8221-4d2388a5d404",
   "metadata": {},
   "outputs": [
    {
     "data": {
      "text/plain": [
       "55"
      ]
     },
     "execution_count": 5,
     "metadata": {},
     "output_type": "execute_result"
    }
   ],
   "source": [
    "sum_total = 0\n",
    "def increase():\n",
    "    global sum_total\n",
    "    for i in range(11):\n",
    "        sum_total += i\n",
    "increase()\n",
    "sum_total\n",
    "#A function with undetermined number of input arguments:"
   ]
  },
  {
   "cell_type": "code",
   "execution_count": 9,
   "id": "45356bf7-178e-4e56-9477-8b1678297ef6",
   "metadata": {},
   "outputs": [],
   "source": [
    "def sum_up(*vals):\n",
    "    total = 0\n",
    "    for x in vals:\n",
    "        total += x\n",
    "    return total"
   ]
  },
  {
   "cell_type": "code",
   "execution_count": 10,
   "id": "76f53468-f947-46b8-a370-f1b7d38d6754",
   "metadata": {},
   "outputs": [
    {
     "data": {
      "text/plain": [
       "6"
      ]
     },
     "execution_count": 10,
     "metadata": {},
     "output_type": "execute_result"
    }
   ],
   "source": [
    "sum_up(1,2,3)"
   ]
  },
  {
   "cell_type": "code",
   "execution_count": 11,
   "id": "863cb0a7-6f4f-48f0-967b-eb0bf726cd4e",
   "metadata": {},
   "outputs": [
    {
     "data": {
      "text/plain": [
       "15"
      ]
     },
     "execution_count": 11,
     "metadata": {},
     "output_type": "execute_result"
    }
   ],
   "source": [
    "sum_up(1,2,3,4,5)"
   ]
  },
  {
   "cell_type": "code",
   "execution_count": 12,
   "id": "c3345d53-5c51-4c11-b15d-c0f217cb7669",
   "metadata": {},
   "outputs": [],
   "source": [
    "#A function with multiple return values\n",
    "def ArithmeticOprs(a,b):\n",
    "    return a + b, a-b, a * b, a/b"
   ]
  },
  {
   "cell_type": "code",
   "execution_count": 13,
   "id": "79d58248-5df7-4d41-8e2e-1b33faf94b3b",
   "metadata": {},
   "outputs": [
    {
     "data": {
      "text/plain": [
       "tuple"
      ]
     },
     "execution_count": 13,
     "metadata": {},
     "output_type": "execute_result"
    }
   ],
   "source": [
    "type(ArithmeticOprs(4,2))"
   ]
  },
  {
   "cell_type": "code",
   "execution_count": 14,
   "id": "87f5eab3-bd78-4c09-a198-376b6d312ead",
   "metadata": {},
   "outputs": [
    {
     "data": {
      "text/plain": [
       "(6, 2, 8, 2.0)"
      ]
     },
     "execution_count": 14,
     "metadata": {},
     "output_type": "execute_result"
    }
   ],
   "source": [
    "ArithmeticOprs(4,2)"
   ]
  },
  {
   "cell_type": "code",
   "execution_count": 15,
   "id": "efae87dd-e3d6-406c-8c0c-3799d954b470",
   "metadata": {},
   "outputs": [],
   "source": [
    "#Default values for the input arguments:\n",
    "def ArithmeticOprs(a=2,b=1):\n",
    "    return a + b, a - b, a * b, a/b"
   ]
  },
  {
   "cell_type": "code",
   "execution_count": 16,
   "id": "23987feb-ec5c-4c75-a4d4-b80d15865d14",
   "metadata": {},
   "outputs": [
    {
     "data": {
      "text/plain": [
       "(3, 1, 2, 2.0)"
      ]
     },
     "execution_count": 16,
     "metadata": {},
     "output_type": "execute_result"
    }
   ],
   "source": [
    "ArithmeticOprs()"
   ]
  },
  {
   "cell_type": "code",
   "execution_count": 17,
   "id": "ec8742d6-d4f5-45a8-a69a-842584dcea81",
   "metadata": {},
   "outputs": [
    {
     "data": {
      "text/plain": [
       "(4, 2, 3, 3.0)"
      ]
     },
     "execution_count": 17,
     "metadata": {},
     "output_type": "execute_result"
    }
   ],
   "source": [
    "ArithmeticOprs(3)"
   ]
  },
  {
   "cell_type": "code",
   "execution_count": 18,
   "id": "8c7ff06c-5211-4204-ac9f-513945b94d3b",
   "metadata": {},
   "outputs": [
    {
     "data": {
      "text/plain": [
       "(5, -1, 6, 0.6666666666666666)"
      ]
     },
     "execution_count": 18,
     "metadata": {},
     "output_type": "execute_result"
    }
   ],
   "source": [
    "ArithmeticOprs(b=3)"
   ]
  },
  {
   "cell_type": "code",
   "execution_count": 19,
   "id": "6ebbe579-4e2a-4b48-bd49-33ddd51fd903",
   "metadata": {},
   "outputs": [],
   "source": [
    "#A local variable’s scope is limited to the function body where it is defined:\n",
    "# 'result' inside of the function body and 'result' outside of it are different␣ ↪variables.\n",
    "result = 333\n",
    "def average(*a):\n",
    "    result = 0\n",
    "    for x in a:\n",
    "        result += x\n",
    "    result /= len(a)\n",
    "    return result"
   ]
  },
  {
   "cell_type": "code",
   "execution_count": 20,
   "id": "65c6699c-80e1-47c7-a785-31550bbbb537",
   "metadata": {},
   "outputs": [
    {
     "data": {
      "text/plain": [
       "3.0"
      ]
     },
     "execution_count": 20,
     "metadata": {},
     "output_type": "execute_result"
    }
   ],
   "source": [
    "average(1,2,3,4,5)"
   ]
  },
  {
   "cell_type": "code",
   "execution_count": 21,
   "id": "b57f3e9f-777f-4a47-9388-16b6a714e4b5",
   "metadata": {},
   "outputs": [
    {
     "data": {
      "text/plain": [
       "333"
      ]
     },
     "execution_count": 21,
     "metadata": {},
     "output_type": "execute_result"
    }
   ],
   "source": [
    "# 'result' defined outside of the function kept its original value.\n",
    "result"
   ]
  },
  {
   "cell_type": "markdown",
   "id": "c177f91b-ecf3-47fe-a82c-ef5e04e009cb",
   "metadata": {},
   "source": [
    "As ‘result’ is defined as a global variable, it is the same as the one defined outside of the function\n",
    "body."
   ]
  },
  {
   "cell_type": "code",
   "execution_count": 25,
   "id": "e7f74019-379f-4ee5-99e0-473217619f30",
   "metadata": {},
   "outputs": [],
   "source": [
    "# Please, notice that there is no explicit return value.\n",
    "result = 0\n",
    "def average(*a):\n",
    "    global result\n",
    "    for x in a:\n",
    "        result += x\n",
    "    result /= len(a)\n",
    "    return"
   ]
  },
  {
   "cell_type": "code",
   "execution_count": 26,
   "id": "ea116424-657a-4409-a8ef-575cc3a3004d",
   "metadata": {},
   "outputs": [],
   "source": [
    "average(1,2,3,4,5)"
   ]
  },
  {
   "cell_type": "code",
   "execution_count": 27,
   "id": "75c7b41b-749d-4a67-95e5-e59679384e06",
   "metadata": {},
   "outputs": [
    {
     "data": {
      "text/plain": [
       "3.0"
      ]
     },
     "execution_count": 27,
     "metadata": {},
     "output_type": "execute_result"
    }
   ],
   "source": [
    "# Now, 'result' contains the value calculated byh the function.\n",
    "result"
   ]
  },
  {
   "cell_type": "markdown",
   "id": "d4da791c-6efe-4f51-9061-e757d2ae3d11",
   "metadata": {},
   "source": [
    "1.2. Lambda functions:"
   ]
  },
  {
   "cell_type": "code",
   "execution_count": 28,
   "id": "6f69609e-ef29-4eab-acaa-dd4f16867971",
   "metadata": {},
   "outputs": [],
   "source": [
    " # This function returns a lambda function.\n",
    "def makeMyFunc(a):\n",
    "    return lambda x: a*x"
   ]
  },
  {
   "cell_type": "code",
   "execution_count": 31,
   "id": "904b8c8b-f698-470a-bbca-b8ea6f31422f",
   "metadata": {},
   "outputs": [],
   "source": [
    "# Assign lambda function to a variable, so that it can be used just like any␣\n",
    "#↪other function.\n",
    "myFunc = makeMyFunc(3)"
   ]
  },
  {
   "cell_type": "code",
   "execution_count": 32,
   "id": "daa4e6b4-93bd-4f01-8b95-110f7536d775",
   "metadata": {},
   "outputs": [
    {
     "data": {
      "text/plain": [
       "function"
      ]
     },
     "execution_count": 32,
     "metadata": {},
     "output_type": "execute_result"
    }
   ],
   "source": [
    "type(myFunc)"
   ]
  },
  {
   "cell_type": "code",
   "execution_count": 33,
   "id": "2349317d-8ae2-49a0-b971-8b0b10525d9b",
   "metadata": {},
   "outputs": [
    {
     "data": {
      "text/plain": [
       "12"
      ]
     },
     "execution_count": 33,
     "metadata": {},
     "output_type": "execute_result"
    }
   ],
   "source": [
    "myFunc(4)"
   ]
  },
  {
   "cell_type": "raw",
   "id": "c98c1e85-59dc-4314-8d55-efcf2be23c8e",
   "metadata": {},
   "source": [
    "Lambda function with map() and filter():"
   ]
  },
  {
   "cell_type": "code",
   "execution_count": 34,
   "id": "5ad27614-b7cf-4298-b42c-7f3652fc2e5e",
   "metadata": {},
   "outputs": [],
   "source": [
    "a = [1, 2, 3, 4, 5, 6, 7, 8, 9, 10]"
   ]
  },
  {
   "cell_type": "code",
   "execution_count": 35,
   "id": "db24079a-3ec2-4dc8-a7b7-eebdd3697e32",
   "metadata": {},
   "outputs": [
    {
     "data": {
      "text/plain": [
       "[2, 4, 6, 8, 10, 12, 14, 16, 18, 20]"
      ]
     },
     "execution_count": 35,
     "metadata": {},
     "output_type": "execute_result"
    }
   ],
   "source": [
    "# Map the lambda function to each element of the list.\n",
    "list(map(lambda x: x * 2, a))"
   ]
  },
  {
   "cell_type": "code",
   "execution_count": 36,
   "id": "c2044d3b-68d4-433c-9488-4b96066183e1",
   "metadata": {},
   "outputs": [
    {
     "data": {
      "text/plain": [
       "[3, 6, 9]"
      ]
     },
     "execution_count": 36,
     "metadata": {},
     "output_type": "execute_result"
    }
   ],
   "source": [
    "# Filter the list elements according to the condition given by the lambda␣\n",
    "#↪function.\n",
    "list(filter(lambda x: x % 3 ==0, a))"
   ]
  },
  {
   "cell_type": "markdown",
   "id": "7be0a880-2c73-4c71-9434-3346b6307ed3",
   "metadata": {},
   "source": [
    "1.3. Custom modules:"
   ]
  },
  {
   "cell_type": "code",
   "execution_count": 49,
   "id": "dab2c5ef-0776-4a74-bbc9-d3b69898ce0a",
   "metadata": {},
   "outputs": [],
   "source": [
    "import myModule as md"
   ]
  },
  {
   "cell_type": "code",
   "execution_count": 50,
   "id": "cfd1bb40-4468-401a-ba18-c9e887b7b724",
   "metadata": {},
   "outputs": [
    {
     "ename": "AttributeError",
     "evalue": "module 'myModule' has no attribute 'sum'",
     "output_type": "error",
     "traceback": [
      "\u001b[1;31m---------------------------------------------------------------------------\u001b[0m",
      "\u001b[1;31mAttributeError\u001b[0m                            Traceback (most recent call last)",
      "Cell \u001b[1;32mIn[50], line 1\u001b[0m\n\u001b[1;32m----> 1\u001b[0m md\u001b[38;5;241m.\u001b[39msum(\u001b[38;5;241m3\u001b[39m,\u001b[38;5;241m4\u001b[39m)\n",
      "\u001b[1;31mAttributeError\u001b[0m: module 'myModule' has no attribute 'sum'"
     ]
    }
   ],
   "source": [
    "md.sum(3,4)"
   ]
  },
  {
   "cell_type": "code",
   "execution_count": 45,
   "id": "a4c25085-c785-45cc-9ecc-a6fcf1d6213b",
   "metadata": {},
   "outputs": [
    {
     "ename": "SyntaxError",
     "evalue": "invalid syntax (2420176505.py, line 1)",
     "output_type": "error",
     "traceback": [
      "\u001b[1;36m  Cell \u001b[1;32mIn[45], line 1\u001b[1;36m\u001b[0m\n\u001b[1;33m    : md.product(4,5)\u001b[0m\n\u001b[1;37m    ^\u001b[0m\n\u001b[1;31mSyntaxError\u001b[0m\u001b[1;31m:\u001b[0m invalid syntax\n"
     ]
    }
   ],
   "source": [
    ": md.product(4,5)"
   ]
  },
  {
   "cell_type": "code",
   "execution_count": null,
   "id": "8251f4fc-8dc2-4cad-9021-270b1001a529",
   "metadata": {},
   "outputs": [],
   "source": []
  }
 ],
 "metadata": {
  "kernelspec": {
   "display_name": "Python 3 (ipykernel)",
   "language": "python",
   "name": "python3"
  },
  "language_info": {
   "codemirror_mode": {
    "name": "ipython",
    "version": 3
   },
   "file_extension": ".py",
   "mimetype": "text/x-python",
   "name": "python",
   "nbconvert_exporter": "python",
   "pygments_lexer": "ipython3",
   "version": "3.12.4"
  }
 },
 "nbformat": 4,
 "nbformat_minor": 5
}
