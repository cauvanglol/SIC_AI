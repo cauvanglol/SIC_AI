{
 "cells": [
  {
   "cell_type": "markdown",
   "id": "23eea726-b1d8-4829-94f8-57656a59bd71",
   "metadata": {},
   "source": [
    "0.1.1 1. String functions:"
   ]
  },
  {
   "cell_type": "code",
   "execution_count": 1,
   "id": "db11f266-0c31-4f05-b8e3-aa55dc8073bb",
   "metadata": {},
   "outputs": [
    {
     "data": {
      "text/plain": [
       "'hello! how are you?'"
      ]
     },
     "execution_count": 1,
     "metadata": {},
     "output_type": "execute_result"
    }
   ],
   "source": [
    "# To lowercase.\n",
    "\"HELLO! HOW ARE YOU?\".lower()\n"
   ]
  },
  {
   "cell_type": "code",
   "execution_count": 3,
   "id": "4856a162-58c6-431f-b25c-da99fb35a124",
   "metadata": {},
   "outputs": [
    {
     "data": {
      "text/plain": [
       "'THIS IS A WARNING!'"
      ]
     },
     "execution_count": 3,
     "metadata": {},
     "output_type": "execute_result"
    }
   ],
   "source": [
    "# To uppercase.\n",
    "\"this is a warning!\".upper()"
   ]
  },
  {
   "cell_type": "code",
   "execution_count": 5,
   "id": "f43eb1a1-4f9c-4b38-90ca-9b019a81bd8a",
   "metadata": {},
   "outputs": [
    {
     "data": {
      "text/plain": [
       "['Once',\n",
       " 'uppon',\n",
       " 'a',\n",
       " 'time,',\n",
       " 'there',\n",
       " 'was',\n",
       " 'a',\n",
       " 'prince',\n",
       " 'and',\n",
       " 'a',\n",
       " 'princess.']"
      ]
     },
     "execution_count": 5,
     "metadata": {},
     "output_type": "execute_result"
    }
   ],
   "source": [
    "# Split the string using a space as separator.\n",
    "x = \"Once uppon a time, there was a prince and a princess.\".split(\" \")\n",
    "x"
   ]
  },
  {
   "cell_type": "code",
   "execution_count": 6,
   "id": "b614d84a-c5c5-4abf-b044-b314769d7a33",
   "metadata": {},
   "outputs": [
    {
     "data": {
      "text/plain": [
       "'Once uppon a time, there was a prince and a princess.'"
      ]
     },
     "execution_count": 6,
     "metadata": {},
     "output_type": "execute_result"
    }
   ],
   "source": [
    "# Join the list of string objects using a space as separator.\n",
    "\" \".join(x)"
   ]
  },
  {
   "cell_type": "code",
   "execution_count": 7,
   "id": "6bb81125-eba0-42a3-9026-41dadc441908",
   "metadata": {},
   "outputs": [
    {
     "name": "stdout",
     "output_type": "stream",
     "text": [
      "53\n"
     ]
    }
   ],
   "source": [
    "# Measure the length of a string object.\n",
    "y = \"Once uppon a time, there was a prince and a princess.\"\n",
    "print(len(y))\n"
   ]
  },
  {
   "cell_type": "code",
   "execution_count": 8,
   "id": "4567e77a-ffea-4676-a15b-dd01b075f8ec",
   "metadata": {},
   "outputs": [
    {
     "data": {
      "text/plain": [
       "5"
      ]
     },
     "execution_count": 8,
     "metadata": {},
     "output_type": "execute_result"
    }
   ],
   "source": [
    "# Count the number of occurrences of 'a'.\n",
    "y.count('a')\n"
   ]
  },
  {
   "cell_type": "code",
   "execution_count": 9,
   "id": "71d99458-a119-449d-ab5a-2d412d2fb20b",
   "metadata": {},
   "outputs": [
    {
     "data": {
      "text/plain": [
       "'Once uppon'"
      ]
     },
     "execution_count": 9,
     "metadata": {},
     "output_type": "execute_result"
    }
   ],
   "source": [
    "# Sub-string.\n",
    "y[0:10]\n"
   ]
  },
  {
   "cell_type": "markdown",
   "id": "d3bb168d-4d5a-4f40-8ca4-f9da537e7d9c",
   "metadata": {},
   "source": [
    "0.1.2 2. Regular expressions:\n"
   ]
  },
  {
   "cell_type": "code",
   "execution_count": 10,
   "id": "cd9ff8f1-557a-4909-8501-d0ad57cf5d0e",
   "metadata": {},
   "outputs": [],
   "source": [
    "import re"
   ]
  },
  {
   "cell_type": "code",
   "execution_count": 11,
   "id": "b1cc3189-b1c9-41a7-8f43-6718520d9717",
   "metadata": {},
   "outputs": [],
   "source": [
    "x1 = \"ct\"\n",
    "x2 = \"cat\"\n",
    "x3 = \"caat\""
   ]
  },
  {
   "cell_type": "code",
   "execution_count": 12,
   "id": "8429fb25-9a64-4f89-8b39-086b2d3a33c6",
   "metadata": {},
   "outputs": [],
   "source": [
    "# A regular expression.\n",
    "my_expression = re.compile(\"c.t\")"
   ]
  },
  {
   "cell_type": "code",
   "execution_count": 13,
   "id": "e0f6e935-6e74-4353-9e32-23dab4b04388",
   "metadata": {},
   "outputs": [
    {
     "name": "stdout",
     "output_type": "stream",
     "text": [
      "No\n"
     ]
    }
   ],
   "source": [
    "if my_expression.search(x1):\n",
    "    print(\"Yes!\")\n",
    "else:\n",
    "    print(\"No\")\n"
   ]
  },
  {
   "cell_type": "code",
   "execution_count": 14,
   "id": "42207eec-2747-472d-8ccc-9b64c3599295",
   "metadata": {},
   "outputs": [
    {
     "name": "stdout",
     "output_type": "stream",
     "text": [
      "Yes!\n"
     ]
    }
   ],
   "source": [
    "if my_expression.search(x2):\n",
    "    print(\"Yes!\")\n",
    "else:\n",
    "    print(\"No\")\n"
   ]
  },
  {
   "cell_type": "code",
   "execution_count": 15,
   "id": "b361545c-dab0-45d0-9c7d-d7f49306f31a",
   "metadata": {},
   "outputs": [
    {
     "name": "stdout",
     "output_type": "stream",
     "text": [
      "No\n"
     ]
    }
   ],
   "source": [
    "if my_expression.search(x3):\n",
    "    print(\"Yes!\")\n",
    "else:\n",
    "    print(\"No\")\n"
   ]
  },
  {
   "cell_type": "markdown",
   "id": "3b314a7c-abb6-4e07-8c5d-39d3df266561",
   "metadata": {},
   "source": [
    "2.2. Metacharacter: ?\n"
   ]
  },
  {
   "cell_type": "code",
   "execution_count": 16,
   "id": "4dc48241-d87c-4d94-b3a8-3eb71b1b4349",
   "metadata": {},
   "outputs": [],
   "source": [
    "# A regular expression.\n",
    "my_exp = \"ca?t\""
   ]
  },
  {
   "cell_type": "code",
   "execution_count": 17,
   "id": "03ff2284-6613-4d86-aa60-53df99edb827",
   "metadata": {},
   "outputs": [
    {
     "name": "stdout",
     "output_type": "stream",
     "text": [
      "Yes!\n"
     ]
    }
   ],
   "source": [
    "if re.search(my_exp, x1):\n",
    "    print(\"Yes!\")\n",
    "else:\n",
    "    print(\"No\")\n"
   ]
  },
  {
   "cell_type": "code",
   "execution_count": 18,
   "id": "9429f996-cfb2-4470-9c51-e5ac7d4a6c8b",
   "metadata": {},
   "outputs": [
    {
     "name": "stdout",
     "output_type": "stream",
     "text": [
      "Yes!\n"
     ]
    }
   ],
   "source": [
    "if re.search(my_exp, x2):\n",
    "    print(\"Yes!\")\n",
    "else:\n",
    "    print(\"No\")\n"
   ]
  },
  {
   "cell_type": "code",
   "execution_count": 19,
   "id": "b159a109-262a-4b7c-ae18-d33e3277ae21",
   "metadata": {},
   "outputs": [
    {
     "name": "stdout",
     "output_type": "stream",
     "text": [
      "No\n"
     ]
    }
   ],
   "source": [
    "if re.search(my_exp, x3):\n",
    "    print(\"Yes!\")\n",
    "else:\n",
    "    print(\"No\")\n"
   ]
  },
  {
   "cell_type": "markdown",
   "id": "fedb4499-4445-49c1-9208-2e26d4d6ec02",
   "metadata": {},
   "source": [
    "2.3. Metacharacter: {m,n}\n"
   ]
  },
  {
   "cell_type": "code",
   "execution_count": 20,
   "id": "b1e69c31-148e-42a4-b31d-8274013aa018",
   "metadata": {},
   "outputs": [],
   "source": [
    " # Target strings.\n",
    "x1 = \"ct\"\n",
    "x2 = \"cat\"\n",
    "x3 = \"caat\"\n",
    "x4 = \"caaat\""
   ]
  },
  {
   "cell_type": "code",
   "execution_count": 21,
   "id": "dcda8b62-7ab2-4818-929e-7bab3ef3b7fa",
   "metadata": {},
   "outputs": [],
   "source": [
    "# A regular expression.\n",
    "my_exp= \"ca{1,2}t\"\n"
   ]
  },
  {
   "cell_type": "code",
   "execution_count": 22,
   "id": "122b1a1b-795d-4b07-9108-45580f638efa",
   "metadata": {},
   "outputs": [
    {
     "name": "stdout",
     "output_type": "stream",
     "text": [
      "No\n"
     ]
    }
   ],
   "source": [
    "if re.search(my_exp, x1):\n",
    "    print(\"Yes!\")\n",
    "else:\n",
    "    print(\"No\")\n"
   ]
  },
  {
   "cell_type": "code",
   "execution_count": 23,
   "id": "5f944958-c17d-4ba8-99e9-0244de987193",
   "metadata": {},
   "outputs": [
    {
     "name": "stdout",
     "output_type": "stream",
     "text": [
      "Yes!\n"
     ]
    }
   ],
   "source": [
    "if re.search(my_exp, x2):\n",
    "    print(\"Yes!\")\n",
    "else:\n",
    "    print(\"No\")\n"
   ]
  },
  {
   "cell_type": "code",
   "execution_count": 24,
   "id": "17bbeda3-46d7-473c-a623-07b302f3bd8f",
   "metadata": {},
   "outputs": [
    {
     "name": "stdout",
     "output_type": "stream",
     "text": [
      "Yes!\n"
     ]
    }
   ],
   "source": [
    "if re.search(my_exp, x3):\n",
    "    print(\"Yes!\")\n",
    "else:\n",
    "    print(\"No\")\n"
   ]
  },
  {
   "cell_type": "code",
   "execution_count": 25,
   "id": "be0afcf2-31f1-4d5a-a75d-b1c3f26bb388",
   "metadata": {},
   "outputs": [
    {
     "name": "stdout",
     "output_type": "stream",
     "text": [
      "No\n"
     ]
    }
   ],
   "source": [
    "if re.search(my_exp, x4):\n",
    "    print(\"Yes!\")\n",
    "else:\n",
    "    print(\"No\")\n"
   ]
  },
  {
   "cell_type": "markdown",
   "id": "d8a3884f-29d5-484a-bb12-da395ab75b46",
   "metadata": {},
   "source": [
    "2.4. Metacharacter: ^"
   ]
  },
  {
   "cell_type": "code",
   "execution_count": 26,
   "id": "f269a10e-139d-4a6e-b171-ab136a297184",
   "metadata": {},
   "outputs": [],
   "source": [
    " # Target strings.\n",
    "x1 = \"That is your book.\"\n",
    "x2 = \"This is my book.\"\n"
   ]
  },
  {
   "cell_type": "code",
   "execution_count": 27,
   "id": "f8e2c6ae-01ad-43d9-ada8-53309db66990",
   "metadata": {},
   "outputs": [],
   "source": [
    "# A regular expression.\n",
    "my_exp = \"^This\""
   ]
  },
  {
   "cell_type": "code",
   "execution_count": 28,
   "id": "71d86e71-3d08-490e-bdbc-d6f390422136",
   "metadata": {},
   "outputs": [
    {
     "name": "stdout",
     "output_type": "stream",
     "text": [
      "No\n"
     ]
    }
   ],
   "source": [
    "if re.search(my_exp, x1):\n",
    "    print(\"Yes!\")\n",
    "else:\n",
    "    print(\"No\")\n"
   ]
  },
  {
   "cell_type": "code",
   "execution_count": 29,
   "id": "18214078-ac0a-40c7-9fab-7616210ddbed",
   "metadata": {},
   "outputs": [
    {
     "name": "stdout",
     "output_type": "stream",
     "text": [
      "Yes!\n"
     ]
    }
   ],
   "source": [
    "if re.search(my_exp, x2):\n",
    "    print(\"Yes!\")\n",
    "else:\n",
    "    print(\"No\")"
   ]
  },
  {
   "cell_type": "markdown",
   "id": "35e96da4-9ead-4c6f-b9db-8cef38e6f29b",
   "metadata": {},
   "source": [
    "2.5. Metacharacter:"
   ]
  },
  {
   "cell_type": "code",
   "execution_count": 30,
   "id": "07d8d217-b961-442c-8fef-315b6d09af4b",
   "metadata": {},
   "outputs": [],
   "source": [
    "# Target strings.\n",
    "x1 = \"I don't like you\"\n",
    "x2 = \"You are great\"\n",
    "x3 = \"in case you forget, remember this\"\n"
   ]
  },
  {
   "cell_type": "code",
   "execution_count": 31,
   "id": "73278506-98ec-4418-a05a-74265696fbe7",
   "metadata": {},
   "outputs": [],
   "source": [
    "# A regular expression.\n",
    "my_exp = \"^[Ii]\"\n"
   ]
  },
  {
   "cell_type": "code",
   "execution_count": 32,
   "id": "2d2b9b9c-cc78-42d0-87b8-2a2bd8700420",
   "metadata": {},
   "outputs": [
    {
     "name": "stdout",
     "output_type": "stream",
     "text": [
      "Yes!\n"
     ]
    }
   ],
   "source": [
    "if re.search(my_exp, x1):\n",
    "    print(\"Yes!\")\n",
    "else:\n",
    "    print(\"No\")\n"
   ]
  },
  {
   "cell_type": "code",
   "execution_count": 33,
   "id": "6f20126d-727b-40ff-880e-6e7f37db5b72",
   "metadata": {},
   "outputs": [
    {
     "name": "stdout",
     "output_type": "stream",
     "text": [
      "No\n"
     ]
    }
   ],
   "source": [
    "if re.search(my_exp, x2):\n",
    "    print(\"Yes!\")\n",
    "else:\n",
    "    print(\"No\")\n"
   ]
  },
  {
   "cell_type": "code",
   "execution_count": 34,
   "id": "3f3d3c67-26e1-48fc-8b03-40bcab3dbb52",
   "metadata": {},
   "outputs": [
    {
     "name": "stdout",
     "output_type": "stream",
     "text": [
      "Yes!\n"
     ]
    }
   ],
   "source": [
    "if re.search(my_exp, x3):\n",
    "    print(\"Yes!\")\n",
    "else:\n",
    "    print(\"No\")\n"
   ]
  },
  {
   "cell_type": "markdown",
   "id": "0853b33a-6cbe-4ffe-b8f4-c6786cccd5a9",
   "metadata": {},
   "source": [
    "More examples:\n"
   ]
  },
  {
   "cell_type": "code",
   "execution_count": 35,
   "id": "b25639ac-d2f0-4dd7-aa27-0c1e14b01a9a",
   "metadata": {},
   "outputs": [],
   "source": [
    "# Target strings.\n",
    "x1 = \"This is year 2019\"\n",
    "x2 = \"2000 is the year of my birth\""
   ]
  },
  {
   "cell_type": "code",
   "execution_count": 36,
   "id": "7a179caa-cd03-490b-9c78-f8089fd5bc58",
   "metadata": {},
   "outputs": [],
   "source": [
    "# A regular expression.\n",
    "my_exp = \"^[0-9]\""
   ]
  },
  {
   "cell_type": "code",
   "execution_count": 37,
   "id": "8aea6784-cf8c-442c-be4d-743f19509b30",
   "metadata": {},
   "outputs": [
    {
     "name": "stdout",
     "output_type": "stream",
     "text": [
      "No\n"
     ]
    }
   ],
   "source": [
    "if re.search(my_exp, x1):\n",
    "    print(\"Yes!\")\n",
    "else:\n",
    "    print(\"No\")"
   ]
  },
  {
   "cell_type": "code",
   "execution_count": 38,
   "id": "8c9c6f29-ea64-4f68-8060-2b3b649d393a",
   "metadata": {},
   "outputs": [
    {
     "name": "stdout",
     "output_type": "stream",
     "text": [
      "Yes!\n"
     ]
    }
   ],
   "source": [
    "if re.search(my_exp, x2):\n",
    "    print(\"Yes!\")\n",
    "else:\n",
    "    print(\"No\")\n"
   ]
  },
  {
   "cell_type": "markdown",
   "id": "a84211d3-c662-4bf5-aed1-f160b57a02d2",
   "metadata": {},
   "source": [
    "2.6. Metacharacter: $"
   ]
  },
  {
   "cell_type": "code",
   "execution_count": 39,
   "id": "cad0a126-0fdf-4fa1-875e-4e0dfedae94d",
   "metadata": {},
   "outputs": [],
   "source": [
    "# Target strings.\n",
    "x1 = \"Python is easy\"\n",
    "x2 = \"You need Python\"\n"
   ]
  },
  {
   "cell_type": "code",
   "execution_count": 40,
   "id": "1a0f39ab-0086-4507-af49-dc82f33f6c67",
   "metadata": {},
   "outputs": [],
   "source": [
    "# A regular expression.\n",
    "my_exp = \"Python$\"\n"
   ]
  },
  {
   "cell_type": "code",
   "execution_count": 41,
   "id": "e553686d-57a7-48cd-b7e4-62619075781b",
   "metadata": {},
   "outputs": [
    {
     "name": "stdout",
     "output_type": "stream",
     "text": [
      "No\n"
     ]
    }
   ],
   "source": [
    "if re.search(my_exp, x1):\n",
    "    print(\"Yes!\")\n",
    "else:\n",
    "    print(\"No\")\n"
   ]
  },
  {
   "cell_type": "code",
   "execution_count": 42,
   "id": "489a1648-1003-468a-9eb5-084dd8d48731",
   "metadata": {},
   "outputs": [
    {
     "name": "stdout",
     "output_type": "stream",
     "text": [
      "Yes!\n"
     ]
    }
   ],
   "source": [
    "if re.search(my_exp, x2):\n",
    "    print(\"Yes!\")\n",
    "else:\n",
    "    print(\"No\")\n"
   ]
  },
  {
   "cell_type": "markdown",
   "id": "d93c17e8-4c82-488f-aa7c-893bc909af16",
   "metadata": {},
   "source": [
    "2.7. Metacharacter: |"
   ]
  },
  {
   "cell_type": "code",
   "execution_count": 43,
   "id": "1aab8e1a-1c3b-4377-88b5-7b926553ffae",
   "metadata": {},
   "outputs": [],
   "source": [
    "# Target strings.\n",
    "x1 = \"I love you\"\n",
    "x2 = \"I hate you\"\n",
    "x3 = \"I like you\"\n"
   ]
  },
  {
   "cell_type": "code",
   "execution_count": 44,
   "id": "44b246f1-8eaa-40bb-bbbb-15eea81bbade",
   "metadata": {},
   "outputs": [],
   "source": [
    "# A regular expression.\n",
    "my_exp = \"love|hate\""
   ]
  },
  {
   "cell_type": "code",
   "execution_count": 45,
   "id": "85ae9d03-f40d-42f0-b7ea-01754ab8dfea",
   "metadata": {},
   "outputs": [
    {
     "name": "stdout",
     "output_type": "stream",
     "text": [
      "Yes!\n"
     ]
    }
   ],
   "source": [
    "if re.search(my_exp, x1):\n",
    "    print(\"Yes!\")\n",
    "else:\n",
    "    print(\"No\")\n"
   ]
  },
  {
   "cell_type": "code",
   "execution_count": 46,
   "id": "18a0a001-2af7-4dcc-a50a-bcca037b4e79",
   "metadata": {},
   "outputs": [
    {
     "name": "stdout",
     "output_type": "stream",
     "text": [
      "Yes!\n"
     ]
    }
   ],
   "source": [
    "if re.search(my_exp, x2):\n",
    "    print(\"Yes!\")\n",
    "else:\n",
    "    print(\"No\")\n"
   ]
  },
  {
   "cell_type": "code",
   "execution_count": 47,
   "id": "376367ad-899c-4778-94a3-011dc2c68784",
   "metadata": {},
   "outputs": [
    {
     "name": "stdout",
     "output_type": "stream",
     "text": [
      "No\n"
     ]
    }
   ],
   "source": [
    "if re.search(my_exp, x3):\n",
    "    print(\"Yes!\")\n",
    "else:\n",
    "    print(\"No\")\n"
   ]
  },
  {
   "cell_type": "markdown",
   "id": "da466b5a-2dfb-45ff-93c0-8a5878924c8d",
   "metadata": {},
   "source": [
    "2.8. sub() function:"
   ]
  },
  {
   "cell_type": "code",
   "execution_count": 48,
   "id": "4fb0e3a5-d12b-4440-9871-04390acceb88",
   "metadata": {},
   "outputs": [],
   "source": [
    "# Target strings.\n",
    "x1 = \"Welcome to the year 2018\"\n",
    "x2 = \"Just ~%* ++++--- arrived at @Jack's ##place.\"\n",
    "x3 = \"I love you.\""
   ]
  },
  {
   "cell_type": "code",
   "execution_count": 50,
   "id": "cd692c15-e7f2-4e09-952f-7bebe320cbce",
   "metadata": {},
   "outputs": [
    {
     "name": "stderr",
     "output_type": "stream",
     "text": [
      "<>:2: SyntaxWarning: invalid escape sequence '\\d'\n",
      "<>:2: SyntaxWarning: invalid escape sequence '\\d'\n",
      "C:\\Users\\Admin\\AppData\\Local\\Temp\\ipykernel_18680\\2010376939.py:2: SyntaxWarning: invalid escape sequence '\\d'\n",
      "  re.sub('\\d','X',x1)\n"
     ]
    },
    {
     "data": {
      "text/plain": [
       "'Welcome to the year XXXX'"
      ]
     },
     "execution_count": 50,
     "metadata": {},
     "output_type": "execute_result"
    }
   ],
   "source": [
    "# Substitute the matching pattern with 'X'.\n",
    "re.sub('\\d','X',x1)\n"
   ]
  },
  {
   "cell_type": "code",
   "execution_count": 51,
   "id": "350f1270-07cd-49c4-9676-8e32e9592d2d",
   "metadata": {},
   "outputs": [
    {
     "data": {
      "text/plain": [
       "\"Just             arrived at  Jack's   place.\""
      ]
     },
     "execution_count": 51,
     "metadata": {},
     "output_type": "execute_result"
    }
   ],
   "source": [
    "# Substitute the matching pattern with space.\n",
    "x2_modified = re.sub('[@~*#%+-]',' ',x2)\n",
    "x2_modified"
   ]
  },
  {
   "cell_type": "code",
   "execution_count": 52,
   "id": "0fc4003d-68d7-4a55-9eeb-0c8a6ac029e8",
   "metadata": {},
   "outputs": [
    {
     "name": "stderr",
     "output_type": "stream",
     "text": [
      "<>:2: SyntaxWarning: invalid escape sequence '\\s'\n",
      "<>:2: SyntaxWarning: invalid escape sequence '\\s'\n",
      "C:\\Users\\Admin\\AppData\\Local\\Temp\\ipykernel_18680\\582162888.py:2: SyntaxWarning: invalid escape sequence '\\s'\n",
      "  x2_final = re.sub('\\s+',' ',x2_modified)\n"
     ]
    },
    {
     "data": {
      "text/plain": [
       "\"Just arrived at Jack's place.\""
      ]
     },
     "execution_count": 52,
     "metadata": {},
     "output_type": "execute_result"
    }
   ],
   "source": [
    "# Remove the excessive spaces.\n",
    "x2_final = re.sub('\\s+',' ',x2_modified)\n",
    "x2_final\n"
   ]
  },
  {
   "cell_type": "code",
   "execution_count": 53,
   "id": "014f9477-0080-49fc-935b-69615ac60c55",
   "metadata": {},
   "outputs": [
    {
     "name": "stderr",
     "output_type": "stream",
     "text": [
      "<>:2: SyntaxWarning: invalid escape sequence '\\s'\n",
      "<>:2: SyntaxWarning: invalid escape sequence '\\s'\n",
      "C:\\Users\\Admin\\AppData\\Local\\Temp\\ipykernel_18680\\1186475234.py:2: SyntaxWarning: invalid escape sequence '\\s'\n",
      "  re.sub('\\s+',' ',x3)\n"
     ]
    },
    {
     "data": {
      "text/plain": [
       "'I love you.'"
      ]
     },
     "execution_count": 53,
     "metadata": {},
     "output_type": "execute_result"
    }
   ],
   "source": [
    "# Remove the excessive spaces.\n",
    "re.sub('\\s+',' ',x3)\n"
   ]
  },
  {
   "cell_type": "code",
   "execution_count": null,
   "id": "61f9008b-7089-4795-b76b-3c0ec9dbeb81",
   "metadata": {},
   "outputs": [],
   "source": []
  }
 ],
 "metadata": {
  "kernelspec": {
   "display_name": "Python 3 (ipykernel)",
   "language": "python",
   "name": "python3"
  },
  "language_info": {
   "codemirror_mode": {
    "name": "ipython",
    "version": 3
   },
   "file_extension": ".py",
   "mimetype": "text/x-python",
   "name": "python",
   "nbconvert_exporter": "python",
   "pygments_lexer": "ipython3",
   "version": "3.12.4"
  }
 },
 "nbformat": 4,
 "nbformat_minor": 5
}
